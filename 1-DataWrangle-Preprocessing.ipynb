{
 "cells": [
  {
   "cell_type": "markdown",
   "metadata": {},
   "source": [
    "**Content Disclaimer**: This dataset contains real title posts scraped from the r/depression subreddit, and some of the titles contain language that is not safe for work, crude, or offensive. The full dataset is available as `depression.csv`, `preprocessed_thoughts.csv`, `thoughts.csv`, and `token_df.csv`. Unfortunately, I did not provide a sanitized version of my dataset because the words contained were important for the analysis and understanding of the model. Please note that the model, the dataset, and the techniques used are not perfect. If you have any concerns about working with this dataset, looking at my analysis, or the topic in general, you can skip my content overall or click [here](http://iamsorry.com/)."
   ]
  },
  {
   "cell_type": "markdown",
   "metadata": {},
   "source": [
    "# Data Wrangling and Preprocessing Notebook"
   ]
  },
  {
   "cell_type": "markdown",
   "metadata": {},
   "source": [
    "# We will get data from `r/depression` and `r/Showerthoughts`"
   ]
  },
  {
   "cell_type": "code",
   "execution_count": 81,
   "metadata": {},
   "outputs": [],
   "source": [
    "import p3_tools as p3t\n",
    "\n",
    "import pandas as pd\n",
    "\n",
    "from nltk.tokenize import sent_tokenize, word_tokenize, RegexpTokenizer\n",
    "from nltk.stem import WordNetLemmatizer\n",
    "from nltk.stem.porter import PorterStemmer\n",
    "\n",
    "import re"
   ]
  },
  {
   "cell_type": "markdown",
   "metadata": {},
   "source": [
    "# Data Wrangling"
   ]
  },
  {
   "cell_type": "markdown",
   "metadata": {},
   "source": [
    "This cell is used to wrangle 10,000 posts from my selected subreddits."
   ]
  },
  {
   "cell_type": "code",
   "execution_count": 2,
   "metadata": {
    "collapsed": true,
    "jupyter": {
     "outputs_hidden": true
    }
   },
   "outputs": [
    {
     "name": "stdout",
     "output_type": "stream",
     "text": [
      "Wall time: 13min 47s\n"
     ]
    }
   ],
   "source": [
    "# %%time\n",
    "# shower_thoughts = p3t.get_posts('showerthoughts',10_000)\n",
    "# depression = p3t.get_posts('depression', 10_000)"
   ]
  },
  {
   "cell_type": "markdown",
   "metadata": {},
   "source": [
    "This cell was used to save them into csv files. In the csv files, it should only contain the subreddit it belongs to, the contents of self text and title."
   ]
  },
  {
   "cell_type": "code",
   "execution_count": 3,
   "metadata": {},
   "outputs": [],
   "source": [
    "# Save the dataframes\n",
    "# shower_thoughts.to_csv('saved_data/shower_thoughts.csv',index=False)\n",
    "# depression.to_csv('saved_data/depression.csv',index=False)"
   ]
  },
  {
   "cell_type": "markdown",
   "metadata": {},
   "source": [
    "This uses a concatenation function that combines the 2 dataframes and resets the index if need be. This will also save it to a csv file."
   ]
  },
  {
   "cell_type": "code",
   "execution_count": 9,
   "metadata": {},
   "outputs": [],
   "source": [
    "# df = p3t.concat_df([shower_thoughts, depression])"
   ]
  },
  {
   "cell_type": "code",
   "execution_count": 12,
   "metadata": {},
   "outputs": [],
   "source": [
    "# save big dataframe into csv\n",
    "# df.to_csv('saved_data/thoughts.csv',index=False)"
   ]
  },
  {
   "cell_type": "markdown",
   "metadata": {},
   "source": [
    "Then after all that, we can easily import my data from the csv files using `pandas`."
   ]
  },
  {
   "cell_type": "code",
   "execution_count": 2,
   "metadata": {},
   "outputs": [],
   "source": [
    "# import the data\n",
    "shower_thoughts = pd.read_csv('saved_data/shower_thoughts.csv')\n",
    "depression = pd.read_csv('saved_data/depression.csv')\n",
    "df = pd.read_csv('saved_data/thoughts.csv')"
   ]
  },
  {
   "cell_type": "code",
   "execution_count": 3,
   "metadata": {},
   "outputs": [
    {
     "data": {
      "text/html": [
       "<div>\n",
       "<style scoped>\n",
       "    .dataframe tbody tr th:only-of-type {\n",
       "        vertical-align: middle;\n",
       "    }\n",
       "\n",
       "    .dataframe tbody tr th {\n",
       "        vertical-align: top;\n",
       "    }\n",
       "\n",
       "    .dataframe thead th {\n",
       "        text-align: right;\n",
       "    }\n",
       "</style>\n",
       "<table border=\"1\" class=\"dataframe\">\n",
       "  <thead>\n",
       "    <tr style=\"text-align: right;\">\n",
       "      <th></th>\n",
       "      <th>subreddit</th>\n",
       "      <th>selftext</th>\n",
       "      <th>title</th>\n",
       "    </tr>\n",
       "  </thead>\n",
       "  <tbody>\n",
       "    <tr>\n",
       "      <th>0</th>\n",
       "      <td>Showerthoughts</td>\n",
       "      <td>[removed]</td>\n",
       "      <td>Vampires and skeletons are just different type...</td>\n",
       "    </tr>\n",
       "    <tr>\n",
       "      <th>1</th>\n",
       "      <td>Showerthoughts</td>\n",
       "      <td>NaN</td>\n",
       "      <td>Life is actually a telltale game because the c...</td>\n",
       "    </tr>\n",
       "    <tr>\n",
       "      <th>2</th>\n",
       "      <td>Showerthoughts</td>\n",
       "      <td>[removed]</td>\n",
       "      <td>Wouldn’t a botched circumcision just be a peni...</td>\n",
       "    </tr>\n",
       "    <tr>\n",
       "      <th>3</th>\n",
       "      <td>Showerthoughts</td>\n",
       "      <td>NaN</td>\n",
       "      <td>You might of made a decision that saved your l...</td>\n",
       "    </tr>\n",
       "    <tr>\n",
       "      <th>4</th>\n",
       "      <td>Showerthoughts</td>\n",
       "      <td>[removed]</td>\n",
       "      <td>If you have ever opened the toilet water tank,...</td>\n",
       "    </tr>\n",
       "  </tbody>\n",
       "</table>\n",
       "</div>"
      ],
      "text/plain": [
       "        subreddit   selftext  \\\n",
       "0  Showerthoughts  [removed]   \n",
       "1  Showerthoughts        NaN   \n",
       "2  Showerthoughts  [removed]   \n",
       "3  Showerthoughts        NaN   \n",
       "4  Showerthoughts  [removed]   \n",
       "\n",
       "                                               title  \n",
       "0  Vampires and skeletons are just different type...  \n",
       "1  Life is actually a telltale game because the c...  \n",
       "2  Wouldn’t a botched circumcision just be a peni...  \n",
       "3  You might of made a decision that saved your l...  \n",
       "4  If you have ever opened the toilet water tank,...  "
      ]
     },
     "execution_count": 3,
     "metadata": {},
     "output_type": "execute_result"
    }
   ],
   "source": [
    "shower_thoughts.head()"
   ]
  },
  {
   "cell_type": "code",
   "execution_count": 4,
   "metadata": {},
   "outputs": [
    {
     "data": {
      "text/html": [
       "<div>\n",
       "<style scoped>\n",
       "    .dataframe tbody tr th:only-of-type {\n",
       "        vertical-align: middle;\n",
       "    }\n",
       "\n",
       "    .dataframe tbody tr th {\n",
       "        vertical-align: top;\n",
       "    }\n",
       "\n",
       "    .dataframe thead th {\n",
       "        text-align: right;\n",
       "    }\n",
       "</style>\n",
       "<table border=\"1\" class=\"dataframe\">\n",
       "  <thead>\n",
       "    <tr style=\"text-align: right;\">\n",
       "      <th></th>\n",
       "      <th>subreddit</th>\n",
       "      <th>selftext</th>\n",
       "      <th>title</th>\n",
       "    </tr>\n",
       "  </thead>\n",
       "  <tbody>\n",
       "    <tr>\n",
       "      <th>0</th>\n",
       "      <td>depression</td>\n",
       "      <td>About a yr ago I was deep in a deep dark place...</td>\n",
       "      <td>Finally catching my breath.</td>\n",
       "    </tr>\n",
       "    <tr>\n",
       "      <th>1</th>\n",
       "      <td>depression</td>\n",
       "      <td>Hey, i´ve posted a few times here about how my...</td>\n",
       "      <td>\"Friends\"</td>\n",
       "    </tr>\n",
       "    <tr>\n",
       "      <th>2</th>\n",
       "      <td>depression</td>\n",
       "      <td>I fail college so I'm the failed one I guess n...</td>\n",
       "      <td>Yes, im a failure of a child but at least if y...</td>\n",
       "    </tr>\n",
       "    <tr>\n",
       "      <th>3</th>\n",
       "      <td>depression</td>\n",
       "      <td>#YoungPeople RoundTable’s second part is out! ...</td>\n",
       "      <td>Being Young With BiPolar</td>\n",
       "    </tr>\n",
       "    <tr>\n",
       "      <th>4</th>\n",
       "      <td>depression</td>\n",
       "      <td>I remember spending quality time with my littl...</td>\n",
       "      <td>Love is the only cure for my depression</td>\n",
       "    </tr>\n",
       "  </tbody>\n",
       "</table>\n",
       "</div>"
      ],
      "text/plain": [
       "    subreddit                                           selftext  \\\n",
       "0  depression  About a yr ago I was deep in a deep dark place...   \n",
       "1  depression  Hey, i´ve posted a few times here about how my...   \n",
       "2  depression  I fail college so I'm the failed one I guess n...   \n",
       "3  depression  #YoungPeople RoundTable’s second part is out! ...   \n",
       "4  depression  I remember spending quality time with my littl...   \n",
       "\n",
       "                                               title  \n",
       "0                        Finally catching my breath.  \n",
       "1                                          \"Friends\"  \n",
       "2  Yes, im a failure of a child but at least if y...  \n",
       "3                           Being Young With BiPolar  \n",
       "4            Love is the only cure for my depression  "
      ]
     },
     "execution_count": 4,
     "metadata": {},
     "output_type": "execute_result"
    }
   ],
   "source": [
    "depression.head()"
   ]
  },
  {
   "cell_type": "code",
   "execution_count": 5,
   "metadata": {},
   "outputs": [
    {
     "data": {
      "text/html": [
       "<div>\n",
       "<style scoped>\n",
       "    .dataframe tbody tr th:only-of-type {\n",
       "        vertical-align: middle;\n",
       "    }\n",
       "\n",
       "    .dataframe tbody tr th {\n",
       "        vertical-align: top;\n",
       "    }\n",
       "\n",
       "    .dataframe thead th {\n",
       "        text-align: right;\n",
       "    }\n",
       "</style>\n",
       "<table border=\"1\" class=\"dataframe\">\n",
       "  <thead>\n",
       "    <tr style=\"text-align: right;\">\n",
       "      <th></th>\n",
       "      <th>subreddit</th>\n",
       "      <th>selftext</th>\n",
       "      <th>title</th>\n",
       "    </tr>\n",
       "  </thead>\n",
       "  <tbody>\n",
       "    <tr>\n",
       "      <th>0</th>\n",
       "      <td>Showerthoughts</td>\n",
       "      <td>[removed]</td>\n",
       "      <td>Vampires and skeletons are just different type...</td>\n",
       "    </tr>\n",
       "    <tr>\n",
       "      <th>1</th>\n",
       "      <td>Showerthoughts</td>\n",
       "      <td>NaN</td>\n",
       "      <td>Life is actually a telltale game because the c...</td>\n",
       "    </tr>\n",
       "    <tr>\n",
       "      <th>2</th>\n",
       "      <td>Showerthoughts</td>\n",
       "      <td>[removed]</td>\n",
       "      <td>Wouldn’t a botched circumcision just be a peni...</td>\n",
       "    </tr>\n",
       "    <tr>\n",
       "      <th>3</th>\n",
       "      <td>Showerthoughts</td>\n",
       "      <td>NaN</td>\n",
       "      <td>You might of made a decision that saved your l...</td>\n",
       "    </tr>\n",
       "    <tr>\n",
       "      <th>4</th>\n",
       "      <td>Showerthoughts</td>\n",
       "      <td>[removed]</td>\n",
       "      <td>If you have ever opened the toilet water tank,...</td>\n",
       "    </tr>\n",
       "  </tbody>\n",
       "</table>\n",
       "</div>"
      ],
      "text/plain": [
       "        subreddit   selftext  \\\n",
       "0  Showerthoughts  [removed]   \n",
       "1  Showerthoughts        NaN   \n",
       "2  Showerthoughts  [removed]   \n",
       "3  Showerthoughts        NaN   \n",
       "4  Showerthoughts  [removed]   \n",
       "\n",
       "                                               title  \n",
       "0  Vampires and skeletons are just different type...  \n",
       "1  Life is actually a telltale game because the c...  \n",
       "2  Wouldn’t a botched circumcision just be a peni...  \n",
       "3  You might of made a decision that saved your l...  \n",
       "4  If you have ever opened the toilet water tank,...  "
      ]
     },
     "execution_count": 5,
     "metadata": {},
     "output_type": "execute_result"
    }
   ],
   "source": [
    "df.head()"
   ]
  },
  {
   "cell_type": "markdown",
   "metadata": {},
   "source": [
    "# \"Token Processing\""
   ]
  },
  {
   "cell_type": "markdown",
   "metadata": {},
   "source": [
    "The first thing to do after grabbing the posts and importing them into csv files is to convert the `subreddit` column into a binary category. \n",
    "```python\n",
    "[df['subreddit']=='depression'] = 1\n",
    "[df['subreddit']=='Showerthoughts'] = 0\n",
    "```"
   ]
  },
  {
   "cell_type": "code",
   "execution_count": 6,
   "metadata": {},
   "outputs": [],
   "source": [
    "df['subreddit'] = np.where(df['subreddit']=='depression',1,0)"
   ]
  },
  {
   "cell_type": "code",
   "execution_count": 7,
   "metadata": {},
   "outputs": [
    {
     "data": {
      "text/html": [
       "<div>\n",
       "<style scoped>\n",
       "    .dataframe tbody tr th:only-of-type {\n",
       "        vertical-align: middle;\n",
       "    }\n",
       "\n",
       "    .dataframe tbody tr th {\n",
       "        vertical-align: top;\n",
       "    }\n",
       "\n",
       "    .dataframe thead th {\n",
       "        text-align: right;\n",
       "    }\n",
       "</style>\n",
       "<table border=\"1\" class=\"dataframe\">\n",
       "  <thead>\n",
       "    <tr style=\"text-align: right;\">\n",
       "      <th></th>\n",
       "      <th>subreddit</th>\n",
       "      <th>selftext</th>\n",
       "      <th>title</th>\n",
       "    </tr>\n",
       "  </thead>\n",
       "  <tbody>\n",
       "    <tr>\n",
       "      <th>6415</th>\n",
       "      <td>0</td>\n",
       "      <td>[removed]</td>\n",
       "      <td>Do scary people get scared?</td>\n",
       "    </tr>\n",
       "    <tr>\n",
       "      <th>15297</th>\n",
       "      <td>1</td>\n",
       "      <td>I was in a relationship of 7 months. I gave ev...</td>\n",
       "      <td>Relationship ended I(22M) feel like nobody is ...</td>\n",
       "    </tr>\n",
       "    <tr>\n",
       "      <th>16482</th>\n",
       "      <td>1</td>\n",
       "      <td>Guys, I am very desperate to know this: this s...</td>\n",
       "      <td>Very important!!!</td>\n",
       "    </tr>\n",
       "  </tbody>\n",
       "</table>\n",
       "</div>"
      ],
      "text/plain": [
       "       subreddit                                           selftext  \\\n",
       "6415           0                                          [removed]   \n",
       "15297          1  I was in a relationship of 7 months. I gave ev...   \n",
       "16482          1  Guys, I am very desperate to know this: this s...   \n",
       "\n",
       "                                                   title  \n",
       "6415                         Do scary people get scared?  \n",
       "15297  Relationship ended I(22M) feel like nobody is ...  \n",
       "16482                                  Very important!!!  "
      ]
     },
     "execution_count": 7,
     "metadata": {},
     "output_type": "execute_result"
    }
   ],
   "source": [
    "df.sample(3)"
   ]
  },
  {
   "cell_type": "markdown",
   "metadata": {},
   "source": [
    "Next, we will make a column that splits the sentence into separate words. During this process, we will also pick words that exist in `nltk.corpus words.words()`. This may not include names not inside the library but that should not be an issue since those words might not play a huge role in analyzing the difference between one post and another.\n",
    "\n",
    "I will use these 2 regular expressions to help tokenize the sentences in each row under `df['title']`\n",
    "```python\n",
    "tokenizer = RegexpTokenizer(r'\\w+')\n",
    "tokenizer_2 = RegexpTokenizer('\\s+', gaps=True)\n",
    "tokenizer_3 = RegexpTokenizer('\\w+|\\$[\\d\\.]+|\\S+')\n",
    "```"
   ]
  },
  {
   "cell_type": "code",
   "execution_count": 8,
   "metadata": {},
   "outputs": [],
   "source": [
    "tokenizer = RegexpTokenizer(r'\\w+')"
   ]
  },
  {
   "cell_type": "code",
   "execution_count": 63,
   "metadata": {},
   "outputs": [
    {
     "data": {
      "text/plain": [
       "['I', 'm', 'always', 'the', 'last', 'choice']"
      ]
     },
     "execution_count": 63,
     "metadata": {},
     "output_type": "execute_result"
    }
   ],
   "source": [
    "tokenizer.tokenize('I\\'m always the last choice.')"
   ]
  },
  {
   "cell_type": "code",
   "execution_count": 9,
   "metadata": {},
   "outputs": [],
   "source": [
    "df['word_count'] = [len(tokenizer.tokenize(sentence)) for sentence in df['title']]"
   ]
  },
  {
   "cell_type": "code",
   "execution_count": 10,
   "metadata": {},
   "outputs": [],
   "source": [
    "# create tokens for each title\n",
    "df['tokens'] = [tokenizer.tokenize(sentence) for sentence in df['title']]"
   ]
  },
  {
   "cell_type": "code",
   "execution_count": 11,
   "metadata": {},
   "outputs": [
    {
     "data": {
      "text/html": [
       "<div>\n",
       "<style scoped>\n",
       "    .dataframe tbody tr th:only-of-type {\n",
       "        vertical-align: middle;\n",
       "    }\n",
       "\n",
       "    .dataframe tbody tr th {\n",
       "        vertical-align: top;\n",
       "    }\n",
       "\n",
       "    .dataframe thead th {\n",
       "        text-align: right;\n",
       "    }\n",
       "</style>\n",
       "<table border=\"1\" class=\"dataframe\">\n",
       "  <thead>\n",
       "    <tr style=\"text-align: right;\">\n",
       "      <th></th>\n",
       "      <th>subreddit</th>\n",
       "      <th>selftext</th>\n",
       "      <th>title</th>\n",
       "      <th>word_count</th>\n",
       "      <th>tokens</th>\n",
       "    </tr>\n",
       "  </thead>\n",
       "  <tbody>\n",
       "    <tr>\n",
       "      <th>19213</th>\n",
       "      <td>1</td>\n",
       "      <td>i’m 16m and want to cut myself. i want to feel...</td>\n",
       "      <td>i need help</td>\n",
       "      <td>3</td>\n",
       "      <td>[i, need, help]</td>\n",
       "    </tr>\n",
       "    <tr>\n",
       "      <th>4478</th>\n",
       "      <td>0</td>\n",
       "      <td>[removed]</td>\n",
       "      <td>If I could end racism, have world peace, or wi...</td>\n",
       "      <td>18</td>\n",
       "      <td>[If, I, could, end, racism, have, world, peace...</td>\n",
       "    </tr>\n",
       "    <tr>\n",
       "      <th>18738</th>\n",
       "      <td>1</td>\n",
       "      <td>Who knew that they could come back? Lol</td>\n",
       "      <td>I'm having suicidal thoughts again</td>\n",
       "      <td>6</td>\n",
       "      <td>[I, m, having, suicidal, thoughts, again]</td>\n",
       "    </tr>\n",
       "  </tbody>\n",
       "</table>\n",
       "</div>"
      ],
      "text/plain": [
       "       subreddit                                           selftext  \\\n",
       "19213          1  i’m 16m and want to cut myself. i want to feel...   \n",
       "4478           0                                          [removed]   \n",
       "18738          1            Who knew that they could come back? Lol   \n",
       "\n",
       "                                                   title  word_count  \\\n",
       "19213                                        i need help           3   \n",
       "4478   If I could end racism, have world peace, or wi...          18   \n",
       "18738                 I'm having suicidal thoughts again           6   \n",
       "\n",
       "                                                  tokens  \n",
       "19213                                    [i, need, help]  \n",
       "4478   [If, I, could, end, racism, have, world, peace...  \n",
       "18738          [I, m, having, suicidal, thoughts, again]  "
      ]
     },
     "execution_count": 11,
     "metadata": {},
     "output_type": "execute_result"
    }
   ],
   "source": [
    "df.sample(3)"
   ]
  },
  {
   "cell_type": "markdown",
   "metadata": {},
   "source": [
    "I will also show a character count. This will include spaces and punctuations. We will treat each character like how Twitter treats each character. Everything counts."
   ]
  },
  {
   "cell_type": "code",
   "execution_count": 12,
   "metadata": {},
   "outputs": [],
   "source": [
    "df['char_count'] = [len(sentence) for sentence in df['title']]"
   ]
  },
  {
   "cell_type": "code",
   "execution_count": 13,
   "metadata": {},
   "outputs": [
    {
     "data": {
      "text/html": [
       "<div>\n",
       "<style scoped>\n",
       "    .dataframe tbody tr th:only-of-type {\n",
       "        vertical-align: middle;\n",
       "    }\n",
       "\n",
       "    .dataframe tbody tr th {\n",
       "        vertical-align: top;\n",
       "    }\n",
       "\n",
       "    .dataframe thead th {\n",
       "        text-align: right;\n",
       "    }\n",
       "</style>\n",
       "<table border=\"1\" class=\"dataframe\">\n",
       "  <thead>\n",
       "    <tr style=\"text-align: right;\">\n",
       "      <th></th>\n",
       "      <th>subreddit</th>\n",
       "      <th>selftext</th>\n",
       "      <th>title</th>\n",
       "      <th>word_count</th>\n",
       "      <th>tokens</th>\n",
       "      <th>char_count</th>\n",
       "    </tr>\n",
       "  </thead>\n",
       "  <tbody>\n",
       "    <tr>\n",
       "      <th>9472</th>\n",
       "      <td>0</td>\n",
       "      <td>[removed]</td>\n",
       "      <td>Thanks to atomic weapons humanity is closest y...</td>\n",
       "      <td>14</td>\n",
       "      <td>[Thanks, to, atomic, weapons, humanity, is, cl...</td>\n",
       "      <td>87</td>\n",
       "    </tr>\n",
       "    <tr>\n",
       "      <th>16201</th>\n",
       "      <td>1</td>\n",
       "      <td>So this year I’ve finally decided to look into...</td>\n",
       "      <td>What is depression?</td>\n",
       "      <td>3</td>\n",
       "      <td>[What, is, depression]</td>\n",
       "      <td>19</td>\n",
       "    </tr>\n",
       "    <tr>\n",
       "      <th>1058</th>\n",
       "      <td>0</td>\n",
       "      <td>NaN</td>\n",
       "      <td>We’re the only animals that’ll hold our breath...</td>\n",
       "      <td>13</td>\n",
       "      <td>[We, re, the, only, animals, that, ll, hold, o...</td>\n",
       "      <td>61</td>\n",
       "    </tr>\n",
       "  </tbody>\n",
       "</table>\n",
       "</div>"
      ],
      "text/plain": [
       "       subreddit                                           selftext  \\\n",
       "9472           0                                          [removed]   \n",
       "16201          1  So this year I’ve finally decided to look into...   \n",
       "1058           0                                                NaN   \n",
       "\n",
       "                                                   title  word_count  \\\n",
       "9472   Thanks to atomic weapons humanity is closest y...          14   \n",
       "16201                                What is depression?           3   \n",
       "1058   We’re the only animals that’ll hold our breath...          13   \n",
       "\n",
       "                                                  tokens  char_count  \n",
       "9472   [Thanks, to, atomic, weapons, humanity, is, cl...          87  \n",
       "16201                             [What, is, depression]          19  \n",
       "1058   [We, re, the, only, animals, that, ll, hold, o...          61  "
      ]
     },
     "execution_count": 13,
     "metadata": {},
     "output_type": "execute_result"
    }
   ],
   "source": [
    "df.sample(3)"
   ]
  },
  {
   "cell_type": "markdown",
   "metadata": {},
   "source": [
    "Next, I want to add a column that contains a lemmatized and porter stemmed version of a title's post. But first I will create a column that contain a title's tokens."
   ]
  },
  {
   "cell_type": "code",
   "execution_count": 15,
   "metadata": {},
   "outputs": [],
   "source": [
    "lemmatizer= WordNetLemmatizer()"
   ]
  },
  {
   "cell_type": "code",
   "execution_count": 18,
   "metadata": {},
   "outputs": [],
   "source": [
    "df['lem_tokens'] = [[lemmatizer.lemmatize(token.lower())for token in row] for row in df['tokens']]"
   ]
  },
  {
   "cell_type": "code",
   "execution_count": 19,
   "metadata": {},
   "outputs": [
    {
     "data": {
      "text/html": [
       "<div>\n",
       "<style scoped>\n",
       "    .dataframe tbody tr th:only-of-type {\n",
       "        vertical-align: middle;\n",
       "    }\n",
       "\n",
       "    .dataframe tbody tr th {\n",
       "        vertical-align: top;\n",
       "    }\n",
       "\n",
       "    .dataframe thead th {\n",
       "        text-align: right;\n",
       "    }\n",
       "</style>\n",
       "<table border=\"1\" class=\"dataframe\">\n",
       "  <thead>\n",
       "    <tr style=\"text-align: right;\">\n",
       "      <th></th>\n",
       "      <th>subreddit</th>\n",
       "      <th>selftext</th>\n",
       "      <th>title</th>\n",
       "      <th>word_count</th>\n",
       "      <th>tokens</th>\n",
       "      <th>char_count</th>\n",
       "      <th>lem_tokens</th>\n",
       "    </tr>\n",
       "  </thead>\n",
       "  <tbody>\n",
       "    <tr>\n",
       "      <th>9046</th>\n",
       "      <td>0</td>\n",
       "      <td>[removed]</td>\n",
       "      <td>Stress</td>\n",
       "      <td>1</td>\n",
       "      <td>[Stress]</td>\n",
       "      <td>6</td>\n",
       "      <td>[stress]</td>\n",
       "    </tr>\n",
       "    <tr>\n",
       "      <th>4197</th>\n",
       "      <td>0</td>\n",
       "      <td>[removed]</td>\n",
       "      <td>When an olympic weightlifter goes to the olymp...</td>\n",
       "      <td>14</td>\n",
       "      <td>[When, an, olympic, weightlifter, goes, to, th...</td>\n",
       "      <td>88</td>\n",
       "      <td>[when, an, olympic, weightlifter, go, to, the,...</td>\n",
       "    </tr>\n",
       "    <tr>\n",
       "      <th>14886</th>\n",
       "      <td>1</td>\n",
       "      <td>Earlier I felt like I was on top of the world....</td>\n",
       "      <td>My head feels fucked up</td>\n",
       "      <td>5</td>\n",
       "      <td>[My, head, feels, fucked, up]</td>\n",
       "      <td>23</td>\n",
       "      <td>[my, head, feel, fucked, up]</td>\n",
       "    </tr>\n",
       "  </tbody>\n",
       "</table>\n",
       "</div>"
      ],
      "text/plain": [
       "       subreddit                                           selftext  \\\n",
       "9046           0                                          [removed]   \n",
       "4197           0                                          [removed]   \n",
       "14886          1  Earlier I felt like I was on top of the world....   \n",
       "\n",
       "                                                   title  word_count  \\\n",
       "9046                                              Stress           1   \n",
       "4197   When an olympic weightlifter goes to the olymp...          14   \n",
       "14886                            My head feels fucked up           5   \n",
       "\n",
       "                                                  tokens  char_count  \\\n",
       "9046                                            [Stress]           6   \n",
       "4197   [When, an, olympic, weightlifter, goes, to, th...          88   \n",
       "14886                      [My, head, feels, fucked, up]          23   \n",
       "\n",
       "                                              lem_tokens  \n",
       "9046                                            [stress]  \n",
       "4197   [when, an, olympic, weightlifter, go, to, the,...  \n",
       "14886                       [my, head, feel, fucked, up]  "
      ]
     },
     "execution_count": 19,
     "metadata": {},
     "output_type": "execute_result"
    }
   ],
   "source": [
    "df.sample(3)"
   ]
  },
  {
   "cell_type": "markdown",
   "metadata": {},
   "source": [
    "I created a PorterStemmer column as well for completionist sake."
   ]
  },
  {
   "cell_type": "code",
   "execution_count": 23,
   "metadata": {},
   "outputs": [],
   "source": [
    "p_stemmer = PorterStemmer()"
   ]
  },
  {
   "cell_type": "code",
   "execution_count": 24,
   "metadata": {},
   "outputs": [],
   "source": [
    "df['pstem_words'] = [[p_stemmer.stem(token.lower()) for token in row] for row in df['tokens']]"
   ]
  },
  {
   "cell_type": "code",
   "execution_count": 25,
   "metadata": {},
   "outputs": [
    {
     "data": {
      "text/html": [
       "<div>\n",
       "<style scoped>\n",
       "    .dataframe tbody tr th:only-of-type {\n",
       "        vertical-align: middle;\n",
       "    }\n",
       "\n",
       "    .dataframe tbody tr th {\n",
       "        vertical-align: top;\n",
       "    }\n",
       "\n",
       "    .dataframe thead th {\n",
       "        text-align: right;\n",
       "    }\n",
       "</style>\n",
       "<table border=\"1\" class=\"dataframe\">\n",
       "  <thead>\n",
       "    <tr style=\"text-align: right;\">\n",
       "      <th></th>\n",
       "      <th>subreddit</th>\n",
       "      <th>selftext</th>\n",
       "      <th>title</th>\n",
       "      <th>word_count</th>\n",
       "      <th>tokens</th>\n",
       "      <th>char_count</th>\n",
       "      <th>lem_tokens</th>\n",
       "      <th>pstem_words</th>\n",
       "    </tr>\n",
       "  </thead>\n",
       "  <tbody>\n",
       "    <tr>\n",
       "      <th>8644</th>\n",
       "      <td>0</td>\n",
       "      <td>NaN</td>\n",
       "      <td>If you expect the unexpected, the outcome will...</td>\n",
       "      <td>21</td>\n",
       "      <td>[If, you, expect, the, unexpected, the, outcom...</td>\n",
       "      <td>129</td>\n",
       "      <td>[if, you, expect, the, unexpected, the, outcom...</td>\n",
       "      <td>[if, you, expect, the, unexpect, the, outcom, ...</td>\n",
       "    </tr>\n",
       "    <tr>\n",
       "      <th>11841</th>\n",
       "      <td>1</td>\n",
       "      <td>I have had depression for over a decade, and e...</td>\n",
       "      <td>For those with depression that is under contro...</td>\n",
       "      <td>13</td>\n",
       "      <td>[For, those, with, depression, that, is, under...</td>\n",
       "      <td>78</td>\n",
       "      <td>[for, those, with, depression, that, is, under...</td>\n",
       "      <td>[for, those, with, depress, that, is, under, c...</td>\n",
       "    </tr>\n",
       "    <tr>\n",
       "      <th>5163</th>\n",
       "      <td>0</td>\n",
       "      <td>NaN</td>\n",
       "      <td>If flowering plants did porn, most of it will ...</td>\n",
       "      <td>15</td>\n",
       "      <td>[If, flowering, plants, did, porn, most, of, i...</td>\n",
       "      <td>87</td>\n",
       "      <td>[if, flowering, plant, did, porn, most, of, it...</td>\n",
       "      <td>[if, flower, plant, did, porn, most, of, it, w...</td>\n",
       "    </tr>\n",
       "  </tbody>\n",
       "</table>\n",
       "</div>"
      ],
      "text/plain": [
       "       subreddit                                           selftext  \\\n",
       "8644           0                                                NaN   \n",
       "11841          1  I have had depression for over a decade, and e...   \n",
       "5163           0                                                NaN   \n",
       "\n",
       "                                                   title  word_count  \\\n",
       "8644   If you expect the unexpected, the outcome will...          21   \n",
       "11841  For those with depression that is under contro...          13   \n",
       "5163   If flowering plants did porn, most of it will ...          15   \n",
       "\n",
       "                                                  tokens  char_count  \\\n",
       "8644   [If, you, expect, the, unexpected, the, outcom...         129   \n",
       "11841  [For, those, with, depression, that, is, under...          78   \n",
       "5163   [If, flowering, plants, did, porn, most, of, i...          87   \n",
       "\n",
       "                                              lem_tokens  \\\n",
       "8644   [if, you, expect, the, unexpected, the, outcom...   \n",
       "11841  [for, those, with, depression, that, is, under...   \n",
       "5163   [if, flowering, plant, did, porn, most, of, it...   \n",
       "\n",
       "                                             pstem_words  \n",
       "8644   [if, you, expect, the, unexpect, the, outcom, ...  \n",
       "11841  [for, those, with, depress, that, is, under, c...  \n",
       "5163   [if, flower, plant, did, porn, most, of, it, w...  "
      ]
     },
     "execution_count": 25,
     "metadata": {},
     "output_type": "execute_result"
    }
   ],
   "source": [
    "df.sample(3)"
   ]
  },
  {
   "cell_type": "markdown",
   "metadata": {},
   "source": [
    "I also wanted to show a list of stop words for each post title. This is also for completionist's sake."
   ]
  },
  {
   "cell_type": "code",
   "execution_count": 48,
   "metadata": {},
   "outputs": [],
   "source": [
    "df['stopwords'] = [set([token.lower() for token in row if token.lower() in stopwords.words('english')]) for row in df['tokens']]"
   ]
  },
  {
   "cell_type": "code",
   "execution_count": 50,
   "metadata": {},
   "outputs": [
    {
     "data": {
      "text/html": [
       "<div>\n",
       "<style scoped>\n",
       "    .dataframe tbody tr th:only-of-type {\n",
       "        vertical-align: middle;\n",
       "    }\n",
       "\n",
       "    .dataframe tbody tr th {\n",
       "        vertical-align: top;\n",
       "    }\n",
       "\n",
       "    .dataframe thead th {\n",
       "        text-align: right;\n",
       "    }\n",
       "</style>\n",
       "<table border=\"1\" class=\"dataframe\">\n",
       "  <thead>\n",
       "    <tr style=\"text-align: right;\">\n",
       "      <th></th>\n",
       "      <th>subreddit</th>\n",
       "      <th>selftext</th>\n",
       "      <th>title</th>\n",
       "      <th>word_count</th>\n",
       "      <th>tokens</th>\n",
       "      <th>char_count</th>\n",
       "      <th>lem_tokens</th>\n",
       "      <th>pstem_words</th>\n",
       "      <th>stopwords</th>\n",
       "    </tr>\n",
       "  </thead>\n",
       "  <tbody>\n",
       "    <tr>\n",
       "      <th>17685</th>\n",
       "      <td>1</td>\n",
       "      <td>I did not intend to write this-\\n\\n\\-\\n\\nI am ...</td>\n",
       "      <td>Unexpectedly Personal</td>\n",
       "      <td>2</td>\n",
       "      <td>[Unexpectedly, Personal]</td>\n",
       "      <td>21</td>\n",
       "      <td>[unexpectedly, personal]</td>\n",
       "      <td>[unexpectedli, person]</td>\n",
       "      <td>{}</td>\n",
       "    </tr>\n",
       "    <tr>\n",
       "      <th>14802</th>\n",
       "      <td>1</td>\n",
       "      <td>\\nA story about Mary Ruth\\n\\nShe was losing he...</td>\n",
       "      <td>Death Eyes</td>\n",
       "      <td>2</td>\n",
       "      <td>[Death, Eyes]</td>\n",
       "      <td>10</td>\n",
       "      <td>[death, eye]</td>\n",
       "      <td>[death, eye]</td>\n",
       "      <td>{}</td>\n",
       "    </tr>\n",
       "    <tr>\n",
       "      <th>5614</th>\n",
       "      <td>0</td>\n",
       "      <td>NaN</td>\n",
       "      <td>One unrealistic thing about the bible is peopl...</td>\n",
       "      <td>39</td>\n",
       "      <td>[One, unrealistic, thing, about, the, bible, i...</td>\n",
       "      <td>223</td>\n",
       "      <td>[one, unrealistic, thing, about, the, bible, i...</td>\n",
       "      <td>[one, unrealist, thing, about, the, bibl, is, ...</td>\n",
       "      <td>{to, being, for, from, in, is, are, s, about, ...</td>\n",
       "    </tr>\n",
       "  </tbody>\n",
       "</table>\n",
       "</div>"
      ],
      "text/plain": [
       "       subreddit                                           selftext  \\\n",
       "17685          1  I did not intend to write this-\\n\\n\\-\\n\\nI am ...   \n",
       "14802          1  \\nA story about Mary Ruth\\n\\nShe was losing he...   \n",
       "5614           0                                                NaN   \n",
       "\n",
       "                                                   title  word_count  \\\n",
       "17685                              Unexpectedly Personal           2   \n",
       "14802                                         Death Eyes           2   \n",
       "5614   One unrealistic thing about the bible is peopl...          39   \n",
       "\n",
       "                                                  tokens  char_count  \\\n",
       "17685                           [Unexpectedly, Personal]          21   \n",
       "14802                                      [Death, Eyes]          10   \n",
       "5614   [One, unrealistic, thing, about, the, bible, i...         223   \n",
       "\n",
       "                                              lem_tokens  \\\n",
       "17685                           [unexpectedly, personal]   \n",
       "14802                                       [death, eye]   \n",
       "5614   [one, unrealistic, thing, about, the, bible, i...   \n",
       "\n",
       "                                             pstem_words  \\\n",
       "17685                             [unexpectedli, person]   \n",
       "14802                                       [death, eye]   \n",
       "5614   [one, unrealist, thing, about, the, bibl, is, ...   \n",
       "\n",
       "                                               stopwords  \n",
       "17685                                                 {}  \n",
       "14802                                                 {}  \n",
       "5614   {to, being, for, from, in, is, are, s, about, ...  "
      ]
     },
     "execution_count": 50,
     "metadata": {},
     "output_type": "execute_result"
    }
   ],
   "source": [
    "df.sample(3)"
   ]
  },
  {
   "cell_type": "code",
   "execution_count": 51,
   "metadata": {},
   "outputs": [],
   "source": [
    "# saved this processed dataframe\n",
    "# df.to_csv('saved_data/token_df.csv')"
   ]
  },
  {
   "cell_type": "markdown",
   "metadata": {},
   "source": [
    "# Proper Preprocessing"
   ]
  },
  {
   "cell_type": "markdown",
   "metadata": {},
   "source": [
    "Let's start back with a clean dataframe of the thoughts.csv"
   ]
  },
  {
   "cell_type": "code",
   "execution_count": 84,
   "metadata": {},
   "outputs": [],
   "source": [
    "# thoughts \"is\" the same as df before token processing\n",
    "thoughts = pd.read_csv('saved_data/thoughts.csv')"
   ]
  },
  {
   "cell_type": "code",
   "execution_count": 85,
   "metadata": {},
   "outputs": [
    {
     "data": {
      "text/html": [
       "<div>\n",
       "<style scoped>\n",
       "    .dataframe tbody tr th:only-of-type {\n",
       "        vertical-align: middle;\n",
       "    }\n",
       "\n",
       "    .dataframe tbody tr th {\n",
       "        vertical-align: top;\n",
       "    }\n",
       "\n",
       "    .dataframe thead th {\n",
       "        text-align: right;\n",
       "    }\n",
       "</style>\n",
       "<table border=\"1\" class=\"dataframe\">\n",
       "  <thead>\n",
       "    <tr style=\"text-align: right;\">\n",
       "      <th></th>\n",
       "      <th>subreddit</th>\n",
       "      <th>selftext</th>\n",
       "      <th>title</th>\n",
       "    </tr>\n",
       "  </thead>\n",
       "  <tbody>\n",
       "    <tr>\n",
       "      <th>0</th>\n",
       "      <td>Showerthoughts</td>\n",
       "      <td>[removed]</td>\n",
       "      <td>Vampires and skeletons are just different type...</td>\n",
       "    </tr>\n",
       "    <tr>\n",
       "      <th>1</th>\n",
       "      <td>Showerthoughts</td>\n",
       "      <td>NaN</td>\n",
       "      <td>Life is actually a telltale game because the c...</td>\n",
       "    </tr>\n",
       "    <tr>\n",
       "      <th>2</th>\n",
       "      <td>Showerthoughts</td>\n",
       "      <td>[removed]</td>\n",
       "      <td>Wouldn’t a botched circumcision just be a peni...</td>\n",
       "    </tr>\n",
       "    <tr>\n",
       "      <th>3</th>\n",
       "      <td>Showerthoughts</td>\n",
       "      <td>NaN</td>\n",
       "      <td>You might of made a decision that saved your l...</td>\n",
       "    </tr>\n",
       "    <tr>\n",
       "      <th>4</th>\n",
       "      <td>Showerthoughts</td>\n",
       "      <td>[removed]</td>\n",
       "      <td>If you have ever opened the toilet water tank,...</td>\n",
       "    </tr>\n",
       "  </tbody>\n",
       "</table>\n",
       "</div>"
      ],
      "text/plain": [
       "        subreddit   selftext  \\\n",
       "0  Showerthoughts  [removed]   \n",
       "1  Showerthoughts        NaN   \n",
       "2  Showerthoughts  [removed]   \n",
       "3  Showerthoughts        NaN   \n",
       "4  Showerthoughts  [removed]   \n",
       "\n",
       "                                               title  \n",
       "0  Vampires and skeletons are just different type...  \n",
       "1  Life is actually a telltale game because the c...  \n",
       "2  Wouldn’t a botched circumcision just be a peni...  \n",
       "3  You might of made a decision that saved your l...  \n",
       "4  If you have ever opened the toilet water tank,...  "
      ]
     },
     "execution_count": 85,
     "metadata": {},
     "output_type": "execute_result"
    }
   ],
   "source": [
    "thoughts.head()"
   ]
  },
  {
   "cell_type": "code",
   "execution_count": 86,
   "metadata": {},
   "outputs": [
    {
     "data": {
      "text/plain": [
       "(20000, 3)"
      ]
     },
     "execution_count": 86,
     "metadata": {},
     "output_type": "execute_result"
    }
   ],
   "source": [
    "thoughts.shape"
   ]
  },
  {
   "cell_type": "markdown",
   "metadata": {},
   "source": [
    "The first thing to do after grabbing the posts and importing them into csv files is to convert the `subreddit` column into a binary category. \n",
    "```python\n",
    "[df['subreddit']=='depression'] = 1\n",
    "[df['subreddit']=='Showerthoughts'] = 0\n",
    "```"
   ]
  },
  {
   "cell_type": "code",
   "execution_count": 87,
   "metadata": {},
   "outputs": [],
   "source": [
    "thoughts['subreddit'] = np.where(thoughts['subreddit']=='depression',1,0)"
   ]
  },
  {
   "cell_type": "markdown",
   "metadata": {},
   "source": [
    "Next find word and character count. We will create `word_count` and `char_count`."
   ]
  },
  {
   "cell_type": "code",
   "execution_count": 88,
   "metadata": {},
   "outputs": [],
   "source": [
    "thoughts['word_count'] = [len(sent.split()) for sent in thoughts['title']]\n",
    "thoughts['char_count'] = [len(sent) for sent in thoughts['title']]"
   ]
  },
  {
   "cell_type": "code",
   "execution_count": 89,
   "metadata": {},
   "outputs": [
    {
     "data": {
      "text/html": [
       "<div>\n",
       "<style scoped>\n",
       "    .dataframe tbody tr th:only-of-type {\n",
       "        vertical-align: middle;\n",
       "    }\n",
       "\n",
       "    .dataframe tbody tr th {\n",
       "        vertical-align: top;\n",
       "    }\n",
       "\n",
       "    .dataframe thead th {\n",
       "        text-align: right;\n",
       "    }\n",
       "</style>\n",
       "<table border=\"1\" class=\"dataframe\">\n",
       "  <thead>\n",
       "    <tr style=\"text-align: right;\">\n",
       "      <th></th>\n",
       "      <th>subreddit</th>\n",
       "      <th>selftext</th>\n",
       "      <th>title</th>\n",
       "      <th>word_count</th>\n",
       "      <th>char_count</th>\n",
       "    </tr>\n",
       "  </thead>\n",
       "  <tbody>\n",
       "    <tr>\n",
       "      <th>6448</th>\n",
       "      <td>0</td>\n",
       "      <td>NaN</td>\n",
       "      <td>breathing is agreeing to keep living on</td>\n",
       "      <td>7</td>\n",
       "      <td>39</td>\n",
       "    </tr>\n",
       "    <tr>\n",
       "      <th>8022</th>\n",
       "      <td>0</td>\n",
       "      <td>[removed]</td>\n",
       "      <td>Proper use of the word “infamous”</td>\n",
       "      <td>6</td>\n",
       "      <td>33</td>\n",
       "    </tr>\n",
       "    <tr>\n",
       "      <th>9113</th>\n",
       "      <td>0</td>\n",
       "      <td>NaN</td>\n",
       "      <td>Blood bending is so common they have laws agai...</td>\n",
       "      <td>24</td>\n",
       "      <td>138</td>\n",
       "    </tr>\n",
       "  </tbody>\n",
       "</table>\n",
       "</div>"
      ],
      "text/plain": [
       "      subreddit   selftext                                              title  \\\n",
       "6448          0        NaN            breathing is agreeing to keep living on   \n",
       "8022          0  [removed]                  Proper use of the word “infamous”   \n",
       "9113          0        NaN  Blood bending is so common they have laws agai...   \n",
       "\n",
       "      word_count  char_count  \n",
       "6448           7          39  \n",
       "8022           6          33  \n",
       "9113          24         138  "
      ]
     },
     "execution_count": 89,
     "metadata": {},
     "output_type": "execute_result"
    }
   ],
   "source": [
    "thoughts.sample(3)"
   ]
  },
  {
   "cell_type": "markdown",
   "metadata": {},
   "source": [
    "I will drop the 'selftext' column since it does not help me and there are too many '[deleted]' posts. So for the sake of our analysis, it is not needed.\n",
    "\n",
    "In the depression subreddit, there is a lot of self text while most people on the shower thoughts subreddit have barely anything at all. So I will remove it."
   ]
  },
  {
   "cell_type": "code",
   "execution_count": 90,
   "metadata": {},
   "outputs": [],
   "source": [
    "thoughts.drop(columns='selftext',inplace=True)"
   ]
  },
  {
   "cell_type": "markdown",
   "metadata": {},
   "source": [
    "### Saved the preprocessed dataframe to do EDA in another notebook"
   ]
  },
  {
   "cell_type": "code",
   "execution_count": 91,
   "metadata": {},
   "outputs": [],
   "source": [
    "# thoughts.to_csv('saved_data/preprocessed_thoughts.csv', index=False)"
   ]
  },
  {
   "cell_type": "code",
   "execution_count": null,
   "metadata": {},
   "outputs": [],
   "source": []
  }
 ],
 "metadata": {
  "kernelspec": {
   "display_name": "Python [conda env:dsi]",
   "language": "python",
   "name": "conda-env-dsi-py"
  },
  "language_info": {
   "codemirror_mode": {
    "name": "ipython",
    "version": 3
   },
   "file_extension": ".py",
   "mimetype": "text/x-python",
   "name": "python",
   "nbconvert_exporter": "python",
   "pygments_lexer": "ipython3",
   "version": "3.8.3"
  }
 },
 "nbformat": 4,
 "nbformat_minor": 4
}
