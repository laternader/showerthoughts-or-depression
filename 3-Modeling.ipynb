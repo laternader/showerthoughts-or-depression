{
 "cells": [
  {
   "cell_type": "markdown",
   "metadata": {},
   "source": [
    "**Content Disclaimer**: This dataset contains real title posts scraped from the r/depression subreddit, and some of the titles contain language that is not safe for work, crude, or offensive. The full dataset is available as `depression.csv`, `preprocessed_thoughts.csv`, `thoughts.csv`, and `token_df.csv`. Unfortunately, I did not provide a sanitized version of my dataset because the words contained were important for the analysis and understanding of the model. Please note that the model, the dataset, and the techniques used are not perfect. If you have any concerns about working with this dataset, looking at my analysis, or the topic in general, you can skip my content overall or click [here](http://iamsorry.com/)."
   ]
  },
  {
   "cell_type": "markdown",
   "metadata": {},
   "source": [
    "# Modeling Notebook"
   ]
  },
  {
   "cell_type": "markdown",
   "metadata": {},
   "source": [
    "# Imports"
   ]
  },
  {
   "cell_type": "code",
   "execution_count": 53,
   "metadata": {},
   "outputs": [],
   "source": [
    "import p3_tools as p3t\n",
    "\n",
    "import pandas as pd\n",
    "import numpy as np\n",
    "import matplotlib.pyplot as plt\n",
    "import seaborn as sns\n",
    "\n",
    "from sklearn.model_selection import train_test_split, GridSearchCV, StratifiedKFold # preprocessing libraries\n",
    "from sklearn.pipeline import Pipeline\n",
    "from sklearn.linear_model import LogisticRegression # Model\n",
    "from sklearn.metrics import confusion_matrix, plot_confusion_matrix # for plotting\n",
    "from sklearn.naive_bayes import MultinomialNB # Model\n",
    "from sklearn.feature_extraction.text import CountVectorizer, TfidfVectorizer # transforming\n",
    "from sklearn.metrics import accuracy_score\n",
    "from sklearn.tree import DecisionTreeClassifier # Classification Problem\n",
    "from sklearn.ensemble import BaggingClassifier, RandomForestClassifier, ExtraTreesClassifier\n",
    "\n",
    "\n",
    "from nltk.corpus import stopwords, words"
   ]
  },
  {
   "cell_type": "code",
   "execution_count": 7,
   "metadata": {},
   "outputs": [
    {
     "data": {
      "text/plain": [
       "'N:\\\\Documents\\\\General-Assembly\\\\dsi-cc13\\\\projects\\\\project_3\\\\deliverables'"
      ]
     },
     "execution_count": 7,
     "metadata": {},
     "output_type": "execute_result"
    }
   ],
   "source": [
    "pwd"
   ]
  },
  {
   "cell_type": "code",
   "execution_count": 20,
   "metadata": {},
   "outputs": [],
   "source": [
    "thoughts = pd.read_csv('saved_data/preprocessed_thoughts.csv')"
   ]
  },
  {
   "cell_type": "markdown",
   "metadata": {},
   "source": [
    "Added words may or may not be added to stopwords in models provided."
   ]
  },
  {
   "cell_type": "code",
   "execution_count": 3,
   "metadata": {
    "scrolled": true
   },
   "outputs": [
    {
     "data": {
      "text/plain": [
       "['i',\n",
       " 'me',\n",
       " 'my',\n",
       " 'myself',\n",
       " 'we',\n",
       " 'our',\n",
       " 'ours',\n",
       " 'ourselves',\n",
       " 'you',\n",
       " \"you're\",\n",
       " \"you've\",\n",
       " \"you'll\",\n",
       " \"you'd\",\n",
       " 'your',\n",
       " 'yours',\n",
       " 'yourself',\n",
       " 'yourselves',\n",
       " 'he',\n",
       " 'him',\n",
       " 'his',\n",
       " 'himself',\n",
       " 'she',\n",
       " \"she's\",\n",
       " 'her',\n",
       " 'hers',\n",
       " 'herself',\n",
       " 'it',\n",
       " \"it's\",\n",
       " 'its',\n",
       " 'itself',\n",
       " 'they',\n",
       " 'them',\n",
       " 'their',\n",
       " 'theirs',\n",
       " 'themselves',\n",
       " 'what',\n",
       " 'which',\n",
       " 'who',\n",
       " 'whom',\n",
       " 'this',\n",
       " 'that',\n",
       " \"that'll\",\n",
       " 'these',\n",
       " 'those',\n",
       " 'am',\n",
       " 'is',\n",
       " 'are',\n",
       " 'was',\n",
       " 'were',\n",
       " 'be',\n",
       " 'been',\n",
       " 'being',\n",
       " 'have',\n",
       " 'has',\n",
       " 'had',\n",
       " 'having',\n",
       " 'do',\n",
       " 'does',\n",
       " 'did',\n",
       " 'doing',\n",
       " 'a',\n",
       " 'an',\n",
       " 'the',\n",
       " 'and',\n",
       " 'but',\n",
       " 'if',\n",
       " 'or',\n",
       " 'because',\n",
       " 'as',\n",
       " 'until',\n",
       " 'while',\n",
       " 'of',\n",
       " 'at',\n",
       " 'by',\n",
       " 'for',\n",
       " 'with',\n",
       " 'about',\n",
       " 'against',\n",
       " 'between',\n",
       " 'into',\n",
       " 'through',\n",
       " 'during',\n",
       " 'before',\n",
       " 'after',\n",
       " 'above',\n",
       " 'below',\n",
       " 'to',\n",
       " 'from',\n",
       " 'up',\n",
       " 'down',\n",
       " 'in',\n",
       " 'out',\n",
       " 'on',\n",
       " 'off',\n",
       " 'over',\n",
       " 'under',\n",
       " 'again',\n",
       " 'further',\n",
       " 'then',\n",
       " 'once',\n",
       " 'here',\n",
       " 'there',\n",
       " 'when',\n",
       " 'where',\n",
       " 'why',\n",
       " 'how',\n",
       " 'all',\n",
       " 'any',\n",
       " 'both',\n",
       " 'each',\n",
       " 'few',\n",
       " 'more',\n",
       " 'most',\n",
       " 'other',\n",
       " 'some',\n",
       " 'such',\n",
       " 'no',\n",
       " 'nor',\n",
       " 'not',\n",
       " 'only',\n",
       " 'own',\n",
       " 'same',\n",
       " 'so',\n",
       " 'than',\n",
       " 'too',\n",
       " 'very',\n",
       " 's',\n",
       " 't',\n",
       " 'can',\n",
       " 'will',\n",
       " 'just',\n",
       " 'don',\n",
       " \"don't\",\n",
       " 'should',\n",
       " \"should've\",\n",
       " 'now',\n",
       " 'd',\n",
       " 'll',\n",
       " 'm',\n",
       " 'o',\n",
       " 're',\n",
       " 've',\n",
       " 'y',\n",
       " 'ain',\n",
       " 'aren',\n",
       " \"aren't\",\n",
       " 'couldn',\n",
       " \"couldn't\",\n",
       " 'didn',\n",
       " \"didn't\",\n",
       " 'doesn',\n",
       " \"doesn't\",\n",
       " 'hadn',\n",
       " \"hadn't\",\n",
       " 'hasn',\n",
       " \"hasn't\",\n",
       " 'haven',\n",
       " \"haven't\",\n",
       " 'isn',\n",
       " \"isn't\",\n",
       " 'ma',\n",
       " 'mightn',\n",
       " \"mightn't\",\n",
       " 'mustn',\n",
       " \"mustn't\",\n",
       " 'needn',\n",
       " \"needn't\",\n",
       " 'shan',\n",
       " \"shan't\",\n",
       " 'shouldn',\n",
       " \"shouldn't\",\n",
       " 'wasn',\n",
       " \"wasn't\",\n",
       " 'weren',\n",
       " \"weren't\",\n",
       " 'won',\n",
       " \"won't\",\n",
       " 'wouldn',\n",
       " \"wouldn't\",\n",
       " 'depression',\n",
       " 'shower thoughts',\n",
       " 'shower',\n",
       " 'thoughts']"
      ]
     },
     "execution_count": 3,
     "metadata": {},
     "output_type": "execute_result"
    }
   ],
   "source": [
    "add_words = ['depression','shower thoughts','shower','thoughts'] \n",
    "# reason for these words is due to the fact that they are the name of the subreddits\n",
    "# there could be possible short hands.\n",
    "more_stopwords = stopwords.words('english') + add_words\n",
    "more_stopwords"
   ]
  },
  {
   "cell_type": "code",
   "execution_count": 21,
   "metadata": {},
   "outputs": [
    {
     "data": {
      "text/plain": [
       "((20000,), (20000,))"
      ]
     },
     "execution_count": 21,
     "metadata": {},
     "output_type": "execute_result"
    }
   ],
   "source": [
    "X = thoughts['title']\n",
    "y = thoughts['subreddit']\n",
    "X.shape, y.shape"
   ]
  },
  {
   "cell_type": "markdown",
   "metadata": {},
   "source": [
    "# Baseline score\n",
    "\n",
    "---\n",
    "Since we need a baseline, all of our true y values would be used to determined our baseline accuracy. Since we have almost equal representation of `depression` and `shower thoughts`, our baseline is around 50%."
   ]
  },
  {
   "cell_type": "code",
   "execution_count": 5,
   "metadata": {},
   "outputs": [
    {
     "data": {
      "text/plain": [
       "1    0.5\n",
       "0    0.5\n",
       "Name: subreddit, dtype: float64"
      ]
     },
     "execution_count": 5,
     "metadata": {},
     "output_type": "execute_result"
    }
   ],
   "source": [
    "y.value_counts(normalize=True)"
   ]
  },
  {
   "cell_type": "markdown",
   "metadata": {},
   "source": [
    "Quick baseline on our `y_test`"
   ]
  },
  {
   "cell_type": "code",
   "execution_count": 9,
   "metadata": {},
   "outputs": [
    {
     "data": {
      "text/plain": [
       "1    0.502424\n",
       "0    0.497576\n",
       "Name: subreddit, dtype: float64"
      ]
     },
     "execution_count": 9,
     "metadata": {},
     "output_type": "execute_result"
    }
   ],
   "source": [
    "y_test.value_counts(normalize=True)"
   ]
  },
  {
   "cell_type": "markdown",
   "metadata": {},
   "source": [
    "The goal to beat is more than 50%"
   ]
  },
  {
   "cell_type": "markdown",
   "metadata": {},
   "source": [
    "# Train Test Split"
   ]
  },
  {
   "cell_type": "code",
   "execution_count": 22,
   "metadata": {},
   "outputs": [],
   "source": [
    "X_train, X_test, y_train, y_test = train_test_split(X, y,\n",
    "                                                    test_size=.33,\n",
    "                                                    random_state=66)"
   ]
  },
  {
   "cell_type": "code",
   "execution_count": 23,
   "metadata": {},
   "outputs": [
    {
     "data": {
      "text/plain": [
       "((13400,), (13400,))"
      ]
     },
     "execution_count": 23,
     "metadata": {},
     "output_type": "execute_result"
    }
   ],
   "source": [
    "X_train.shape, y_train.shape"
   ]
  },
  {
   "cell_type": "code",
   "execution_count": 24,
   "metadata": {},
   "outputs": [
    {
     "data": {
      "text/plain": [
       "((6600,), (6600,))"
      ]
     },
     "execution_count": 24,
     "metadata": {},
     "output_type": "execute_result"
    }
   ],
   "source": [
    "X_test.shape, y_test.shape"
   ]
  },
  {
   "cell_type": "markdown",
   "metadata": {},
   "source": [
    "# Model 1"
   ]
  },
  {
   "cell_type": "markdown",
   "metadata": {},
   "source": [
    "Just to get started on modeling, this is my first benchmarks."
   ]
  },
  {
   "cell_type": "code",
   "execution_count": 19,
   "metadata": {},
   "outputs": [],
   "source": [
    "# cvec and multi\n",
    "pipe = Pipeline([\n",
    "    ('cvec', CountVectorizer()),\n",
    "    ('nb', MultinomialNB())\n",
    "])\n",
    "\n",
    "pipe_params = {'cvec__max_features': [2000,3000,4000,5000],\n",
    "              'cvec__min_df': [2,3],\n",
    "              'cvec__max_df': [.9,.95],\n",
    "              'cvec__ngram_range': [(1,1),(1,2)]}\n",
    "\n",
    "gs = GridSearchCV(pipe,\n",
    "                  pipe_params,\n",
    "                  cv = 5, verbose=1)\n",
    "\n",
    "gs.fit(X_train, y_train)"
   ]
  },
  {
   "cell_type": "code",
   "execution_count": 24,
   "metadata": {},
   "outputs": [
    {
     "data": {
      "text/plain": [
       "{'cvec__max_df': 0.9,\n",
       " 'cvec__max_features': 5000,\n",
       " 'cvec__min_df': 3,\n",
       " 'cvec__ngram_range': (1, 2)}"
      ]
     },
     "execution_count": 24,
     "metadata": {},
     "output_type": "execute_result"
    }
   ],
   "source": [
    "gs.best_params_"
   ]
  },
  {
   "cell_type": "code",
   "execution_count": 25,
   "metadata": {},
   "outputs": [
    {
     "data": {
      "text/plain": [
       "0.9102500000000001"
      ]
     },
     "execution_count": 25,
     "metadata": {},
     "output_type": "execute_result"
    }
   ],
   "source": [
    "gs.best_score_"
   ]
  },
  {
   "cell_type": "code",
   "execution_count": 26,
   "metadata": {},
   "outputs": [
    {
     "data": {
      "text/plain": [
       "Pipeline(steps=[('cvec',\n",
       "                 CountVectorizer(max_df=0.9, max_features=5000, min_df=3,\n",
       "                                 ngram_range=(1, 2))),\n",
       "                ('nb', MultinomialNB())])"
      ]
     },
     "execution_count": 26,
     "metadata": {},
     "output_type": "execute_result"
    }
   ],
   "source": [
    "gs.best_estimator_"
   ]
  },
  {
   "cell_type": "code",
   "execution_count": 27,
   "metadata": {},
   "outputs": [
    {
     "data": {
      "text/plain": [
       "0.914625"
      ]
     },
     "execution_count": 27,
     "metadata": {},
     "output_type": "execute_result"
    }
   ],
   "source": [
    "gs.score(X_test, y_test)"
   ]
  },
  {
   "cell_type": "code",
   "execution_count": 28,
   "metadata": {},
   "outputs": [],
   "source": [
    "preds = gs.predict(X_test)"
   ]
  },
  {
   "cell_type": "code",
   "execution_count": 30,
   "metadata": {},
   "outputs": [
    {
     "data": {
      "image/png": "[encoded data removed]",
      "text/plain": [
       "<Figure size 432x288 with 2 Axes>"
      ]
     },
     "metadata": {
      "needs_background": "light"
     },
     "output_type": "display_data"
    }
   ],
   "source": [
    "tn, fp, fn, tp = confusion_matrix(y_test, preds).ravel()\n",
    "plot_confusion_matrix(gs, X_test, y_test, cmap='Blues', values_format='d');"
   ]
  },
  {
   "cell_type": "code",
   "execution_count": 32,
   "metadata": {},
   "outputs": [
    {
     "data": {
      "text/plain": [
       "(0.925161611138737, 0.9039718451483157)"
      ]
     },
     "execution_count": 32,
     "metadata": {},
     "output_type": "execute_result"
    }
   ],
   "source": [
    "# Specificity\n",
    "spec = tn / (tn + fp)\n",
    "# Sensitivity\n",
    "sen = tp / (tp + fn)\n",
    "spec, sen"
   ]
  },
  {
   "cell_type": "markdown",
   "metadata": {},
   "source": [
    "# Model 2\n",
    "\n",
    "---\n",
    "Here, I will use `TfidVectorizer` but with the same model and parameters. I want to see if that made a difference."
   ]
  },
  {
   "cell_type": "code",
   "execution_count": 45,
   "metadata": {},
   "outputs": [],
   "source": [
    "# tfid and multi\n",
    "pipe = Pipeline([\n",
    "    ('tvec', TfidfVectorizer()),\n",
    "    ('nb', MultinomialNB())\n",
    "])\n",
    "\n",
    "pipe_params = {'tvec__max_features': [2000,3000,4000,5000],\n",
    "              'tvec__min_df': [2,3],\n",
    "              'tvec__max_df': [.9,.95],\n",
    "              'tvec__ngram_range': [(1,1),(1,2)]}\n",
    "\n",
    "gs = GridSearchCV(pipe,\n",
    "                  pipe_params,\n",
    "                  cv = 5, verbose=1)"
   ]
  },
  {
   "cell_type": "code",
   "execution_count": 48,
   "metadata": {},
   "outputs": [
    {
     "name": "stdout",
     "output_type": "stream",
     "text": [
      "Fitting 5 folds for each of 32 candidates, totalling 160 fits\n"
     ]
    },
    {
     "name": "stderr",
     "output_type": "stream",
     "text": [
      "[Parallel(n_jobs=1)]: Using backend SequentialBackend with 1 concurrent workers.\n",
      "[Parallel(n_jobs=1)]: Done 160 out of 160 | elapsed:   33.0s finished\n"
     ]
    },
    {
     "data": {
      "text/plain": [
       "GridSearchCV(cv=5,\n",
       "             estimator=Pipeline(steps=[('tvec', TfidfVectorizer()),\n",
       "                                       ('nb', MultinomialNB())]),\n",
       "             param_grid={'tvec__max_df': [0.9, 0.95],\n",
       "                         'tvec__max_features': [2000, 3000, 4000, 5000],\n",
       "                         'tvec__min_df': [2, 3],\n",
       "                         'tvec__ngram_range': [(1, 1), (1, 2)]},\n",
       "             verbose=1)"
      ]
     },
     "execution_count": 48,
     "metadata": {},
     "output_type": "execute_result"
    }
   ],
   "source": [
    "gs.fit(X_train, y_train)"
   ]
  },
  {
   "cell_type": "code",
   "execution_count": 49,
   "metadata": {},
   "outputs": [
    {
     "data": {
      "text/plain": [
       "{'tvec__max_df': 0.9,\n",
       " 'tvec__max_features': 5000,\n",
       " 'tvec__min_df': 2,\n",
       " 'tvec__ngram_range': (1, 2)}"
      ]
     },
     "execution_count": 49,
     "metadata": {},
     "output_type": "execute_result"
    }
   ],
   "source": [
    "gs.best_params_"
   ]
  },
  {
   "cell_type": "code",
   "execution_count": 50,
   "metadata": {},
   "outputs": [
    {
     "data": {
      "text/plain": [
       "0.9096666666666666"
      ]
     },
     "execution_count": 50,
     "metadata": {},
     "output_type": "execute_result"
    }
   ],
   "source": [
    "gs.best_score_"
   ]
  },
  {
   "cell_type": "code",
   "execution_count": 51,
   "metadata": {},
   "outputs": [
    {
     "data": {
      "text/plain": [
       "Pipeline(steps=[('tvec',\n",
       "                 TfidfVectorizer(max_df=0.9, max_features=5000, min_df=2,\n",
       "                                 ngram_range=(1, 2))),\n",
       "                ('nb', MultinomialNB())])"
      ]
     },
     "execution_count": 51,
     "metadata": {},
     "output_type": "execute_result"
    }
   ],
   "source": [
    "gs.best_estimator_"
   ]
  },
  {
   "cell_type": "code",
   "execution_count": 56,
   "metadata": {},
   "outputs": [
    {
     "data": {
      "text/plain": [
       "0.93375"
      ]
     },
     "execution_count": 56,
     "metadata": {},
     "output_type": "execute_result"
    }
   ],
   "source": [
    "gs.score(X_train, y_train)"
   ]
  },
  {
   "cell_type": "code",
   "execution_count": 52,
   "metadata": {},
   "outputs": [
    {
     "data": {
      "text/plain": [
       "0.914625"
      ]
     },
     "execution_count": 52,
     "metadata": {},
     "output_type": "execute_result"
    }
   ],
   "source": [
    "gs.score(X_test, y_test)"
   ]
  },
  {
   "cell_type": "code",
   "execution_count": 53,
   "metadata": {},
   "outputs": [],
   "source": [
    "preds = gs.predict(X_test)"
   ]
  },
  {
   "cell_type": "code",
   "execution_count": 54,
   "metadata": {},
   "outputs": [
    {
     "data": {
      "image/png": "[encoded data removed]",
      "text/plain": [
       "<Figure size 432x288 with 2 Axes>"
      ]
     },
     "metadata": {
      "needs_background": "light"
     },
     "output_type": "display_data"
    }
   ],
   "source": [
    "tn, fp, fn, tp = confusion_matrix(y_test, preds).ravel()\n",
    "plot_confusion_matrix(gs, X_test, y_test, cmap='Greens', values_format='d');"
   ]
  },
  {
   "cell_type": "code",
   "execution_count": 55,
   "metadata": {},
   "outputs": [
    {
     "data": {
      "text/plain": [
       "(0.9266534062655395, 0.9024635495223731)"
      ]
     },
     "execution_count": 55,
     "metadata": {},
     "output_type": "execute_result"
    }
   ],
   "source": [
    "# Specificity\n",
    "spec = tn / (tn + fp)\n",
    "# Sensitivity\n",
    "sen = tp / (tp + fn)\n",
    "spec, sen"
   ]
  },
  {
   "cell_type": "markdown",
   "metadata": {},
   "source": [
    "# Many, many models\n",
    "\n",
    "---\n",
    "Will implement a function that takes in an empyt dataframe and adds all results to it. It will take in the best parameters, best estimator, best score, train and test scores, a list of the predictions, the classification metrics, and specificity & sensitivity."
   ]
  },
  {
   "cell_type": "markdown",
   "metadata": {},
   "source": [
    "## Tfid and LogReg"
   ]
  },
  {
   "cell_type": "code",
   "execution_count": 32,
   "metadata": {},
   "outputs": [
    {
     "name": "stdout",
     "output_type": "stream",
     "text": [
      "Fitting 5 folds for each of 1200 candidates, totalling 6000 fits\n"
     ]
    },
    {
     "name": "stderr",
     "output_type": "stream",
     "text": [
      "[Parallel(n_jobs=2)]: Using backend LokyBackend with 2 concurrent workers.\n",
      "[Parallel(n_jobs=2)]: Done  46 tasks      | elapsed:    6.0s\n",
      "[Parallel(n_jobs=2)]: Done 196 tasks      | elapsed:   21.5s\n",
      "[Parallel(n_jobs=2)]: Done 446 tasks      | elapsed:   47.7s\n",
      "[Parallel(n_jobs=2)]: Done 796 tasks      | elapsed:  1.4min\n",
      "[Parallel(n_jobs=2)]: Done 1246 tasks      | elapsed:  2.2min\n",
      "[Parallel(n_jobs=2)]: Done 1796 tasks      | elapsed:  3.1min\n",
      "[Parallel(n_jobs=2)]: Done 2446 tasks      | elapsed:  4.3min\n",
      "[Parallel(n_jobs=2)]: Done 3196 tasks      | elapsed:  5.7min\n",
      "[Parallel(n_jobs=2)]: Done 4046 tasks      | elapsed:  7.8min\n",
      "[Parallel(n_jobs=2)]: Done 4996 tasks      | elapsed: 10.2min\n",
      "[Parallel(n_jobs=2)]: Done 6000 out of 6000 | elapsed: 12.8min finished\n"
     ]
    },
    {
     "data": {
      "text/plain": [
       "GridSearchCV(cv=5,\n",
       "             estimator=Pipeline(steps=[('trans', TfidfVectorizer()),\n",
       "                                       ('model', LogisticRegression())]),\n",
       "             n_jobs=2,\n",
       "             param_grid={'model__penalty': ['l1', 'l2'],\n",
       "                         'trans__max_df': [0.85, 0.9, 0.95],\n",
       "                         'trans__max_features': [2000, 3000, 4000, 5000, 6000],\n",
       "                         'trans__min_df': [2, 3, 4, 5],\n",
       "                         'trans__ngram_range': [(1, 1), (1, 2), (1, 3), (2, 2),\n",
       "                                                (3, 3)],\n",
       "                         'trans__stop_words': ['english', None]},\n",
       "             verbose=1)"
      ]
     },
     "execution_count": 32,
     "metadata": {},
     "output_type": "execute_result"
    }
   ],
   "source": [
    "# tfid and logreg\n",
    "pipe = Pipeline([\n",
    "    ('trans', TfidfVectorizer()),\n",
    "    ('model', LogisticRegression())\n",
    "])\n",
    "\n",
    "pipe_params = {'trans__max_features': [2000,3000,4000,5000,6000],\n",
    "              'trans__min_df': [2,3,4,5],\n",
    "              'trans__max_df': [.85,.9,.95],\n",
    "              'trans__ngram_range': [(1,1),(1,2),(1,3),(2,2),(3,3)],\n",
    "              'trans__stop_words': ['english', None],\n",
    "              'model__penalty': ['l1', 'l2']}\n",
    "\n",
    "gs = GridSearchCV(pipe,\n",
    "                  pipe_params,\n",
    "                  cv = 5, verbose=1, n_jobs=2)\n",
    "\n",
    "gs.fit(X_train, y_train)"
   ]
  },
  {
   "cell_type": "code",
   "execution_count": 33,
   "metadata": {},
   "outputs": [
    {
     "data": {
      "text/plain": [
       "{'model__penalty': 'l2',\n",
       " 'trans__max_df': 0.85,\n",
       " 'trans__max_features': 4000,\n",
       " 'trans__min_df': 5,\n",
       " 'trans__ngram_range': (1, 3),\n",
       " 'trans__stop_words': None}"
      ]
     },
     "execution_count": 33,
     "metadata": {},
     "output_type": "execute_result"
    }
   ],
   "source": [
    "gs.best_params_"
   ]
  },
  {
   "cell_type": "code",
   "execution_count": 34,
   "metadata": {},
   "outputs": [
    {
     "data": {
      "text/plain": [
       "0.9143283582089552"
      ]
     },
     "execution_count": 34,
     "metadata": {},
     "output_type": "execute_result"
    }
   ],
   "source": [
    "gs.best_score_"
   ]
  },
  {
   "cell_type": "code",
   "execution_count": 35,
   "metadata": {},
   "outputs": [
    {
     "data": {
      "text/plain": [
       "Pipeline(steps=[('trans',\n",
       "                 TfidfVectorizer(max_df=0.85, max_features=4000, min_df=5,\n",
       "                                 ngram_range=(1, 3))),\n",
       "                ('model', LogisticRegression())])"
      ]
     },
     "execution_count": 35,
     "metadata": {},
     "output_type": "execute_result"
    }
   ],
   "source": [
    "gs.best_estimator_"
   ]
  },
  {
   "cell_type": "code",
   "execution_count": 36,
   "metadata": {},
   "outputs": [
    {
     "data": {
      "text/plain": [
       "(0.9382089552238806, 0.9224242424242424)"
      ]
     },
     "execution_count": 36,
     "metadata": {},
     "output_type": "execute_result"
    }
   ],
   "source": [
    "gs.score(X_train, y_train), gs.score(X_test, y_test)"
   ]
  },
  {
   "cell_type": "code",
   "execution_count": 37,
   "metadata": {},
   "outputs": [
    {
     "data": {
      "image/png": "[encoded data removed]",
      "text/plain": [
       "<Figure size 432x288 with 2 Axes>"
      ]
     },
     "metadata": {
      "needs_background": "light"
     },
     "output_type": "display_data"
    }
   ],
   "source": [
    "preds = gs.predict(X_test)\n",
    "\n",
    "tn, fp, fn, tp = confusion_matrix(y_test, preds).ravel()\n",
    "plot_confusion_matrix(gs, X_test, y_test, cmap='Greens', values_format='d');"
   ]
  },
  {
   "cell_type": "code",
   "execution_count": 38,
   "metadata": {},
   "outputs": [
    {
     "data": {
      "text/plain": [
       "(0.9217417783191231, 0.9231001206272618)"
      ]
     },
     "execution_count": 38,
     "metadata": {},
     "output_type": "execute_result"
    }
   ],
   "source": [
    "# Specificity\n",
    "spec = tn / (tn + fp)\n",
    "# Sensitivity\n",
    "sen = tp / (tp + fn)\n",
    "spec, sen"
   ]
  },
  {
   "cell_type": "markdown",
   "metadata": {},
   "source": [
    "# Cvec and Multi"
   ]
  },
  {
   "cell_type": "code",
   "execution_count": 39,
   "metadata": {},
   "outputs": [
    {
     "name": "stdout",
     "output_type": "stream",
     "text": [
      "Fitting 5 folds for each of 600 candidates, totalling 3000 fits\n"
     ]
    },
    {
     "name": "stderr",
     "output_type": "stream",
     "text": [
      "[Parallel(n_jobs=1)]: Using backend SequentialBackend with 1 concurrent workers.\n",
      "[Parallel(n_jobs=1)]: Done 3000 out of 3000 | elapsed: 11.8min finished\n"
     ]
    },
    {
     "data": {
      "text/plain": [
       "GridSearchCV(cv=5,\n",
       "             estimator=Pipeline(steps=[('cvec', CountVectorizer()),\n",
       "                                       ('nb', MultinomialNB())]),\n",
       "             param_grid={'cvec__max_df': [0.85, 0.9, 0.95],\n",
       "                         'cvec__max_features': [2000, 3000, 4000, 5000, 6000],\n",
       "                         'cvec__min_df': [2, 3, 4, 5],\n",
       "                         'cvec__ngram_range': [(1, 1), (1, 2), (1, 3), (2, 2),\n",
       "                                               (3, 3)],\n",
       "                         'cvec__stop_words': ['english', None]},\n",
       "             verbose=1)"
      ]
     },
     "execution_count": 39,
     "metadata": {},
     "output_type": "execute_result"
    }
   ],
   "source": [
    "# cvec and multi\n",
    "pipe = Pipeline([\n",
    "    ('cvec', CountVectorizer()),\n",
    "    ('nb', MultinomialNB())\n",
    "])\n",
    "\n",
    "pipe_params = {'cvec__max_features': [2000,3000,4000,5000,6000],\n",
    "              'cvec__min_df': [2,3,4,5],\n",
    "              'cvec__max_df': [.85,.9,.95],\n",
    "              'cvec__ngram_range': [(1,1),(1,2),(1,3),(2,2),(3,3)],\n",
    "              'cvec__stop_words': ['english', None]}\n",
    "\n",
    "\n",
    "gs = GridSearchCV(pipe,\n",
    "                  pipe_params,\n",
    "                  cv = 5, verbose=1)\n",
    "\n",
    "gs.fit(X_train, y_train)"
   ]
  },
  {
   "cell_type": "code",
   "execution_count": 40,
   "metadata": {},
   "outputs": [
    {
     "data": {
      "text/plain": [
       "{'cvec__max_df': 0.85,\n",
       " 'cvec__max_features': 6000,\n",
       " 'cvec__min_df': 2,\n",
       " 'cvec__ngram_range': (1, 1),\n",
       " 'cvec__stop_words': None}"
      ]
     },
     "execution_count": 40,
     "metadata": {},
     "output_type": "execute_result"
    }
   ],
   "source": [
    "gs.best_params_"
   ]
  },
  {
   "cell_type": "code",
   "execution_count": 41,
   "metadata": {},
   "outputs": [
    {
     "data": {
      "text/plain": [
       "0.9071641791044776"
      ]
     },
     "execution_count": 41,
     "metadata": {},
     "output_type": "execute_result"
    }
   ],
   "source": [
    "gs.best_score_"
   ]
  },
  {
   "cell_type": "code",
   "execution_count": 42,
   "metadata": {},
   "outputs": [
    {
     "data": {
      "text/plain": [
       "Pipeline(steps=[('cvec',\n",
       "                 CountVectorizer(max_df=0.85, max_features=6000, min_df=2)),\n",
       "                ('nb', MultinomialNB())])"
      ]
     },
     "execution_count": 42,
     "metadata": {},
     "output_type": "execute_result"
    }
   ],
   "source": [
    "gs.best_estimator_"
   ]
  },
  {
   "cell_type": "code",
   "execution_count": 43,
   "metadata": {},
   "outputs": [
    {
     "data": {
      "text/plain": [
       "(0.9313432835820895, 0.9195454545454546)"
      ]
     },
     "execution_count": 43,
     "metadata": {},
     "output_type": "execute_result"
    }
   ],
   "source": [
    "gs.score(X_train, y_train), gs.score(X_test, y_test)"
   ]
  },
  {
   "cell_type": "code",
   "execution_count": 44,
   "metadata": {},
   "outputs": [
    {
     "data": {
      "image/png": "[encoded data removed]",
      "text/plain": [
       "<Figure size 432x288 with 2 Axes>"
      ]
     },
     "metadata": {
      "needs_background": "light"
     },
     "output_type": "display_data"
    }
   ],
   "source": [
    "preds = gs.predict(X_test)\n",
    "\n",
    "tn, fp, fn, tp = confusion_matrix(y_test, preds).ravel()\n",
    "plot_confusion_matrix(gs, X_test, y_test, cmap='Greens', values_format='d');"
   ]
  },
  {
   "cell_type": "code",
   "execution_count": 45,
   "metadata": {},
   "outputs": [
    {
     "data": {
      "text/plain": [
       "(0.928136419001218, 0.911037394451146)"
      ]
     },
     "execution_count": 45,
     "metadata": {},
     "output_type": "execute_result"
    }
   ],
   "source": [
    "# Specificity\n",
    "spec = tn / (tn + fp)\n",
    "# Sensitivity\n",
    "sen = tp / (tp + fn)\n",
    "spec, sen"
   ]
  },
  {
   "cell_type": "markdown",
   "metadata": {},
   "source": [
    "# Tfid and Multi"
   ]
  },
  {
   "cell_type": "code",
   "execution_count": 15,
   "metadata": {},
   "outputs": [
    {
     "name": "stdout",
     "output_type": "stream",
     "text": [
      "Fitting 5 folds for each of 600 candidates, totalling 3000 fits\n"
     ]
    },
    {
     "name": "stderr",
     "output_type": "stream",
     "text": [
      "[Parallel(n_jobs=2)]: Using backend LokyBackend with 2 concurrent workers.\n",
      "[Parallel(n_jobs=2)]: Done  46 tasks      | elapsed:    6.4s\n",
      "[Parallel(n_jobs=2)]: Done 196 tasks      | elapsed:   24.5s\n",
      "[Parallel(n_jobs=2)]: Done 446 tasks      | elapsed:   54.5s\n",
      "[Parallel(n_jobs=2)]: Done 796 tasks      | elapsed:  1.6min\n",
      "[Parallel(n_jobs=2)]: Done 1246 tasks      | elapsed:  2.5min\n",
      "[Parallel(n_jobs=2)]: Done 1796 tasks      | elapsed:  3.6min\n",
      "[Parallel(n_jobs=2)]: Done 2446 tasks      | elapsed:  4.8min\n",
      "[Parallel(n_jobs=2)]: Done 3000 out of 3000 | elapsed:  5.9min finished\n"
     ]
    },
    {
     "data": {
      "text/plain": [
       "GridSearchCV(cv=5,\n",
       "             estimator=Pipeline(steps=[('trans', TfidfVectorizer()),\n",
       "                                       ('model', MultinomialNB())]),\n",
       "             n_jobs=2,\n",
       "             param_grid={'trans__max_df': [0.85, 0.9, 0.95],\n",
       "                         'trans__max_features': [2000, 3000, 4000, 5000, 6000],\n",
       "                         'trans__min_df': [2, 3, 4, 5],\n",
       "                         'trans__ngram_range': [(1, 1), (1, 2), (1, 3), (2, 2),\n",
       "                                                (3, 3)],\n",
       "                         'trans__stop_words': ['english', None]},\n",
       "             verbose=1)"
      ]
     },
     "execution_count": 15,
     "metadata": {},
     "output_type": "execute_result"
    }
   ],
   "source": [
    "# tfid and multi\n",
    "pipe = Pipeline([\n",
    "    ('trans', TfidfVectorizer()),\n",
    "    ('model', MultinomialNB())\n",
    "])\n",
    "\n",
    "pipe_params = {'trans__max_features': [2000,3000,4000,5000,6000],\n",
    "              'trans__min_df': [2,3,4,5],\n",
    "              'trans__max_df': [.85,.9,.95],\n",
    "              'trans__ngram_range': [(1,1),(1,2),(1,3),(2,2),(3,3)],\n",
    "              'trans__stop_words': ['english', None]}\n",
    "\n",
    "gs = GridSearchCV(pipe,\n",
    "                  pipe_params,\n",
    "                  cv = 5, verbose=1, n_jobs=2)\n",
    "\n",
    "gs.fit(X_train, y_train)"
   ]
  },
  {
   "cell_type": "code",
   "execution_count": 16,
   "metadata": {},
   "outputs": [
    {
     "data": {
      "text/plain": [
       "{'trans__max_df': 0.85,\n",
       " 'trans__max_features': 6000,\n",
       " 'trans__min_df': 2,\n",
       " 'trans__ngram_range': (1, 1),\n",
       " 'trans__stop_words': None}"
      ]
     },
     "execution_count": 16,
     "metadata": {},
     "output_type": "execute_result"
    }
   ],
   "source": [
    "gs.best_params_"
   ]
  },
  {
   "cell_type": "code",
   "execution_count": 17,
   "metadata": {},
   "outputs": [
    {
     "data": {
      "text/plain": [
       "0.9064925373134329"
      ]
     },
     "execution_count": 17,
     "metadata": {},
     "output_type": "execute_result"
    }
   ],
   "source": [
    "gs.best_score_"
   ]
  },
  {
   "cell_type": "code",
   "execution_count": 18,
   "metadata": {},
   "outputs": [
    {
     "data": {
      "text/plain": [
       "Pipeline(steps=[('trans',\n",
       "                 TfidfVectorizer(max_df=0.85, max_features=6000, min_df=2)),\n",
       "                ('model', MultinomialNB())])"
      ]
     },
     "execution_count": 18,
     "metadata": {},
     "output_type": "execute_result"
    }
   ],
   "source": [
    "gs.best_estimator_"
   ]
  },
  {
   "cell_type": "code",
   "execution_count": 19,
   "metadata": {},
   "outputs": [
    {
     "data": {
      "text/plain": [
       "(0.9373134328358209, 0.9143939393939394)"
      ]
     },
     "execution_count": 19,
     "metadata": {},
     "output_type": "execute_result"
    }
   ],
   "source": [
    "gs.score(X_train, y_train), gs.score(X_test, y_test)"
   ]
  },
  {
   "cell_type": "code",
   "execution_count": 20,
   "metadata": {},
   "outputs": [
    {
     "data": {
      "image/png": "[encoded data removed]",
      "text/plain": [
       "<Figure size 432x288 with 2 Axes>"
      ]
     },
     "metadata": {
      "needs_background": "light"
     },
     "output_type": "display_data"
    }
   ],
   "source": [
    "preds = gs.predict(X_test)\n",
    "tn, fp, fn, tp = confusion_matrix(y_test, preds).ravel()\n",
    "plot_confusion_matrix(gs, X_test, y_test, cmap='Greens', values_format='d');"
   ]
  },
  {
   "cell_type": "code",
   "execution_count": 21,
   "metadata": {},
   "outputs": [
    {
     "data": {
      "text/plain": [
       "(0.9180876979293544, 0.9107358262967431)"
      ]
     },
     "execution_count": 21,
     "metadata": {},
     "output_type": "execute_result"
    }
   ],
   "source": [
    "# Specificity\n",
    "spec = tn / (tn + fp)\n",
    "# Sensitivity\n",
    "sen = tp / (tp + fn)\n",
    "spec, sen"
   ]
  },
  {
   "cell_type": "markdown",
   "metadata": {},
   "source": [
    "# Cvec and Logreg\n",
    "\n",
    "Best model so far...\n"
   ]
  },
  {
   "cell_type": "code",
   "execution_count": 27,
   "metadata": {},
   "outputs": [
    {
     "name": "stdout",
     "output_type": "stream",
     "text": [
      "Fitting 5 folds for each of 1200 candidates, totalling 6000 fits\n"
     ]
    },
    {
     "name": "stderr",
     "output_type": "stream",
     "text": [
      "[Parallel(n_jobs=2)]: Using backend LokyBackend with 2 concurrent workers.\n",
      "[Parallel(n_jobs=2)]: Done  88 tasks      | elapsed:    9.5s\n",
      "[Parallel(n_jobs=2)]: Done 388 tasks      | elapsed:   39.2s\n",
      "[Parallel(n_jobs=2)]: Done 888 tasks      | elapsed:  1.5min\n",
      "[Parallel(n_jobs=2)]: Done 1588 tasks      | elapsed:  2.7min\n",
      "[Parallel(n_jobs=2)]: Done 2488 tasks      | elapsed:  4.2min\n",
      "[Parallel(n_jobs=2)]: Done 3588 tasks      | elapsed:  6.7min\n",
      "[Parallel(n_jobs=2)]: Done 4362 tasks      | elapsed:  8.9min\n",
      "[Parallel(n_jobs=2)]: Done 5112 tasks      | elapsed: 11.1min\n",
      "[Parallel(n_jobs=2)]: Done 5962 tasks      | elapsed: 13.4min\n",
      "[Parallel(n_jobs=2)]: Done 6000 out of 6000 | elapsed: 13.5min finished\n"
     ]
    },
    {
     "data": {
      "text/plain": [
       "GridSearchCV(cv=5,\n",
       "             estimator=Pipeline(steps=[('trans', CountVectorizer()),\n",
       "                                       ('model', LogisticRegression())]),\n",
       "             n_jobs=2,\n",
       "             param_grid={'model__penalty': ['l1', 'l2'],\n",
       "                         'trans__max_df': [0.85, 0.9, 0.95],\n",
       "                         'trans__max_features': [2000, 3000, 4000, 5000, 6000],\n",
       "                         'trans__min_df': [2, 3, 4, 5],\n",
       "                         'trans__ngram_range': [(1, 1), (1, 2), (1, 3), (2, 2),\n",
       "                                                (3, 3)],\n",
       "                         'trans__stop_words': ['english', None]},\n",
       "             verbose=1)"
      ]
     },
     "execution_count": 27,
     "metadata": {},
     "output_type": "execute_result"
    }
   ],
   "source": [
    "# cvec and logreg\n",
    "pipe = Pipeline([\n",
    "    ('trans', CountVectorizer()),\n",
    "    ('model', LogisticRegression())\n",
    "])\n",
    "\n",
    "pipe_params = {'trans__max_features': [2000,3000,4000,5000,6000],\n",
    "              'trans__min_df': [2,3,4,5],\n",
    "              'trans__max_df': [.85,.9,.95],\n",
    "              'trans__ngram_range': [(1,1),(1,2),(1,3),(2,2),(3,3)],\n",
    "              'trans__stop_words': ['english', None],\n",
    "              'model__penalty': ['l1', 'l2']}\n",
    "\n",
    "gs = GridSearchCV(pipe,\n",
    "                  pipe_params,\n",
    "                  cv = 5, verbose=1, n_jobs=2)\n",
    "\n",
    "gs.fit(X_train, y_train)"
   ]
  },
  {
   "cell_type": "code",
   "execution_count": 28,
   "metadata": {},
   "outputs": [
    {
     "data": {
      "text/plain": [
       "({'model__penalty': 'l2',\n",
       "  'trans__max_df': 0.85,\n",
       "  'trans__max_features': 6000,\n",
       "  'trans__min_df': 2,\n",
       "  'trans__ngram_range': (1, 2),\n",
       "  'trans__stop_words': None},\n",
       " 0.9164925373134329,\n",
       " Pipeline(steps=[('trans',\n",
       "                  CountVectorizer(max_df=0.85, max_features=6000, min_df=2,\n",
       "                                  ngram_range=(1, 2))),\n",
       "                 ('model', LogisticRegression())]))"
      ]
     },
     "execution_count": 28,
     "metadata": {},
     "output_type": "execute_result"
    }
   ],
   "source": [
    "gs.best_params_, gs.best_score_, gs.best_estimator_"
   ]
  },
  {
   "cell_type": "code",
   "execution_count": 29,
   "metadata": {},
   "outputs": [
    {
     "data": {
      "text/plain": [
       "(0.9664925373134329, 0.9275757575757576)"
      ]
     },
     "execution_count": 29,
     "metadata": {},
     "output_type": "execute_result"
    }
   ],
   "source": [
    "gs.score(X_train, y_train), gs.score(X_test, y_test)"
   ]
  },
  {
   "cell_type": "code",
   "execution_count": 30,
   "metadata": {},
   "outputs": [
    {
     "data": {
      "image/png": "[encoded data removed]",
      "text/plain": [
       "<Figure size 432x288 with 2 Axes>"
      ]
     },
     "metadata": {
      "needs_background": "light"
     },
     "output_type": "display_data"
    }
   ],
   "source": [
    "preds = gs.predict(X_test)\n",
    "tn, fp, fn, tp = confusion_matrix(y_test, preds).ravel()\n",
    "plot_confusion_matrix(gs, X_test, y_test, cmap='Greens', values_format='d');"
   ]
  },
  {
   "cell_type": "code",
   "execution_count": 31,
   "metadata": {},
   "outputs": [
    {
     "data": {
      "text/plain": [
       "(0.9086479902557856, 0.9463208685162847)"
      ]
     },
     "execution_count": 31,
     "metadata": {},
     "output_type": "execute_result"
    }
   ],
   "source": [
    "# Specificity\n",
    "spec = tn / (tn + fp)\n",
    "# Sensitivity\n",
    "sen = tp / (tp + fn)\n",
    "spec, sen"
   ]
  },
  {
   "cell_type": "markdown",
   "metadata": {},
   "source": [
    "### Wanted to incorporate my own stopwords"
   ]
  },
  {
   "cell_type": "code",
   "execution_count": 52,
   "metadata": {},
   "outputs": [
    {
     "name": "stdout",
     "output_type": "stream",
     "text": [
      "Fitting 5 folds for each of 240 candidates, totalling 1200 fits\n"
     ]
    },
    {
     "name": "stderr",
     "output_type": "stream",
     "text": [
      "[Parallel(n_jobs=2)]: Using backend LokyBackend with 2 concurrent workers.\n",
      "[Parallel(n_jobs=2)]: Done  88 tasks      | elapsed:    8.2s\n",
      "[Parallel(n_jobs=2)]: Done 388 tasks      | elapsed:   37.6s\n",
      "[Parallel(n_jobs=2)]: Done 888 tasks      | elapsed:  1.4min\n",
      "[Parallel(n_jobs=2)]: Done 1200 out of 1200 | elapsed:  1.9min finished\n"
     ]
    },
    {
     "data": {
      "text/plain": [
       "GridSearchCV(cv=5,\n",
       "             estimator=Pipeline(steps=[('cvec', CountVectorizer()),\n",
       "                                       ('nb', MultinomialNB())]),\n",
       "             n_jobs=2,\n",
       "             param_grid={'cvec__max_df': [0.85, 0.9, 0.95],\n",
       "                         'cvec__max_features': [2000, 3000, 4000, 5000, 6000],\n",
       "                         'cvec__min_df': [2, 3, 4, 5],\n",
       "                         'cvec__ngram_range': [(1, 1), (1, 2)],\n",
       "                         'cvec__stop_words': ['english',\n",
       "                                              ['i', 'me', 'my', 'myself', 'we',\n",
       "                                               'our', 'ours', 'ourselves',\n",
       "                                               'you', \"you're\", \"you've\",\n",
       "                                               \"you'll\", \"you'd\", 'your',\n",
       "                                               'yours', 'yourself',\n",
       "                                               'yourselves', 'he', 'him', 'his',\n",
       "                                               'himself', 'she', \"she's\", 'her',\n",
       "                                               'hers', 'herself', 'it', \"it's\",\n",
       "                                               'its', 'itself', ...]]},\n",
       "             verbose=1)"
      ]
     },
     "execution_count": 52,
     "metadata": {},
     "output_type": "execute_result"
    }
   ],
   "source": [
    "pipe = Pipeline([\n",
    "    ('cvec', CountVectorizer()),\n",
    "    ('nb', MultinomialNB())\n",
    "])\n",
    "\n",
    "pipe_params = {'cvec__max_features': [2000,3000,4000,5000,6000],\n",
    "              'cvec__min_df': [2,3,4,5],\n",
    "              'cvec__max_df': [.85,.9,.95],\n",
    "              'cvec__ngram_range': [(1,1),(1,2)],\n",
    "              'cvec__stop_words': ['english', more_stopwords]}\n",
    "\n",
    "gs = GridSearchCV(pipe,\n",
    "                  pipe_params,\n",
    "                  cv = 5, verbose=1, n_jobs=2)\n",
    "\n",
    "gs.fit(X_train, y_train)"
   ]
  },
  {
   "cell_type": "code",
   "execution_count": 53,
   "metadata": {
    "scrolled": true
   },
   "outputs": [
    {
     "data": {
      "text/plain": [
       "({'cvec__max_df': 0.85,\n",
       "  'cvec__max_features': 6000,\n",
       "  'cvec__min_df': 2,\n",
       "  'cvec__ngram_range': (1, 2),\n",
       "  'cvec__stop_words': ['i',\n",
       "   'me',\n",
       "   'my',\n",
       "   'myself',\n",
       "   'we',\n",
       "   'our',\n",
       "   'ours',\n",
       "   'ourselves',\n",
       "   'you',\n",
       "   \"you're\",\n",
       "   \"you've\",\n",
       "   \"you'll\",\n",
       "   \"you'd\",\n",
       "   'your',\n",
       "   'yours',\n",
       "   'yourself',\n",
       "   'yourselves',\n",
       "   'he',\n",
       "   'him',\n",
       "   'his',\n",
       "   'himself',\n",
       "   'she',\n",
       "   \"she's\",\n",
       "   'her',\n",
       "   'hers',\n",
       "   'herself',\n",
       "   'it',\n",
       "   \"it's\",\n",
       "   'its',\n",
       "   'itself',\n",
       "   'they',\n",
       "   'them',\n",
       "   'their',\n",
       "   'theirs',\n",
       "   'themselves',\n",
       "   'what',\n",
       "   'which',\n",
       "   'who',\n",
       "   'whom',\n",
       "   'this',\n",
       "   'that',\n",
       "   \"that'll\",\n",
       "   'these',\n",
       "   'those',\n",
       "   'am',\n",
       "   'is',\n",
       "   'are',\n",
       "   'was',\n",
       "   'were',\n",
       "   'be',\n",
       "   'been',\n",
       "   'being',\n",
       "   'have',\n",
       "   'has',\n",
       "   'had',\n",
       "   'having',\n",
       "   'do',\n",
       "   'does',\n",
       "   'did',\n",
       "   'doing',\n",
       "   'a',\n",
       "   'an',\n",
       "   'the',\n",
       "   'and',\n",
       "   'but',\n",
       "   'if',\n",
       "   'or',\n",
       "   'because',\n",
       "   'as',\n",
       "   'until',\n",
       "   'while',\n",
       "   'of',\n",
       "   'at',\n",
       "   'by',\n",
       "   'for',\n",
       "   'with',\n",
       "   'about',\n",
       "   'against',\n",
       "   'between',\n",
       "   'into',\n",
       "   'through',\n",
       "   'during',\n",
       "   'before',\n",
       "   'after',\n",
       "   'above',\n",
       "   'below',\n",
       "   'to',\n",
       "   'from',\n",
       "   'up',\n",
       "   'down',\n",
       "   'in',\n",
       "   'out',\n",
       "   'on',\n",
       "   'off',\n",
       "   'over',\n",
       "   'under',\n",
       "   'again',\n",
       "   'further',\n",
       "   'then',\n",
       "   'once',\n",
       "   'here',\n",
       "   'there',\n",
       "   'when',\n",
       "   'where',\n",
       "   'why',\n",
       "   'how',\n",
       "   'all',\n",
       "   'any',\n",
       "   'both',\n",
       "   'each',\n",
       "   'few',\n",
       "   'more',\n",
       "   'most',\n",
       "   'other',\n",
       "   'some',\n",
       "   'such',\n",
       "   'no',\n",
       "   'nor',\n",
       "   'not',\n",
       "   'only',\n",
       "   'own',\n",
       "   'same',\n",
       "   'so',\n",
       "   'than',\n",
       "   'too',\n",
       "   'very',\n",
       "   's',\n",
       "   't',\n",
       "   'can',\n",
       "   'will',\n",
       "   'just',\n",
       "   'don',\n",
       "   \"don't\",\n",
       "   'should',\n",
       "   \"should've\",\n",
       "   'now',\n",
       "   'd',\n",
       "   'll',\n",
       "   'm',\n",
       "   'o',\n",
       "   're',\n",
       "   've',\n",
       "   'y',\n",
       "   'ain',\n",
       "   'aren',\n",
       "   \"aren't\",\n",
       "   'couldn',\n",
       "   \"couldn't\",\n",
       "   'didn',\n",
       "   \"didn't\",\n",
       "   'doesn',\n",
       "   \"doesn't\",\n",
       "   'hadn',\n",
       "   \"hadn't\",\n",
       "   'hasn',\n",
       "   \"hasn't\",\n",
       "   'haven',\n",
       "   \"haven't\",\n",
       "   'isn',\n",
       "   \"isn't\",\n",
       "   'ma',\n",
       "   'mightn',\n",
       "   \"mightn't\",\n",
       "   'mustn',\n",
       "   \"mustn't\",\n",
       "   'needn',\n",
       "   \"needn't\",\n",
       "   'shan',\n",
       "   \"shan't\",\n",
       "   'shouldn',\n",
       "   \"shouldn't\",\n",
       "   'wasn',\n",
       "   \"wasn't\",\n",
       "   'weren',\n",
       "   \"weren't\",\n",
       "   'won',\n",
       "   \"won't\",\n",
       "   'wouldn',\n",
       "   \"wouldn't\",\n",
       "   'depression',\n",
       "   'shower thoughts',\n",
       "   'shower',\n",
       "   'thoughts']},\n",
       " 0.857089552238806,\n",
       " Pipeline(steps=[('cvec',\n",
       "                  CountVectorizer(max_df=0.85, max_features=6000, min_df=2,\n",
       "                                  ngram_range=(1, 2),\n",
       "                                  stop_words=['i', 'me', 'my', 'myself', 'we',\n",
       "                                              'our', 'ours', 'ourselves', 'you',\n",
       "                                              \"you're\", \"you've\", \"you'll\",\n",
       "                                              \"you'd\", 'your', 'yours',\n",
       "                                              'yourself', 'yourselves', 'he',\n",
       "                                              'him', 'his', 'himself', 'she',\n",
       "                                              \"she's\", 'her', 'hers', 'herself',\n",
       "                                              'it', \"it's\", 'its', 'itself', ...])),\n",
       "                 ('nb', MultinomialNB())]))"
      ]
     },
     "execution_count": 53,
     "metadata": {},
     "output_type": "execute_result"
    }
   ],
   "source": [
    "gs.best_params_, gs.best_score_, gs.best_estimator_"
   ]
  },
  {
   "cell_type": "code",
   "execution_count": 54,
   "metadata": {},
   "outputs": [
    {
     "data": {
      "text/plain": [
       "(0.8973134328358209, 0.8613636363636363)"
      ]
     },
     "execution_count": 54,
     "metadata": {},
     "output_type": "execute_result"
    }
   ],
   "source": [
    "gs.score(X_train, y_train), gs.score(X_test, y_test)"
   ]
  },
  {
   "cell_type": "code",
   "execution_count": 55,
   "metadata": {},
   "outputs": [
    {
     "data": {
      "image/png": "[encoded data removed]",
      "text/plain": [
       "<Figure size 432x288 with 2 Axes>"
      ]
     },
     "metadata": {
      "needs_background": "light"
     },
     "output_type": "display_data"
    }
   ],
   "source": [
    "preds = gs.predict(X_test)\n",
    "tn, fp, fn, tp = confusion_matrix(y_test, preds).ravel()\n",
    "plot_confusion_matrix(gs, X_test, y_test, cmap='Greens', values_format='d');"
   ]
  },
  {
   "cell_type": "code",
   "execution_count": 56,
   "metadata": {},
   "outputs": [
    {
     "data": {
      "text/plain": [
       "(0.8812423873325214, 0.8416767189384801)"
      ]
     },
     "execution_count": 56,
     "metadata": {},
     "output_type": "execute_result"
    }
   ],
   "source": [
    "# Specificity\n",
    "spec = tn / (tn + fp)\n",
    "# Sensitivity\n",
    "sen = tp / (tp + fn)\n",
    "spec, sen"
   ]
  },
  {
   "cell_type": "code",
   "execution_count": 57,
   "metadata": {
    "scrolled": true
   },
   "outputs": [
    {
     "name": "stdout",
     "output_type": "stream",
     "text": [
      "Fitting 5 folds for each of 240 candidates, totalling 1200 fits\n"
     ]
    },
    {
     "name": "stderr",
     "output_type": "stream",
     "text": [
      "[Parallel(n_jobs=2)]: Using backend LokyBackend with 2 concurrent workers.\n",
      "[Parallel(n_jobs=2)]: Done  46 tasks      | elapsed:    5.7s\n",
      "[Parallel(n_jobs=2)]: Done 196 tasks      | elapsed:   20.6s\n",
      "[Parallel(n_jobs=2)]: Done 446 tasks      | elapsed:   45.1s\n",
      "[Parallel(n_jobs=2)]: Done 796 tasks      | elapsed:  1.4min\n",
      "[Parallel(n_jobs=2)]: Done 1200 out of 1200 | elapsed:  2.1min finished\n"
     ]
    },
    {
     "data": {
      "text/plain": [
       "GridSearchCV(cv=5,\n",
       "             estimator=Pipeline(steps=[('tfid', TfidfVectorizer()),\n",
       "                                       ('nb', MultinomialNB())]),\n",
       "             n_jobs=2,\n",
       "             param_grid={'tfid__max_df': [0.85, 0.9, 0.95],\n",
       "                         'tfid__max_features': [2000, 3000, 4000, 5000, 6000],\n",
       "                         'tfid__min_df': [2, 3, 4, 5],\n",
       "                         'tfid__ngram_range': [(1, 1), (1, 2)],\n",
       "                         'tfid__stop_words': ['english',\n",
       "                                              ['i', 'me', 'my', 'myself', 'we',\n",
       "                                               'our', 'ours', 'ourselves',\n",
       "                                               'you', \"you're\", \"you've\",\n",
       "                                               \"you'll\", \"you'd\", 'your',\n",
       "                                               'yours', 'yourself',\n",
       "                                               'yourselves', 'he', 'him', 'his',\n",
       "                                               'himself', 'she', \"she's\", 'her',\n",
       "                                               'hers', 'herself', 'it', \"it's\",\n",
       "                                               'its', 'itself', ...]]},\n",
       "             verbose=1)"
      ]
     },
     "execution_count": 57,
     "metadata": {},
     "output_type": "execute_result"
    }
   ],
   "source": [
    "pipe = Pipeline([\n",
    "    ('tfid', TfidfVectorizer()),\n",
    "    ('nb', MultinomialNB())\n",
    "])\n",
    "\n",
    "pipe_params = {'tfid__max_features': [2000,3000,4000,5000,6000],\n",
    "              'tfid__min_df': [2,3,4,5],\n",
    "              'tfid__max_df': [.85,.9,.95],\n",
    "              'tfid__ngram_range': [(1,1),(1,2)],\n",
    "              'tfid__stop_words': ['english', more_stopwords]}\n",
    "\n",
    "gs = GridSearchCV(pipe,\n",
    "                  pipe_params,\n",
    "                  cv = 5, verbose=1, n_jobs=2)\n",
    "\n",
    "gs.fit(X_train, y_train)"
   ]
  },
  {
   "cell_type": "code",
   "execution_count": 58,
   "metadata": {
    "scrolled": true
   },
   "outputs": [
    {
     "data": {
      "text/plain": [
       "({'tfid__max_df': 0.85,\n",
       "  'tfid__max_features': 6000,\n",
       "  'tfid__min_df': 2,\n",
       "  'tfid__ngram_range': (1, 2),\n",
       "  'tfid__stop_words': ['i',\n",
       "   'me',\n",
       "   'my',\n",
       "   'myself',\n",
       "   'we',\n",
       "   'our',\n",
       "   'ours',\n",
       "   'ourselves',\n",
       "   'you',\n",
       "   \"you're\",\n",
       "   \"you've\",\n",
       "   \"you'll\",\n",
       "   \"you'd\",\n",
       "   'your',\n",
       "   'yours',\n",
       "   'yourself',\n",
       "   'yourselves',\n",
       "   'he',\n",
       "   'him',\n",
       "   'his',\n",
       "   'himself',\n",
       "   'she',\n",
       "   \"she's\",\n",
       "   'her',\n",
       "   'hers',\n",
       "   'herself',\n",
       "   'it',\n",
       "   \"it's\",\n",
       "   'its',\n",
       "   'itself',\n",
       "   'they',\n",
       "   'them',\n",
       "   'their',\n",
       "   'theirs',\n",
       "   'themselves',\n",
       "   'what',\n",
       "   'which',\n",
       "   'who',\n",
       "   'whom',\n",
       "   'this',\n",
       "   'that',\n",
       "   \"that'll\",\n",
       "   'these',\n",
       "   'those',\n",
       "   'am',\n",
       "   'is',\n",
       "   'are',\n",
       "   'was',\n",
       "   'were',\n",
       "   'be',\n",
       "   'been',\n",
       "   'being',\n",
       "   'have',\n",
       "   'has',\n",
       "   'had',\n",
       "   'having',\n",
       "   'do',\n",
       "   'does',\n",
       "   'did',\n",
       "   'doing',\n",
       "   'a',\n",
       "   'an',\n",
       "   'the',\n",
       "   'and',\n",
       "   'but',\n",
       "   'if',\n",
       "   'or',\n",
       "   'because',\n",
       "   'as',\n",
       "   'until',\n",
       "   'while',\n",
       "   'of',\n",
       "   'at',\n",
       "   'by',\n",
       "   'for',\n",
       "   'with',\n",
       "   'about',\n",
       "   'against',\n",
       "   'between',\n",
       "   'into',\n",
       "   'through',\n",
       "   'during',\n",
       "   'before',\n",
       "   'after',\n",
       "   'above',\n",
       "   'below',\n",
       "   'to',\n",
       "   'from',\n",
       "   'up',\n",
       "   'down',\n",
       "   'in',\n",
       "   'out',\n",
       "   'on',\n",
       "   'off',\n",
       "   'over',\n",
       "   'under',\n",
       "   'again',\n",
       "   'further',\n",
       "   'then',\n",
       "   'once',\n",
       "   'here',\n",
       "   'there',\n",
       "   'when',\n",
       "   'where',\n",
       "   'why',\n",
       "   'how',\n",
       "   'all',\n",
       "   'any',\n",
       "   'both',\n",
       "   'each',\n",
       "   'few',\n",
       "   'more',\n",
       "   'most',\n",
       "   'other',\n",
       "   'some',\n",
       "   'such',\n",
       "   'no',\n",
       "   'nor',\n",
       "   'not',\n",
       "   'only',\n",
       "   'own',\n",
       "   'same',\n",
       "   'so',\n",
       "   'than',\n",
       "   'too',\n",
       "   'very',\n",
       "   's',\n",
       "   't',\n",
       "   'can',\n",
       "   'will',\n",
       "   'just',\n",
       "   'don',\n",
       "   \"don't\",\n",
       "   'should',\n",
       "   \"should've\",\n",
       "   'now',\n",
       "   'd',\n",
       "   'll',\n",
       "   'm',\n",
       "   'o',\n",
       "   're',\n",
       "   've',\n",
       "   'y',\n",
       "   'ain',\n",
       "   'aren',\n",
       "   \"aren't\",\n",
       "   'couldn',\n",
       "   \"couldn't\",\n",
       "   'didn',\n",
       "   \"didn't\",\n",
       "   'doesn',\n",
       "   \"doesn't\",\n",
       "   'hadn',\n",
       "   \"hadn't\",\n",
       "   'hasn',\n",
       "   \"hasn't\",\n",
       "   'haven',\n",
       "   \"haven't\",\n",
       "   'isn',\n",
       "   \"isn't\",\n",
       "   'ma',\n",
       "   'mightn',\n",
       "   \"mightn't\",\n",
       "   'mustn',\n",
       "   \"mustn't\",\n",
       "   'needn',\n",
       "   \"needn't\",\n",
       "   'shan',\n",
       "   \"shan't\",\n",
       "   'shouldn',\n",
       "   \"shouldn't\",\n",
       "   'wasn',\n",
       "   \"wasn't\",\n",
       "   'weren',\n",
       "   \"weren't\",\n",
       "   'won',\n",
       "   \"won't\",\n",
       "   'wouldn',\n",
       "   \"wouldn't\",\n",
       "   'depression',\n",
       "   'shower thoughts',\n",
       "   'shower',\n",
       "   'thoughts']},\n",
       " 0.8578358208955225,\n",
       " Pipeline(steps=[('tfid',\n",
       "                  TfidfVectorizer(max_df=0.85, max_features=6000, min_df=2,\n",
       "                                  ngram_range=(1, 2),\n",
       "                                  stop_words=['i', 'me', 'my', 'myself', 'we',\n",
       "                                              'our', 'ours', 'ourselves', 'you',\n",
       "                                              \"you're\", \"you've\", \"you'll\",\n",
       "                                              \"you'd\", 'your', 'yours',\n",
       "                                              'yourself', 'yourselves', 'he',\n",
       "                                              'him', 'his', 'himself', 'she',\n",
       "                                              \"she's\", 'her', 'hers', 'herself',\n",
       "                                              'it', \"it's\", 'its', 'itself', ...])),\n",
       "                 ('nb', MultinomialNB())]))"
      ]
     },
     "execution_count": 58,
     "metadata": {},
     "output_type": "execute_result"
    }
   ],
   "source": [
    "gs.best_params_, gs.best_score_, gs.best_estimator_"
   ]
  },
  {
   "cell_type": "code",
   "execution_count": 59,
   "metadata": {},
   "outputs": [
    {
     "data": {
      "text/plain": [
       "(0.9044029850746269, 0.8610606060606061)"
      ]
     },
     "execution_count": 59,
     "metadata": {},
     "output_type": "execute_result"
    }
   ],
   "source": [
    "gs.score(X_train, y_train), gs.score(X_test, y_test)"
   ]
  },
  {
   "cell_type": "code",
   "execution_count": 60,
   "metadata": {},
   "outputs": [
    {
     "data": {
      "image/png": "[encoded data removed]",
      "text/plain": [
       "<Figure size 432x288 with 2 Axes>"
      ]
     },
     "metadata": {
      "needs_background": "light"
     },
     "output_type": "display_data"
    }
   ],
   "source": [
    "preds = gs.predict(X_test)\n",
    "tn, fp, fn, tp = confusion_matrix(y_test, preds).ravel()\n",
    "plot_confusion_matrix(gs, X_test, y_test, cmap='Greens', values_format='d');"
   ]
  },
  {
   "cell_type": "code",
   "execution_count": 61,
   "metadata": {},
   "outputs": [
    {
     "data": {
      "text/plain": [
       "(0.8748477466504263, 0.8474065138721351)"
      ]
     },
     "execution_count": 61,
     "metadata": {},
     "output_type": "execute_result"
    }
   ],
   "source": [
    "# Specificity\n",
    "spec = tn / (tn + fp)\n",
    "# Sensitivity\n",
    "sen = tp / (tp + fn)\n",
    "spec, sen"
   ]
  },
  {
   "cell_type": "markdown",
   "metadata": {},
   "source": [
    "# Random Forest Models"
   ]
  },
  {
   "cell_type": "markdown",
   "metadata": {},
   "source": [
    "In order to cover all basis of modeling, I will be doing a RandomForest model as well as ExtraTree model.\n",
    "\n",
    "---\n",
    "First practice model."
   ]
  },
  {
   "cell_type": "code",
   "execution_count": 8,
   "metadata": {},
   "outputs": [
    {
     "name": "stdout",
     "output_type": "stream",
     "text": [
      "Fitting 5 folds for each of 18 candidates, totalling 90 fits\n"
     ]
    },
    {
     "name": "stderr",
     "output_type": "stream",
     "text": [
      "[Parallel(n_jobs=2)]: Using backend LokyBackend with 2 concurrent workers.\n",
      "[Parallel(n_jobs=2)]: Done  46 tasks      | elapsed:  8.5min\n",
      "[Parallel(n_jobs=2)]: Done  90 out of  90 | elapsed:  9.3min finished\n"
     ]
    },
    {
     "data": {
      "text/plain": [
       "GridSearchCV(cv=5,\n",
       "             estimator=Pipeline(steps=[('trans', TfidfVectorizer()),\n",
       "                                       ('model',\n",
       "                                        RandomForestClassifier(random_state=66))]),\n",
       "             n_jobs=2,\n",
       "             param_grid={'model__max_depth': [None, 5, 6],\n",
       "                         'model__max_features': [None, 'auto'],\n",
       "                         'model__n_estimators': [75, 100, 125]},\n",
       "             verbose=1)"
      ]
     },
     "execution_count": 8,
     "metadata": {},
     "output_type": "execute_result"
    }
   ],
   "source": [
    "pipe = Pipeline([\n",
    "    ('trans', TfidfVectorizer()),\n",
    "    ('model', RandomForestClassifier(random_state=66))\n",
    "])\n",
    "\n",
    "params = {\n",
    "    'model__n_estimators':[75, 100, 125],\n",
    "    'model__max_features': [None, 'auto'],\n",
    "    'model__max_depth': [None, 5, 6]\n",
    "}\n",
    "\n",
    "gs = GridSearchCV(pipe, \n",
    "                  param_grid=params,\n",
    "                  cv=5, verbose=1, n_jobs=2)\n",
    "\n",
    "gs.fit(X_train, y_train)"
   ]
  },
  {
   "cell_type": "code",
   "execution_count": 9,
   "metadata": {},
   "outputs": [
    {
     "data": {
      "text/plain": [
       "({'model__max_depth': None,\n",
       "  'model__max_features': 'auto',\n",
       "  'model__n_estimators': 125},\n",
       " 0.9048507462686567,\n",
       " Pipeline(steps=[('trans', TfidfVectorizer()),\n",
       "                 ('model',\n",
       "                  RandomForestClassifier(n_estimators=125, random_state=66))]))"
      ]
     },
     "execution_count": 9,
     "metadata": {},
     "output_type": "execute_result"
    }
   ],
   "source": [
    "gs.best_params_, gs.best_score_, gs.best_estimator_"
   ]
  },
  {
   "cell_type": "code",
   "execution_count": 10,
   "metadata": {},
   "outputs": [
    {
     "data": {
      "text/plain": [
       "(0.9984328358208955, 0.9072727272727272)"
      ]
     },
     "execution_count": 10,
     "metadata": {},
     "output_type": "execute_result"
    }
   ],
   "source": [
    "gs.score(X_train, y_train), gs.score(X_test, y_test)"
   ]
  },
  {
   "cell_type": "code",
   "execution_count": 11,
   "metadata": {},
   "outputs": [
    {
     "data": {
      "image/png": "[encoded data removed]",
      "text/plain": [
       "<Figure size 432x288 with 2 Axes>"
      ]
     },
     "metadata": {
      "needs_background": "light"
     },
     "output_type": "display_data"
    }
   ],
   "source": [
    "preds = gs.predict(X_test)\n",
    "tn, fp, fn, tp = confusion_matrix(y_test, preds).ravel()\n",
    "plot_confusion_matrix(gs, X_test, y_test, cmap='Greens', values_format='d');"
   ]
  },
  {
   "cell_type": "code",
   "execution_count": 12,
   "metadata": {},
   "outputs": [
    {
     "data": {
      "text/plain": [
       "(0.8979902557856273, 0.9164656212303981)"
      ]
     },
     "execution_count": 12,
     "metadata": {},
     "output_type": "execute_result"
    }
   ],
   "source": [
    "# Specificity\n",
    "spec = tn / (tn + fp)\n",
    "# Sensitivity\n",
    "sen = tp / (tp + fn)\n",
    "spec, sen"
   ]
  },
  {
   "cell_type": "markdown",
   "metadata": {},
   "source": [
    "I wanna make a model that uses the same parameters as my best model but with a random forest model instead of a logistic regression.\n",
    "\n",
    "---\n",
    "After looking at the results, it is a much worse model that I could have expected. It is also overfitting like crazy."
   ]
  },
  {
   "cell_type": "code",
   "execution_count": 41,
   "metadata": {},
   "outputs": [
    {
     "name": "stdout",
     "output_type": "stream",
     "text": [
      "Fitting 5 folds for each of 240 candidates, totalling 1200 fits\n"
     ]
    },
    {
     "name": "stderr",
     "output_type": "stream",
     "text": [
      "[Parallel(n_jobs=5)]: Using backend LokyBackend with 5 concurrent workers.\n",
      "[Parallel(n_jobs=5)]: Done  40 tasks      | elapsed:  2.4min\n",
      "[Parallel(n_jobs=5)]: Done 190 tasks      | elapsed:  8.6min\n",
      "[Parallel(n_jobs=5)]: Done 440 tasks      | elapsed:  9.1min\n",
      "[Parallel(n_jobs=5)]: Done 790 tasks      | elapsed:  9.8min\n",
      "[Parallel(n_jobs=5)]: Done 1200 out of 1200 | elapsed: 10.6min finished\n"
     ]
    },
    {
     "data": {
      "text/plain": [
       "GridSearchCV(cv=5,\n",
       "             estimator=Pipeline(steps=[('trans', CountVectorizer()),\n",
       "                                       ('model', RandomForestClassifier())]),\n",
       "             n_jobs=5,\n",
       "             param_grid={'model__max_depth': [None, 3, 4, 5, 6],\n",
       "                         'model__max_features': ['auto', 'log2'],\n",
       "                         'model__min_samples_leaf': [1, 2],\n",
       "                         'model__n_estimators': [100, 125],\n",
       "                         'trans__ngram_range': [(1, 1), (2, 2), (3, 3)],\n",
       "                         'trans__stop_words': ['english',\n",
       "                                               ['i', 'me', 'my', 'myself', 'we',\n",
       "                                                'our', 'ours', 'ourselves',\n",
       "                                                'you', \"you're\", \"you've\",\n",
       "                                                \"you'll\", \"you'd\", 'your',\n",
       "                                                'yours', 'yourself',\n",
       "                                                'yourselves', 'he', 'him',\n",
       "                                                'his', 'himself', 'she',\n",
       "                                                \"she's\", 'her', 'hers',\n",
       "                                                'herself', 'it', \"it's\", 'its',\n",
       "                                                'itself', ...]]},\n",
       "             verbose=1)"
      ]
     },
     "execution_count": 41,
     "metadata": {},
     "output_type": "execute_result"
    }
   ],
   "source": [
    "# cvec and logreg\n",
    "\n",
    "# what should be removed\n",
    "# Max features can get rid of because already limiting\n",
    "\n",
    "pipe = Pipeline([\n",
    "    ('trans', CountVectorizer()),\n",
    "    ('model', RandomForestClassifier())\n",
    "])\n",
    "\n",
    "pipe_params = {\n",
    "              'trans__ngram_range': [(1,1),(2,2),(3,3)], # dont go too crazy\n",
    "              'trans__stop_words': ['english', more_stopwords],\n",
    "              'model__n_estimators':[100, 125],\n",
    "              'model__max_depth': [None,3,4, 5, 6],\n",
    "              'model__max_features':['auto','log2'],\n",
    "#               'model__min_samples_splits': [2,3],\n",
    "              'model__min_samples_leaf':[1,2],\n",
    "}\n",
    "\n",
    "gs = GridSearchCV(pipe,\n",
    "                  pipe_params,\n",
    "                  cv = 5, verbose=1, n_jobs=5)\n",
    "\n",
    "gs.fit(X_train, y_train)"
   ]
  },
  {
   "cell_type": "markdown",
   "metadata": {},
   "source": [
    "These results were from a really bad model."
   ]
  },
  {
   "cell_type": "code",
   "execution_count": 42,
   "metadata": {
    "scrolled": true
   },
   "outputs": [
    {
     "data": {
      "text/plain": [
       "({'model__max_depth': None,\n",
       "  'model__max_features': 'log2',\n",
       "  'model__min_samples_leaf': 2,\n",
       "  'model__n_estimators': 125,\n",
       "  'trans__ngram_range': (1, 1),\n",
       "  'trans__stop_words': 'english'},\n",
       " 0.8490298507462686,\n",
       " Pipeline(steps=[('trans', CountVectorizer(stop_words='english')),\n",
       "                 ('model',\n",
       "                  RandomForestClassifier(max_features='log2', min_samples_leaf=2,\n",
       "                                         n_estimators=125))]))"
      ]
     },
     "execution_count": 42,
     "metadata": {},
     "output_type": "execute_result"
    }
   ],
   "source": [
    "gs.best_params_, gs.best_score_, gs.best_estimator_"
   ]
  },
  {
   "cell_type": "code",
   "execution_count": 43,
   "metadata": {},
   "outputs": [
    {
     "data": {
      "text/plain": [
       "(0.8819402985074627, 0.850909090909091)"
      ]
     },
     "execution_count": 43,
     "metadata": {},
     "output_type": "execute_result"
    }
   ],
   "source": [
    "gs.score(X_train, y_train), gs.score(X_test, y_test)"
   ]
  },
  {
   "cell_type": "code",
   "execution_count": 44,
   "metadata": {},
   "outputs": [
    {
     "data": {
      "image/png": "[encoded data removed]",
      "text/plain": [
       "<Figure size 432x288 with 2 Axes>"
      ]
     },
     "metadata": {
      "needs_background": "light"
     },
     "output_type": "display_data"
    }
   ],
   "source": [
    "preds = gs.predict(X_test)\n",
    "tn, fp, fn, tp = confusion_matrix(y_test, preds).ravel()\n",
    "plot_confusion_matrix(gs, X_test, y_test, cmap='Greens', values_format='d');"
   ]
  },
  {
   "cell_type": "code",
   "execution_count": 45,
   "metadata": {},
   "outputs": [
    {
     "data": {
      "text/plain": [
       "(0.7737515225334958, 0.9273220747889023)"
      ]
     },
     "execution_count": 45,
     "metadata": {},
     "output_type": "execute_result"
    }
   ],
   "source": [
    "# Specificity\n",
    "spec = tn / (tn + fp)\n",
    "# Sensitivity\n",
    "sen = tp / (tp + fn)\n",
    "spec, sen"
   ]
  },
  {
   "cell_type": "code",
   "execution_count": 46,
   "metadata": {
    "scrolled": true
   },
   "outputs": [
    {
     "data": {
      "text/plain": [
       "['00',\n",
       " '000',\n",
       " '000001',\n",
       " '000gm',\n",
       " '001',\n",
       " '01',\n",
       " '06am',\n",
       " '09',\n",
       " '0x98a',\n",
       " '10',\n",
       " '100',\n",
       " '1000',\n",
       " '1000s',\n",
       " '1000th',\n",
       " '100k',\n",
       " '100mg',\n",
       " '100s',\n",
       " '100th',\n",
       " '100x',\n",
       " '100yrs',\n",
       " '101',\n",
       " '102',\n",
       " '107',\n",
       " '10km',\n",
       " '10mg',\n",
       " '10th',\n",
       " '10x',\n",
       " '11',\n",
       " '111111111',\n",
       " '112',\n",
       " '11pm',\n",
       " '11th',\n",
       " '12',\n",
       " '1200',\n",
       " '122',\n",
       " '12345678987654321',\n",
       " '13',\n",
       " '13yo',\n",
       " '14',\n",
       " '1400mg',\n",
       " '140p',\n",
       " '15',\n",
       " '1500',\n",
       " '15m',\n",
       " '15mg',\n",
       " '15mins',\n",
       " '15th',\n",
       " '15y',\n",
       " '16',\n",
       " '16f',\n",
       " '16th',\n",
       " '17',\n",
       " '1700s',\n",
       " '1776',\n",
       " '17m',\n",
       " '18',\n",
       " '180',\n",
       " '1800',\n",
       " '1800s',\n",
       " '1843',\n",
       " '1870',\n",
       " '19',\n",
       " '1920',\n",
       " '1940s',\n",
       " '1950s',\n",
       " '1955',\n",
       " '1969',\n",
       " '1970',\n",
       " '1979',\n",
       " '197b',\n",
       " '1984',\n",
       " '1985',\n",
       " '1989',\n",
       " '1990',\n",
       " '1990s',\n",
       " '1993',\n",
       " '1994',\n",
       " '1995',\n",
       " '19f',\n",
       " '19m',\n",
       " '1hr',\n",
       " '1k',\n",
       " '1mg',\n",
       " '1million',\n",
       " '1min',\n",
       " '1st',\n",
       " '1x10',\n",
       " '1y',\n",
       " '1yr',\n",
       " '20',\n",
       " '200',\n",
       " '2000',\n",
       " '2000s',\n",
       " '2001',\n",
       " '2002',\n",
       " '2004',\n",
       " '2005',\n",
       " '2006',\n",
       " '200mg',\n",
       " '2010',\n",
       " '2011',\n",
       " '2012',\n",
       " '2013',\n",
       " '2014',\n",
       " '2015',\n",
       " '2016',\n",
       " '2019',\n",
       " '2020',\n",
       " '2020ad',\n",
       " '2020s',\n",
       " '2021',\n",
       " '2022',\n",
       " '2023',\n",
       " '2024',\n",
       " '2025',\n",
       " '2030',\n",
       " '2036',\n",
       " '2040s',\n",
       " '2050',\n",
       " '2069',\n",
       " '2071',\n",
       " '2077',\n",
       " '20am',\n",
       " '20m',\n",
       " '20mg',\n",
       " '20s',\n",
       " '20th',\n",
       " '21',\n",
       " '21f',\n",
       " '21m',\n",
       " '21st',\n",
       " '22',\n",
       " '22ed',\n",
       " '22f',\n",
       " '22m',\n",
       " '22s',\n",
       " '23',\n",
       " '230v',\n",
       " '232',\n",
       " '234',\n",
       " '23f',\n",
       " '24',\n",
       " '24f',\n",
       " '24m',\n",
       " '25',\n",
       " '250',\n",
       " '25mg',\n",
       " '26',\n",
       " '26f',\n",
       " '28',\n",
       " '288',\n",
       " '28f',\n",
       " '28m',\n",
       " '29',\n",
       " '29th',\n",
       " '2am',\n",
       " '2d',\n",
       " '2k20',\n",
       " '2nd',\n",
       " '30',\n",
       " '300',\n",
       " '3000',\n",
       " '31',\n",
       " '32',\n",
       " '33',\n",
       " '34',\n",
       " '35',\n",
       " '350',\n",
       " '35m',\n",
       " '36',\n",
       " '365',\n",
       " '36m',\n",
       " '37',\n",
       " '385',\n",
       " '3am',\n",
       " '3d',\n",
       " '3min',\n",
       " '3po',\n",
       " '3rd',\n",
       " '3x',\n",
       " '3years',\n",
       " '40',\n",
       " '400',\n",
       " '4000',\n",
       " '40lbs',\n",
       " '420',\n",
       " '43',\n",
       " '45',\n",
       " '451',\n",
       " '45f',\n",
       " '45s',\n",
       " '46',\n",
       " '475',\n",
       " '48',\n",
       " '480',\n",
       " '481598',\n",
       " '489',\n",
       " '49',\n",
       " '4am',\n",
       " '4g',\n",
       " '4k',\n",
       " '4months',\n",
       " '4th',\n",
       " '50',\n",
       " '500',\n",
       " '500m',\n",
       " '50mg',\n",
       " '50s',\n",
       " '51',\n",
       " '5168497650',\n",
       " '55',\n",
       " '5500',\n",
       " '59',\n",
       " '5g',\n",
       " '5mg',\n",
       " '5ml',\n",
       " '5pm',\n",
       " '5th',\n",
       " '5x5',\n",
       " '5years',\n",
       " '60',\n",
       " '60mg',\n",
       " '62',\n",
       " '64',\n",
       " '65',\n",
       " '654',\n",
       " '66',\n",
       " '666',\n",
       " '68',\n",
       " '689',\n",
       " '69',\n",
       " '6months',\n",
       " '6pm',\n",
       " '6yo',\n",
       " '70',\n",
       " '700',\n",
       " '700k',\n",
       " '707',\n",
       " '71',\n",
       " '74',\n",
       " '75',\n",
       " '7500',\n",
       " '77',\n",
       " '778',\n",
       " '7pm',\n",
       " '7th',\n",
       " '80',\n",
       " '800',\n",
       " '80mph',\n",
       " '80s',\n",
       " '82',\n",
       " '84',\n",
       " '8489',\n",
       " '85',\n",
       " '888',\n",
       " '8am',\n",
       " '8ft',\n",
       " '8k',\n",
       " '8pm',\n",
       " '8th',\n",
       " '90',\n",
       " '900',\n",
       " '90s',\n",
       " '91',\n",
       " '911',\n",
       " '94',\n",
       " '948',\n",
       " '95',\n",
       " '954',\n",
       " '959',\n",
       " '96b',\n",
       " '97',\n",
       " '99',\n",
       " '9am',\n",
       " '9pm',\n",
       " '9th',\n",
       " '___',\n",
       " '_____',\n",
       " 'a10',\n",
       " 'aa',\n",
       " 'aaa',\n",
       " 'aaaarrrrrggghhh',\n",
       " 'aaah',\n",
       " 'aahhhhhh',\n",
       " 'aang',\n",
       " 'aaron',\n",
       " 'aarp',\n",
       " 'abandon',\n",
       " 'abandoned',\n",
       " 'abandonment',\n",
       " 'abbreviate',\n",
       " 'abbreviated',\n",
       " 'abbreviation',\n",
       " 'abduct',\n",
       " 'abduction',\n",
       " 'abigail',\n",
       " 'abilify',\n",
       " 'abilities',\n",
       " 'ability',\n",
       " 'able',\n",
       " 'ableds',\n",
       " 'abnormal',\n",
       " 'abomination',\n",
       " 'aborting',\n",
       " 'abortion',\n",
       " 'abraham',\n",
       " 'abroad',\n",
       " 'abs',\n",
       " 'absence',\n",
       " 'absentee',\n",
       " 'absolute',\n",
       " 'absolutely',\n",
       " 'absorb',\n",
       " 'absorption',\n",
       " 'abstract',\n",
       " 'abstracts',\n",
       " 'absurdity',\n",
       " 'abundance',\n",
       " 'abuse',\n",
       " 'abusing',\n",
       " 'abusive',\n",
       " 'abysmal',\n",
       " 'abyss',\n",
       " 'ac',\n",
       " 'academic',\n",
       " 'academics',\n",
       " 'acb',\n",
       " 'acc',\n",
       " 'accelerating',\n",
       " 'accent',\n",
       " 'accept',\n",
       " 'acceptable',\n",
       " 'acceptance',\n",
       " 'accepted',\n",
       " 'accepting',\n",
       " 'access',\n",
       " 'accessible',\n",
       " 'accessory',\n",
       " 'accident',\n",
       " 'accidental',\n",
       " 'accidentally',\n",
       " 'accidents',\n",
       " 'accio',\n",
       " 'accommodation',\n",
       " 'accompanied',\n",
       " 'accomplish',\n",
       " 'accomplished',\n",
       " 'accomplishes',\n",
       " 'accomplishments',\n",
       " 'accordingly',\n",
       " 'account',\n",
       " 'accountability',\n",
       " 'accounts',\n",
       " 'accumulate',\n",
       " 'accurate',\n",
       " 'accurately',\n",
       " 'accusation',\n",
       " 'accusations',\n",
       " 'ache',\n",
       " 'aches',\n",
       " 'achieve',\n",
       " 'achieved',\n",
       " 'achievement',\n",
       " 'achiever',\n",
       " 'acid',\n",
       " 'ack',\n",
       " 'acknowledge',\n",
       " 'acknowledged',\n",
       " 'acknowledges',\n",
       " 'acorn',\n",
       " 'acoustic',\n",
       " 'acquaintances',\n",
       " 'acquainted',\n",
       " 'acquired',\n",
       " 'acquiring',\n",
       " 'acrakadamndabrainafabrailoveyoubybruh',\n",
       " 'acronym',\n",
       " 'act',\n",
       " 'acted',\n",
       " 'acting',\n",
       " 'action',\n",
       " 'actions',\n",
       " 'activated',\n",
       " 'active',\n",
       " 'actively',\n",
       " 'activities',\n",
       " 'activity',\n",
       " 'activley',\n",
       " 'actor',\n",
       " 'actors',\n",
       " 'actress',\n",
       " 'acts',\n",
       " 'actual',\n",
       " 'actually',\n",
       " 'actualy',\n",
       " 'acual',\n",
       " 'ad',\n",
       " 'adam',\n",
       " 'adama',\n",
       " 'adamant',\n",
       " 'adams',\n",
       " 'adapted',\n",
       " 'add',\n",
       " 'added',\n",
       " 'adderal',\n",
       " 'addict',\n",
       " 'addicted',\n",
       " 'addiction',\n",
       " 'addictions',\n",
       " 'adding',\n",
       " 'additional',\n",
       " 'address',\n",
       " 'adds',\n",
       " 'adept',\n",
       " 'adhd',\n",
       " 'adidas',\n",
       " 'adjust',\n",
       " 'adjusted',\n",
       " 'admin',\n",
       " 'administration',\n",
       " 'admins',\n",
       " 'admirers',\n",
       " 'admiring',\n",
       " 'admission',\n",
       " 'admissions',\n",
       " 'admit',\n",
       " 'admitted',\n",
       " 'admitting',\n",
       " 'adolescence',\n",
       " 'adolf',\n",
       " 'adopt',\n",
       " 'adopted',\n",
       " 'adopting',\n",
       " 'adoption',\n",
       " 'adrenaline',\n",
       " 'ads',\n",
       " 'adult',\n",
       " 'adultery',\n",
       " 'adulthood',\n",
       " 'adulting',\n",
       " 'adults',\n",
       " 'adum',\n",
       " 'advance',\n",
       " 'advanced',\n",
       " 'advancement',\n",
       " 'advancements',\n",
       " 'advantage',\n",
       " 'adventage',\n",
       " 'adventure',\n",
       " 'adventures',\n",
       " 'advertised',\n",
       " 'advertisement',\n",
       " 'advertisements',\n",
       " 'advertising',\n",
       " 'advertisment',\n",
       " 'advice',\n",
       " 'adviced',\n",
       " 'advices',\n",
       " 'advil',\n",
       " 'advise',\n",
       " 'advocate',\n",
       " 'aerodynamic',\n",
       " 'aesthetic',\n",
       " 'aesthetician',\n",
       " 'af',\n",
       " 'affairs',\n",
       " 'affe',\n",
       " 'affect',\n",
       " 'affected',\n",
       " 'affecting',\n",
       " 'affection',\n",
       " 'affectionately',\n",
       " 'affects',\n",
       " 'affirmations',\n",
       " 'afford',\n",
       " 'afghanistan',\n",
       " 'afk',\n",
       " 'afraid',\n",
       " 'africa',\n",
       " 'african',\n",
       " 'afterlife',\n",
       " 'aftermath',\n",
       " 'afternoon',\n",
       " 'age',\n",
       " 'aged',\n",
       " 'ageing',\n",
       " 'agenda',\n",
       " 'agent',\n",
       " 'agents',\n",
       " 'ages',\n",
       " 'aggravating',\n",
       " 'aggressive',\n",
       " 'aggressively',\n",
       " 'aggressors',\n",
       " 'aggro',\n",
       " 'aging',\n",
       " 'agnostic',\n",
       " 'ago',\n",
       " 'agomelatine',\n",
       " 'agony',\n",
       " 'agree',\n",
       " 'agreed',\n",
       " 'agreeing',\n",
       " 'agressi',\n",
       " 'agricultural',\n",
       " 'ah',\n",
       " 'aha',\n",
       " 'ahead',\n",
       " 'ahhhhhh',\n",
       " 'ahhhhhhhhhhhhhh',\n",
       " 'ai',\n",
       " 'aibohphobia',\n",
       " 'aides',\n",
       " 'aids',\n",
       " 'aiite',\n",
       " 'ailments',\n",
       " 'aim',\n",
       " 'aimed',\n",
       " 'aimless',\n",
       " 'aimlessly',\n",
       " 'ain',\n",
       " 'aint',\n",
       " 'air',\n",
       " 'airbender',\n",
       " 'airing',\n",
       " 'airline',\n",
       " 'airplane',\n",
       " 'airplanes',\n",
       " 'airport',\n",
       " 'ais',\n",
       " 'aka',\n",
       " 'akon',\n",
       " 'akward',\n",
       " 'al',\n",
       " 'alabama',\n",
       " 'aladdin',\n",
       " 'alai',\n",
       " 'alan',\n",
       " 'alao',\n",
       " 'alarm',\n",
       " 'alaskan',\n",
       " 'album',\n",
       " 'albums',\n",
       " 'alcohol',\n",
       " 'alcoholic',\n",
       " 'alcoholics',\n",
       " 'alcoholism',\n",
       " 'alcohols',\n",
       " 'alert',\n",
       " 'alex',\n",
       " 'alexa',\n",
       " 'alexandria',\n",
       " 'alfabetical',\n",
       " 'algorithm',\n",
       " 'algorithms',\n",
       " 'ali',\n",
       " 'alice',\n",
       " 'alicorns',\n",
       " 'alien',\n",
       " 'alienated',\n",
       " 'aliens',\n",
       " 'align',\n",
       " 'aligned',\n",
       " 'alike',\n",
       " 'alive',\n",
       " 'allah',\n",
       " 'allergic',\n",
       " 'allergies',\n",
       " 'allergy',\n",
       " 'allies',\n",
       " 'allison',\n",
       " 'allll',\n",
       " 'allnof',\n",
       " 'allow',\n",
       " 'allowed',\n",
       " 'allowing',\n",
       " 'allows',\n",
       " 'alls',\n",
       " 'allstate',\n",
       " 'allusion',\n",
       " 'allworry',\n",
       " 'almpst',\n",
       " 'alonr',\n",
       " 'alot',\n",
       " 'aloud',\n",
       " 'alpha',\n",
       " 'alphabet',\n",
       " 'alphabetical',\n",
       " 'alphabets',\n",
       " 'alprazalam',\n",
       " 'alright',\n",
       " 'alsl',\n",
       " 'alter',\n",
       " 'alternate',\n",
       " 'alternative',\n",
       " 'alternatives',\n",
       " 'altogether',\n",
       " 'aluminum',\n",
       " 'alventa',\n",
       " 'alvin',\n",
       " 'alzheimer',\n",
       " 'alzheimers',\n",
       " 'amalgamation',\n",
       " 'amateur',\n",
       " 'amazed',\n",
       " 'amazing',\n",
       " 'amazon',\n",
       " 'amber',\n",
       " 'ambidexterity',\n",
       " 'ambidextrous',\n",
       " 'ambitions',\n",
       " 'ambulance',\n",
       " 'amen',\n",
       " 'america',\n",
       " 'american',\n",
       " 'americans',\n",
       " 'americas',\n",
       " 'amerikaren',\n",
       " 'amish',\n",
       " 'amitriptyline',\n",
       " 'ammo',\n",
       " 'ammount',\n",
       " 'amnesia',\n",
       " 'amongusporn',\n",
       " 'amounts',\n",
       " 'amp',\n",
       " 'amputation',\n",
       " 'amr',\n",
       " 'amusing',\n",
       " 'amy',\n",
       " 'amygdala',\n",
       " 'anafranil',\n",
       " 'anagram',\n",
       " 'anal',\n",
       " 'analogy',\n",
       " 'analysis',\n",
       " 'analyze',\n",
       " 'analyzed',\n",
       " 'anarchy',\n",
       " 'anatomical',\n",
       " 'anatomically',\n",
       " 'ancestors',\n",
       " 'ancestry',\n",
       " 'ancient',\n",
       " 'andrei',\n",
       " 'android',\n",
       " 'androids',\n",
       " 'andy',\n",
       " 'anecdote',\n",
       " 'anemia',\n",
       " 'anesthesia',\n",
       " 'angel',\n",
       " 'anger',\n",
       " 'angrily',\n",
       " 'angry',\n",
       " 'angy',\n",
       " 'anhedonia',\n",
       " 'animal',\n",
       " 'animals',\n",
       " 'animated',\n",
       " 'animation',\n",
       " 'animations',\n",
       " 'anime',\n",
       " 'animes',\n",
       " 'annihilation',\n",
       " 'anniversary',\n",
       " 'announce',\n",
       " 'announced',\n",
       " 'announcement',\n",
       " 'announcing',\n",
       " 'annoy',\n",
       " 'annoyance',\n",
       " 'annoyed',\n",
       " 'annoying',\n",
       " 'annually',\n",
       " 'anon',\n",
       " 'anonymous',\n",
       " 'anorexia',\n",
       " 'answer',\n",
       " 'answering',\n",
       " 'answers',\n",
       " 'ant',\n",
       " 'antagonists',\n",
       " 'antarctica',\n",
       " 'anthem',\n",
       " 'anti',\n",
       " 'antibacterial',\n",
       " 'antibiotic',\n",
       " 'antibodies',\n",
       " 'anticipation',\n",
       " 'anticlimactic',\n",
       " 'antidepressant',\n",
       " 'antidepressants',\n",
       " 'antiquated',\n",
       " 'antique',\n",
       " 'antisocial',\n",
       " 'antithesis',\n",
       " 'antivaxx',\n",
       " 'antivaxxers',\n",
       " 'antivirus',\n",
       " 'antonyms',\n",
       " 'ants',\n",
       " 'anus',\n",
       " 'anxieties',\n",
       " 'anxiety',\n",
       " 'anxious',\n",
       " 'anxixty',\n",
       " 'anybody',\n",
       " 'anymore',\n",
       " 'anytime',\n",
       " 'anyways',\n",
       " 'aoe',\n",
       " 'apart',\n",
       " 'apartment',\n",
       " 'apartments',\n",
       " 'apathetic',\n",
       " 'apathy',\n",
       " 'apes',\n",
       " 'apex',\n",
       " 'apo',\n",
       " 'apocalypse',\n",
       " 'apocalyptic',\n",
       " 'apologies',\n",
       " 'apologise',\n",
       " 'apologize',\n",
       " 'apology',\n",
       " 'apostrophe',\n",
       " 'app',\n",
       " 'apparent',\n",
       " 'apparently',\n",
       " 'appeal',\n",
       " 'appeals',\n",
       " 'appear',\n",
       " 'appearance',\n",
       " 'appearing',\n",
       " 'appears',\n",
       " 'appendix',\n",
       " 'appetite',\n",
       " 'applaud',\n",
       " 'applauding',\n",
       " 'apple',\n",
       " 'apples',\n",
       " 'applicable',\n",
       " 'application',\n",
       " 'applications',\n",
       " 'applied',\n",
       " 'apply',\n",
       " 'applying',\n",
       " 'appointment',\n",
       " 'appointments',\n",
       " 'appreciate',\n",
       " 'appreciated',\n",
       " 'appreciation',\n",
       " 'appreciative',\n",
       " 'approaches',\n",
       " 'appropriate',\n",
       " 'approve',\n",
       " 'approved',\n",
       " 'apps',\n",
       " 'appt',\n",
       " 'april',\n",
       " 'apt',\n",
       " 'aptly',\n",
       " 'aquarium',\n",
       " 'aquariums',\n",
       " 'aquatic',\n",
       " 'ar',\n",
       " 'arabia',\n",
       " 'arabian',\n",
       " 'arabic',\n",
       " 'arabs',\n",
       " 'arbitrarily',\n",
       " 'arbitrary',\n",
       " 'arcade',\n",
       " 'archaeologists',\n",
       " 'archaic',\n",
       " 'archeologists',\n",
       " 'archer',\n",
       " 'area',\n",
       " 'areas',\n",
       " 'aren',\n",
       " 'arena',\n",
       " 'arent',\n",
       " 'arguably',\n",
       " 'argue',\n",
       " 'argued',\n",
       " 'arguing',\n",
       " 'argument',\n",
       " 'arguments',\n",
       " 'aribender',\n",
       " 'aripiprazole',\n",
       " 'aristocracy',\n",
       " 'arizona',\n",
       " 'arm',\n",
       " 'armies',\n",
       " 'armor',\n",
       " 'armored',\n",
       " 'armour',\n",
       " 'armpit',\n",
       " 'armpits',\n",
       " 'arms',\n",
       " 'armstrong',\n",
       " 'aroused',\n",
       " 'arranged',\n",
       " 'arrangement',\n",
       " 'arrangements',\n",
       " 'arrest',\n",
       " 'arrested',\n",
       " 'arrive',\n",
       " 'arrived',\n",
       " 'arrogance',\n",
       " 'art',\n",
       " 'arteries',\n",
       " 'article',\n",
       " 'articulate',\n",
       " 'artificially',\n",
       " 'artisans',\n",
       " 'artist',\n",
       " 'artistic',\n",
       " 'artists',\n",
       " 'arts',\n",
       " 'artwork',\n",
       " 'artworks',\n",
       " 'asap',\n",
       " 'ascii',\n",
       " 'asda',\n",
       " 'asf',\n",
       " 'asfixiate',\n",
       " 'ashamed',\n",
       " 'asia',\n",
       " 'asian',\n",
       " 'asians',\n",
       " 'aside',\n",
       " 'ask',\n",
       " 'asked',\n",
       " 'asking',\n",
       " 'askreddit',\n",
       " 'asks',\n",
       " 'asleep',\n",
       " 'asmr',\n",
       " 'aspect',\n",
       " 'aspects',\n",
       " 'asphalt',\n",
       " 'aspire',\n",
       " 'aspirin',\n",
       " 'ass',\n",
       " 'assassinated',\n",
       " 'assassination',\n",
       " 'assassinations',\n",
       " 'assault',\n",
       " 'assaulted',\n",
       " 'assembling',\n",
       " 'assertive',\n",
       " 'asses',\n",
       " 'assesses',\n",
       " 'assessment',\n",
       " 'asset',\n",
       " 'asshole',\n",
       " 'assholes',\n",
       " 'assign',\n",
       " 'assignment',\n",
       " 'assignments',\n",
       " 'assistance',\n",
       " 'assistant',\n",
       " 'assisted',\n",
       " 'assistent',\n",
       " 'associate',\n",
       " 'associated',\n",
       " 'assume',\n",
       " 'assumes',\n",
       " 'assuming',\n",
       " 'assured',\n",
       " 'asterisk',\n",
       " 'asteroids',\n",
       " 'astley',\n",
       " 'astray',\n",
       " 'astronaut',\n",
       " 'astronauts',\n",
       " 'astronomers',\n",
       " 'ate',\n",
       " 'atf',\n",
       " 'atheist',\n",
       " 'atheists',\n",
       " 'athleisure',\n",
       " 'athletes',\n",
       " 'atlantis',\n",
       " 'atleast',\n",
       " 'atmosphere',\n",
       " 'atmospheres',\n",
       " 'atom',\n",
       " 'atomic',\n",
       " 'atoms',\n",
       " 'attach',\n",
       " 'attachable',\n",
       " 'attached',\n",
       " 'attachment',\n",
       " 'attack',\n",
       " 'attacked',\n",
       " 'attacks',\n",
       " 'attempt',\n",
       " 'attempted',\n",
       " 'attempting',\n",
       " 'attempts',\n",
       " 'attend',\n",
       " 'attendance',\n",
       " 'attends',\n",
       " 'attention',\n",
       " 'attentionn',\n",
       " 'attitude',\n",
       " 'attract',\n",
       " 'attracted',\n",
       " 'attracting',\n",
       " 'attraction',\n",
       " 'attractive',\n",
       " 'attracts',\n",
       " 'audience',\n",
       " 'audio',\n",
       " 'audiobook',\n",
       " 'audition',\n",
       " 'augmented',\n",
       " 'aushwitz',\n",
       " 'austin',\n",
       " 'australia',\n",
       " 'australian',\n",
       " 'austria',\n",
       " 'auswitz',\n",
       " 'author',\n",
       " 'authoritarian',\n",
       " 'authors',\n",
       " 'autism',\n",
       " 'autistic',\n",
       " 'auto',\n",
       " 'autocorrect',\n",
       " 'automated',\n",
       " 'automatic',\n",
       " 'automatically',\n",
       " 'automobile',\n",
       " 'automod',\n",
       " 'automoderaor',\n",
       " 'automoderator',\n",
       " 'autotune',\n",
       " 'autumn',\n",
       " 'avada',\n",
       " 'available',\n",
       " 'avarice',\n",
       " 'avatar',\n",
       " 'avatars',\n",
       " 'avengers',\n",
       " 'aventures',\n",
       " 'average',\n",
       " 'avid',\n",
       " 'avocado',\n",
       " 'avocadoes',\n",
       " 'avocados',\n",
       " 'avoid',\n",
       " 'avoidance',\n",
       " 'avoided',\n",
       " 'avoiding',\n",
       " 'awake',\n",
       " 'awakener',\n",
       " 'award',\n",
       " 'awards',\n",
       " 'aware',\n",
       " 'awareness',\n",
       " 'away',\n",
       " 'awe',\n",
       " 'awesome',\n",
       " 'awful',\n",
       " 'awfuleverything',\n",
       " 'awhile',\n",
       " 'awkward',\n",
       " 'awkwardly',\n",
       " 'awkwardness',\n",
       " 'awnser',\n",
       " 'awomam',\n",
       " 'awww',\n",
       " 'añejo',\n",
       " 'b3cause',\n",
       " 'ba',\n",
       " 'babe',\n",
       " 'babies',\n",
       " 'baby',\n",
       " 'babymaking',\n",
       " 'bachelorette',\n",
       " 'bachelors',\n",
       " 'backbreaking',\n",
       " 'backfire',\n",
       " 'background',\n",
       " 'backhanded',\n",
       " 'backhanding',\n",
       " 'backlash',\n",
       " 'backup',\n",
       " 'backwards',\n",
       " 'backwater',\n",
       " 'backyardigans',\n",
       " 'bacon',\n",
       " 'bacteria',\n",
       " 'bad',\n",
       " 'badass',\n",
       " 'badge',\n",
       " ...]"
      ]
     },
     "execution_count": 46,
     "metadata": {},
     "output_type": "execute_result"
    }
   ],
   "source": [
    "# Bust out the coefficients, feature importance\n",
    "gs.best_estimator_.named_steps['trans'].get_feature_names()"
   ]
  },
  {
   "cell_type": "markdown",
   "metadata": {},
   "source": [
    "# Importing my stemmed words and running a model on it.\n",
    "\n",
    "---\n",
    "In the models here, instead of applying CountVectorizer (CVEC) and TfidVectorizer (TFID) on...\n",
    "```python\n",
    "thoughts['title']\n",
    "```\n",
    "and running a model on it. \n",
    "\n",
    "Now, I will import my own stemmed and lemmatized tokens, \"token_df.csv\" and run some models on them. The reason is because in this csv file, I had already tokenized them but had done nothing else on them. After performing a bit of EDA, the PorterStemmed words had a more significant difference from a normal CVEC/TFID on the title. The word \"depress\" made a big change in terms of how many times it appears meaning the other variants of it became stemmed to \"depress\". This adds more weight to the word as well decrease the number of columns/features for the model.\n",
    "```python\n",
    "thoughts2 = pd.read_csv('saved_data/token_df.csv')\n",
    "```\n",
    "\n",
    "---\n",
    "My predictions: I think this may improve the model since we are grouping the words onto the root of the word. This can help reduce the number of features."
   ]
  },
  {
   "cell_type": "code",
   "execution_count": 47,
   "metadata": {},
   "outputs": [],
   "source": [
    "thoughts2 = pd.read_csv('saved_data/token_df.csv')"
   ]
  },
  {
   "cell_type": "code",
   "execution_count": 48,
   "metadata": {},
   "outputs": [
    {
     "data": {
      "text/html": [
       "<div>\n",
       "<style scoped>\n",
       "    .dataframe tbody tr th:only-of-type {\n",
       "        vertical-align: middle;\n",
       "    }\n",
       "\n",
       "    .dataframe tbody tr th {\n",
       "        vertical-align: top;\n",
       "    }\n",
       "\n",
       "    .dataframe thead th {\n",
       "        text-align: right;\n",
       "    }\n",
       "</style>\n",
       "<table border=\"1\" class=\"dataframe\">\n",
       "  <thead>\n",
       "    <tr style=\"text-align: right;\">\n",
       "      <th></th>\n",
       "      <th>Unnamed: 0</th>\n",
       "      <th>subreddit</th>\n",
       "      <th>selftext</th>\n",
       "      <th>title</th>\n",
       "      <th>word_count</th>\n",
       "      <th>tokens</th>\n",
       "      <th>char_count</th>\n",
       "      <th>lem_tokens</th>\n",
       "      <th>pstem_words</th>\n",
       "      <th>stopwords</th>\n",
       "    </tr>\n",
       "  </thead>\n",
       "  <tbody>\n",
       "    <tr>\n",
       "      <th>0</th>\n",
       "      <td>0</td>\n",
       "      <td>0</td>\n",
       "      <td>[removed]</td>\n",
       "      <td>Vampires and skeletons are just different type...</td>\n",
       "      <td>9</td>\n",
       "      <td>['Vampires', 'and', 'skeletons', 'are', 'just'...</td>\n",
       "      <td>59</td>\n",
       "      <td>['vampire', 'and', 'skeleton', 'are', 'just', ...</td>\n",
       "      <td>['vampir', 'and', 'skeleton', 'are', 'just', '...</td>\n",
       "      <td>{'are', 'just', 'of', 'and'}</td>\n",
       "    </tr>\n",
       "    <tr>\n",
       "      <th>1</th>\n",
       "      <td>1</td>\n",
       "      <td>0</td>\n",
       "      <td>NaN</td>\n",
       "      <td>Life is actually a telltale game because the c...</td>\n",
       "      <td>13</td>\n",
       "      <td>['Life', 'is', 'actually', 'a', 'telltale', 'g...</td>\n",
       "      <td>66</td>\n",
       "      <td>['life', 'is', 'actually', 'a', 'telltale', 'g...</td>\n",
       "      <td>['life', 'is', 'actual', 'a', 'telltal', 'game...</td>\n",
       "      <td>{'to', 'a', 'you', 'is', 'up', 'are', 'the', '...</td>\n",
       "    </tr>\n",
       "    <tr>\n",
       "      <th>2</th>\n",
       "      <td>2</td>\n",
       "      <td>0</td>\n",
       "      <td>[removed]</td>\n",
       "      <td>Wouldn’t a botched circumcision just be a peni...</td>\n",
       "      <td>10</td>\n",
       "      <td>['Wouldn', 't', 'a', 'botched', 'circumcision'...</td>\n",
       "      <td>53</td>\n",
       "      <td>['wouldn', 't', 'a', 'botched', 'circumcision'...</td>\n",
       "      <td>['wouldn', 't', 'a', 'botch', 'circumcis', 'ju...</td>\n",
       "      <td>{'a', 't', 'just', 'be', 'wouldn'}</td>\n",
       "    </tr>\n",
       "    <tr>\n",
       "      <th>3</th>\n",
       "      <td>3</td>\n",
       "      <td>0</td>\n",
       "      <td>NaN</td>\n",
       "      <td>You might of made a decision that saved your l...</td>\n",
       "      <td>13</td>\n",
       "      <td>['You', 'might', 'of', 'made', 'a', 'decision'...</td>\n",
       "      <td>70</td>\n",
       "      <td>['you', 'might', 'of', 'made', 'a', 'decision'...</td>\n",
       "      <td>['you', 'might', 'of', 'made', 'a', 'decis', '...</td>\n",
       "      <td>{'that', 'you', 'a', 'it', 'your', 'of'}</td>\n",
       "    </tr>\n",
       "    <tr>\n",
       "      <th>4</th>\n",
       "      <td>4</td>\n",
       "      <td>0</td>\n",
       "      <td>[removed]</td>\n",
       "      <td>If you have ever opened the toilet water tank,...</td>\n",
       "      <td>24</td>\n",
       "      <td>['If', 'you', 'have', 'ever', 'opened', 'the',...</td>\n",
       "      <td>116</td>\n",
       "      <td>['if', 'you', 'have', 'ever', 'opened', 'the',...</td>\n",
       "      <td>['if', 'you', 'have', 'ever', 'open', 'the', '...</td>\n",
       "      <td>{'how', 'for', 'you', 'a', 'have', 'will', 'if...</td>\n",
       "    </tr>\n",
       "  </tbody>\n",
       "</table>\n",
       "</div>"
      ],
      "text/plain": [
       "   Unnamed: 0  subreddit   selftext  \\\n",
       "0           0          0  [removed]   \n",
       "1           1          0        NaN   \n",
       "2           2          0  [removed]   \n",
       "3           3          0        NaN   \n",
       "4           4          0  [removed]   \n",
       "\n",
       "                                               title  word_count  \\\n",
       "0  Vampires and skeletons are just different type...           9   \n",
       "1  Life is actually a telltale game because the c...          13   \n",
       "2  Wouldn’t a botched circumcision just be a peni...          10   \n",
       "3  You might of made a decision that saved your l...          13   \n",
       "4  If you have ever opened the toilet water tank,...          24   \n",
       "\n",
       "                                              tokens  char_count  \\\n",
       "0  ['Vampires', 'and', 'skeletons', 'are', 'just'...          59   \n",
       "1  ['Life', 'is', 'actually', 'a', 'telltale', 'g...          66   \n",
       "2  ['Wouldn', 't', 'a', 'botched', 'circumcision'...          53   \n",
       "3  ['You', 'might', 'of', 'made', 'a', 'decision'...          70   \n",
       "4  ['If', 'you', 'have', 'ever', 'opened', 'the',...         116   \n",
       "\n",
       "                                          lem_tokens  \\\n",
       "0  ['vampire', 'and', 'skeleton', 'are', 'just', ...   \n",
       "1  ['life', 'is', 'actually', 'a', 'telltale', 'g...   \n",
       "2  ['wouldn', 't', 'a', 'botched', 'circumcision'...   \n",
       "3  ['you', 'might', 'of', 'made', 'a', 'decision'...   \n",
       "4  ['if', 'you', 'have', 'ever', 'opened', 'the',...   \n",
       "\n",
       "                                         pstem_words  \\\n",
       "0  ['vampir', 'and', 'skeleton', 'are', 'just', '...   \n",
       "1  ['life', 'is', 'actual', 'a', 'telltal', 'game...   \n",
       "2  ['wouldn', 't', 'a', 'botch', 'circumcis', 'ju...   \n",
       "3  ['you', 'might', 'of', 'made', 'a', 'decis', '...   \n",
       "4  ['if', 'you', 'have', 'ever', 'open', 'the', '...   \n",
       "\n",
       "                                           stopwords  \n",
       "0                       {'are', 'just', 'of', 'and'}  \n",
       "1  {'to', 'a', 'you', 'is', 'up', 'are', 'the', '...  \n",
       "2                 {'a', 't', 'just', 'be', 'wouldn'}  \n",
       "3           {'that', 'you', 'a', 'it', 'your', 'of'}  \n",
       "4  {'how', 'for', 'you', 'a', 'have', 'will', 'if...  "
      ]
     },
     "execution_count": 48,
     "metadata": {},
     "output_type": "execute_result"
    }
   ],
   "source": [
    "thoughts2.head()"
   ]
  },
  {
   "cell_type": "code",
   "execution_count": 51,
   "metadata": {},
   "outputs": [
    {
     "data": {
      "text/plain": [
       "(20000, 10)"
      ]
     },
     "execution_count": 51,
     "metadata": {},
     "output_type": "execute_result"
    }
   ],
   "source": [
    "thoughts2.shape"
   ]
  },
  {
   "cell_type": "code",
   "execution_count": 49,
   "metadata": {},
   "outputs": [],
   "source": [
    "# Get your X and Y\n",
    "X_stem = thoughts2['pstem_words']\n",
    "y_stem = thoughts2['subreddit']"
   ]
  },
  {
   "cell_type": "code",
   "execution_count": 50,
   "metadata": {},
   "outputs": [
    {
     "data": {
      "text/plain": [
       "1    0.5\n",
       "0    0.5\n",
       "Name: subreddit, dtype: float64"
      ]
     },
     "execution_count": 50,
     "metadata": {},
     "output_type": "execute_result"
    }
   ],
   "source": [
    "y_stem.value_counts(normalize=True) # Same Baseline"
   ]
  },
  {
   "cell_type": "code",
   "execution_count": 52,
   "metadata": {},
   "outputs": [],
   "source": [
    "X_stem_train, X_stem_test, y_stem_train, y_stem_test = train_test_split(X_stem, y_stem,\n",
    "                                                    test_size=.33,\n",
    "                                                    random_state=66)"
   ]
  },
  {
   "cell_type": "markdown",
   "metadata": {},
   "source": [
    "## CVEC and LogReg"
   ]
  },
  {
   "cell_type": "code",
   "execution_count": 82,
   "metadata": {},
   "outputs": [
    {
     "name": "stdout",
     "output_type": "stream",
     "text": [
      "Fitting 5 folds for each of 2400 candidates, totalling 12000 fits\n"
     ]
    },
    {
     "name": "stderr",
     "output_type": "stream",
     "text": [
      "[Parallel(n_jobs=4)]: Using backend LokyBackend with 4 concurrent workers.\n",
      "[Parallel(n_jobs=4)]: Done  42 tasks      | elapsed:    3.7s\n",
      "[Parallel(n_jobs=4)]: Done 192 tasks      | elapsed:   12.8s\n",
      "[Parallel(n_jobs=4)]: Done 442 tasks      | elapsed:   28.2s\n",
      "[Parallel(n_jobs=4)]: Done 792 tasks      | elapsed:   49.3s\n",
      "[Parallel(n_jobs=4)]: Done 1242 tasks      | elapsed:  1.3min\n",
      "[Parallel(n_jobs=4)]: Done 1792 tasks      | elapsed:  1.8min\n",
      "[Parallel(n_jobs=4)]: Done 2442 tasks      | elapsed:  2.5min\n",
      "[Parallel(n_jobs=4)]: Done 3192 tasks      | elapsed:  3.4min\n",
      "[Parallel(n_jobs=4)]: Done 4042 tasks      | elapsed:  4.7min\n",
      "[Parallel(n_jobs=4)]: Done 4992 tasks      | elapsed:  6.1min\n",
      "[Parallel(n_jobs=4)]: Done 6042 tasks      | elapsed:  7.7min\n",
      "[Parallel(n_jobs=4)]: Done 7192 tasks      | elapsed:  8.8min\n",
      "[Parallel(n_jobs=4)]: Done 8442 tasks      | elapsed: 10.1min\n",
      "[Parallel(n_jobs=4)]: Done 9792 tasks      | elapsed: 11.9min\n",
      "[Parallel(n_jobs=4)]: Done 11242 tasks      | elapsed: 14.2min\n",
      "[Parallel(n_jobs=4)]: Done 12000 out of 12000 | elapsed: 15.5min finished\n"
     ]
    },
    {
     "name": "stdout",
     "output_type": "stream",
     "text": [
      "0.9670149253731344 0.9324242424242424\n",
      "Specificity: 0.9150426309378806 Sensitivity: 0.9496381182147166\n"
     ]
    },
    {
     "data": {
      "image/png": "[encoded data removed]",
      "text/plain": [
       "<Figure size 432x288 with 2 Axes>"
      ]
     },
     "metadata": {
      "needs_background": "light"
     },
     "output_type": "display_data"
    }
   ],
   "source": [
    "pipe = Pipeline([\n",
    "    ('trans', CountVectorizer()),\n",
    "    ('model', LogisticRegression())\n",
    "])\n",
    "\n",
    "pipe_params = {'trans__max_features': [2000,3000,4000,5000,6000],\n",
    "              'trans__min_df': [2,3,4,5],\n",
    "              'trans__max_df': [.85,.9,.95],\n",
    "              'trans__ngram_range': [(1,1),(1,2),(1,3),(2,2),(3,3)],\n",
    "              'trans__stop_words': ['english', None],\n",
    "              'model__penalty': ['l1', 'l2'],\n",
    "              'model__C':[1,.95]}\n",
    "\n",
    "gs = GridSearchCV(pipe,\n",
    "                  pipe_params,\n",
    "                  cv = 5, verbose=1, n_jobs=4)\n",
    "\n",
    "gs.fit(X_stem_train, y_stem_train)\n",
    "print(gs.score(X_stem_train, y_stem_train), gs.score(X_stem_test, y_stem_test))\n",
    "preds = gs.predict(X_stem_test)\n",
    "tn, fp, fn, tp = confusion_matrix(y_stem_test, preds).ravel()\n",
    "plot_confusion_matrix(gs, X_stem_test, y_stem_test, cmap='Greens', values_format='d');\n",
    "\n",
    "# Specificity\n",
    "spec = tn / (tn + fp)\n",
    "# Sensitivity\n",
    "sen = tp / (tp + fn)\n",
    "print(\"Specificity:\", spec, \"Sensitivity:\", sen)"
   ]
  },
  {
   "cell_type": "code",
   "execution_count": 83,
   "metadata": {},
   "outputs": [
    {
     "data": {
      "text/plain": [
       "({'model__C': 0.95,\n",
       "  'model__penalty': 'l2',\n",
       "  'trans__max_df': 0.85,\n",
       "  'trans__max_features': 6000,\n",
       "  'trans__min_df': 2,\n",
       "  'trans__ngram_range': (1, 2),\n",
       "  'trans__stop_words': None},\n",
       " 0.9209701492537313,\n",
       " Pipeline(steps=[('trans',\n",
       "                  CountVectorizer(max_df=0.85, max_features=6000, min_df=2,\n",
       "                                  ngram_range=(1, 2))),\n",
       "                 ('model', LogisticRegression(C=0.95))]))"
      ]
     },
     "execution_count": 83,
     "metadata": {},
     "output_type": "execute_result"
    }
   ],
   "source": [
    "gs.best_params_, gs.best_score_, gs.best_estimator_"
   ]
  },
  {
   "cell_type": "markdown",
   "metadata": {},
   "source": [
    "---"
   ]
  },
  {
   "cell_type": "code",
   "execution_count": 102,
   "metadata": {},
   "outputs": [
    {
     "name": "stdout",
     "output_type": "stream",
     "text": [
      "Fitting 5 folds for each of 2400 candidates, totalling 12000 fits\n"
     ]
    },
    {
     "name": "stderr",
     "output_type": "stream",
     "text": [
      "[Parallel(n_jobs=4)]: Using backend LokyBackend with 4 concurrent workers.\n",
      "[Parallel(n_jobs=4)]: Done  76 tasks      | elapsed:    4.8s\n",
      "[Parallel(n_jobs=4)]: Done 376 tasks      | elapsed:   22.6s\n",
      "[Parallel(n_jobs=4)]: Done 876 tasks      | elapsed:   52.3s\n",
      "[Parallel(n_jobs=4)]: Done 1576 tasks      | elapsed:  1.5min\n",
      "[Parallel(n_jobs=4)]: Done 2476 tasks      | elapsed:  2.4min\n",
      "[Parallel(n_jobs=4)]: Done 3436 tasks      | elapsed:  3.6min\n",
      "[Parallel(n_jobs=4)]: Done 4086 tasks      | elapsed:  4.8min\n",
      "[Parallel(n_jobs=4)]: Done 4836 tasks      | elapsed:  6.1min\n",
      "[Parallel(n_jobs=4)]: Done 5686 tasks      | elapsed:  7.5min\n",
      "[Parallel(n_jobs=4)]: Done 6636 tasks      | elapsed:  8.8min\n",
      "[Parallel(n_jobs=4)]: Done 7686 tasks      | elapsed:  9.9min\n",
      "[Parallel(n_jobs=4)]: Done 8836 tasks      | elapsed: 11.1min\n",
      "[Parallel(n_jobs=4)]: Done 10086 tasks      | elapsed: 13.1min\n",
      "[Parallel(n_jobs=4)]: Done 11436 tasks      | elapsed: 15.4min\n",
      "[Parallel(n_jobs=4)]: Done 12000 out of 12000 | elapsed: 16.4min finished\n"
     ]
    },
    {
     "data": {
      "text/plain": [
       "GridSearchCV(cv=StratifiedKFold(n_splits=5, random_state=66, shuffle=True),\n",
       "             estimator=Pipeline(steps=[('trans', CountVectorizer()),\n",
       "                                       ('model', LogisticRegression())]),\n",
       "             n_jobs=4,\n",
       "             param_grid={'model__C': [1, 0.95], 'model__penalty': ['l1', 'l2'],\n",
       "                         'trans__max_df': [0.85, 0.9, 0.95],\n",
       "                         'trans__max_features': [2000, 3000, 4000, 5000, 6000],\n",
       "                         'trans__min_df': [2, 3, 4, 5],\n",
       "                         'trans__ngram_range': [(1, 1), (1, 2), (1, 3), (2, 2),\n",
       "                                                (3, 3)],\n",
       "                         'trans__stop_words': ['english', None]},\n",
       "             verbose=1)"
      ]
     },
     "execution_count": 102,
     "metadata": {},
     "output_type": "execute_result"
    }
   ],
   "source": [
    "pipe3 = Pipeline([\n",
    "    ('trans', CountVectorizer()),\n",
    "    ('model', LogisticRegression())\n",
    "])\n",
    "\n",
    "pipe_params3 = {'trans__max_features': [2000,3000,4000,5000,6000],\n",
    "              'trans__min_df': [2,3,4,5],\n",
    "              'trans__max_df': [.85,.9,.95],\n",
    "              'trans__ngram_range': [(1,1),(1,2),(1,3),(2,2),(3,3)],\n",
    "              'trans__stop_words': ['english', None],\n",
    "              'model__penalty': ['l1', 'l2'],\n",
    "              'model__C':[1,.95]}\n",
    "\n",
    "cv_folds = StratifiedKFold(shuffle=True, random_state=66)\n",
    "\n",
    "gs3 = GridSearchCV(pipe3,\n",
    "                  pipe_params3,\n",
    "                  cv = cv_folds, verbose=1, n_jobs=4)\n",
    "\n",
    "gs3.fit(X_stem_train, y_stem_train)"
   ]
  },
  {
   "cell_type": "code",
   "execution_count": 103,
   "metadata": {},
   "outputs": [
    {
     "data": {
      "text/plain": [
       "({'model__C': 0.95,\n",
       "  'model__penalty': 'l2',\n",
       "  'trans__max_df': 0.85,\n",
       "  'trans__max_features': 6000,\n",
       "  'trans__min_df': 3,\n",
       "  'trans__ngram_range': (1, 3),\n",
       "  'trans__stop_words': None},\n",
       " 0.9193283582089551,\n",
       " Pipeline(steps=[('trans',\n",
       "                  CountVectorizer(max_df=0.85, max_features=6000, min_df=3,\n",
       "                                  ngram_range=(1, 3))),\n",
       "                 ('model', LogisticRegression(C=0.95))]))"
      ]
     },
     "execution_count": 103,
     "metadata": {},
     "output_type": "execute_result"
    }
   ],
   "source": [
    "gs3.best_params_, gs3.best_score_, gs3.best_estimator_"
   ]
  },
  {
   "cell_type": "code",
   "execution_count": 104,
   "metadata": {},
   "outputs": [
    {
     "data": {
      "text/plain": [
       "(0.9658955223880596, 0.9316666666666666)"
      ]
     },
     "execution_count": 104,
     "metadata": {},
     "output_type": "execute_result"
    }
   ],
   "source": [
    "gs3.score(X_stem_train, y_stem_train), gs3.score(X_stem_test, y_stem_test)"
   ]
  },
  {
   "cell_type": "code",
   "execution_count": 105,
   "metadata": {},
   "outputs": [
    {
     "name": "stdout",
     "output_type": "stream",
     "text": [
      "Specificity: 0.9147381242387332 Sensitivity: 0.9484318455971049\n"
     ]
    },
    {
     "data": {
      "image/png": "[encoded data removed]",
      "text/plain": [
       "<Figure size 432x288 with 2 Axes>"
      ]
     },
     "metadata": {
      "needs_background": "light"
     },
     "output_type": "display_data"
    }
   ],
   "source": [
    "preds = gs3.predict(X_stem_test)\n",
    "tn, fp, fn, tp = confusion_matrix(y_stem_test, preds).ravel()\n",
    "plot_confusion_matrix(gs3, X_stem_test, y_stem_test, cmap='Greens', values_format='d');\n",
    "\n",
    "# Specificity\n",
    "spec = tn / (tn + fp)\n",
    "# Sensitivity\n",
    "sen = tp / (tp + fn)\n",
    "print(\"Specificity:\", spec, \"Sensitivity:\", sen)"
   ]
  },
  {
   "cell_type": "markdown",
   "metadata": {},
   "source": [
    "I will pickle this model as well."
   ]
  },
  {
   "cell_type": "code",
   "execution_count": 106,
   "metadata": {},
   "outputs": [
    {
     "data": {
      "image/png": "[encoded data removed]",
      "text/plain": [
       "<Figure size 432x288 with 2 Axes>"
      ]
     },
     "metadata": {
      "needs_background": "light"
     },
     "output_type": "display_data"
    }
   ],
   "source": [
    "# pickle model\n",
    "pickle.dump(gs3, open('./assets/another_model.pkl', 'wb+'))\n",
    "# pickle confusion matrix\n",
    "pickle.dump(plot_confusion_matrix(gs3, X_stem_test, y_stem_test, cmap='Oranges', values_format='d'), \n",
    "            open('./assets/another_confusionmatrix.pkl','wb+'))\n",
    "# pickle train and test score\n",
    "pickle.dump(gs3.score(X_stem_train, y_stem_train), open('./assets/another_train_score.pkl','wb+'))\n",
    "pickle.dump(gs3.score(X_stem_test, y_stem_test), open('./assets/another_test_score.pkl','wb+'))"
   ]
  },
  {
   "cell_type": "markdown",
   "metadata": {},
   "source": [
    "## CVEC and MultiNB"
   ]
  },
  {
   "cell_type": "code",
   "execution_count": 61,
   "metadata": {},
   "outputs": [
    {
     "name": "stdout",
     "output_type": "stream",
     "text": [
      "Fitting 5 folds for each of 1080 candidates, totalling 5400 fits\n"
     ]
    },
    {
     "name": "stderr",
     "output_type": "stream",
     "text": [
      "[Parallel(n_jobs=4)]: Using backend LokyBackend with 4 concurrent workers.\n",
      "[Parallel(n_jobs=4)]: Done  42 tasks      | elapsed:    4.1s\n",
      "[Parallel(n_jobs=4)]: Done 192 tasks      | elapsed:   15.4s\n",
      "[Parallel(n_jobs=4)]: Done 442 tasks      | elapsed:   33.6s\n",
      "[Parallel(n_jobs=4)]: Done 792 tasks      | elapsed:   58.4s\n",
      "[Parallel(n_jobs=4)]: Done 1242 tasks      | elapsed:  1.5min\n",
      "[Parallel(n_jobs=4)]: Done 1792 tasks      | elapsed:  2.2min\n",
      "[Parallel(n_jobs=4)]: Done 2442 tasks      | elapsed:  3.0min\n",
      "[Parallel(n_jobs=4)]: Done 3192 tasks      | elapsed:  3.9min\n",
      "[Parallel(n_jobs=4)]: Done 4042 tasks      | elapsed:  4.9min\n",
      "[Parallel(n_jobs=4)]: Done 4992 tasks      | elapsed:  6.0min\n",
      "[Parallel(n_jobs=4)]: Done 5400 out of 5400 | elapsed:  6.5min finished\n"
     ]
    },
    {
     "data": {
      "text/plain": [
       "GridSearchCV(cv=StratifiedKFold(n_splits=5, random_state=66, shuffle=True),\n",
       "             estimator=Pipeline(steps=[('trans', CountVectorizer()),\n",
       "                                       ('model', MultinomialNB())]),\n",
       "             n_jobs=4,\n",
       "             param_grid={'trans__max_df': [0.85, 0.9, 0.95],\n",
       "                         'trans__max_features': [2000, 3000, 4000, 5000, 6000,\n",
       "                                                 7000],\n",
       "                         'trans__min_df': [2, 3, 4, 5],\n",
       "                         'trans__ngram_range': [(1, 1), (1, 2), (1, 3), (2, 2),\n",
       "                                                (3, 3)],\n",
       "                         'trans__stop_words': ['english', None,\n",
       "                                               ['depression', 'shower thoughts',\n",
       "                                                'shower', 'thoughts']]},\n",
       "             verbose=1)"
      ]
     },
     "execution_count": 61,
     "metadata": {},
     "output_type": "execute_result"
    }
   ],
   "source": [
    "pipe = Pipeline([\n",
    "    ('trans', CountVectorizer()),\n",
    "    ('model', MultinomialNB())\n",
    "])\n",
    "\n",
    "pipe_params = {'trans__max_features': [2000,3000,4000,5000,6000,7000],\n",
    "              'trans__min_df': [2,3,4,5],\n",
    "              'trans__max_df': [.85,.9,.95],\n",
    "              'trans__ngram_range': [(1,1),(1,2),(1,3),(2,2),(3,3)],\n",
    "              'trans__stop_words': ['english', None, add_words],\n",
    "               \n",
    "}\n",
    "\n",
    "cv_folds = StratifiedKFold(shuffle=True, random_state=66)\n",
    "\n",
    "gs = GridSearchCV(pipe,\n",
    "                  pipe_params,\n",
    "                  cv = cv_folds, verbose=1, n_jobs=4)\n",
    "\n",
    "gs.fit(X_stem_train, y_stem_train)"
   ]
  },
  {
   "cell_type": "code",
   "execution_count": 62,
   "metadata": {},
   "outputs": [
    {
     "data": {
      "text/plain": [
       "({'trans__max_df': 0.85,\n",
       "  'trans__max_features': 5000,\n",
       "  'trans__min_df': 2,\n",
       "  'trans__ngram_range': (1, 1),\n",
       "  'trans__stop_words': None},\n",
       " 0.9085820895522388,\n",
       " Pipeline(steps=[('trans',\n",
       "                  CountVectorizer(max_df=0.85, max_features=5000, min_df=2)),\n",
       "                 ('model', MultinomialNB())]))"
      ]
     },
     "execution_count": 62,
     "metadata": {},
     "output_type": "execute_result"
    }
   ],
   "source": [
    "gs.best_params_, gs.best_score_, gs.best_estimator_"
   ]
  },
  {
   "cell_type": "code",
   "execution_count": 64,
   "metadata": {},
   "outputs": [
    {
     "data": {
      "text/plain": [
       "(0.929179104477612, 0.9143939393939394)"
      ]
     },
     "execution_count": 64,
     "metadata": {},
     "output_type": "execute_result"
    }
   ],
   "source": [
    "gs.score(X_stem_train, y_stem_train), gs.score(X_stem_test, y_stem_test)"
   ]
  },
  {
   "cell_type": "code",
   "execution_count": 63,
   "metadata": {},
   "outputs": [
    {
     "name": "stdout",
     "output_type": "stream",
     "text": [
      "Specificity: 0.9223507917174177 Sensitivity: 0.9065138721351025\n"
     ]
    },
    {
     "data": {
      "image/png": "[encoded data removed]",
      "text/plain": [
       "<Figure size 432x288 with 2 Axes>"
      ]
     },
     "metadata": {
      "needs_background": "light"
     },
     "output_type": "display_data"
    }
   ],
   "source": [
    "preds = gs.predict(X_stem_test)\n",
    "tn, fp, fn, tp = confusion_matrix(y_stem_test, preds).ravel()\n",
    "plot_confusion_matrix(gs, X_stem_test, y_stem_test, cmap='Greens', values_format='d');\n",
    "\n",
    "# Specificity\n",
    "spec = tn / (tn + fp)\n",
    "# Sensitivity\n",
    "sen = tp / (tp + fn)\n",
    "print(\"Specificity:\", spec, \"Sensitivity:\", sen)"
   ]
  },
  {
   "cell_type": "markdown",
   "metadata": {},
   "source": [
    "## CVEC and RandomForest"
   ]
  },
  {
   "cell_type": "code",
   "execution_count": 70,
   "metadata": {},
   "outputs": [
    {
     "name": "stdout",
     "output_type": "stream",
     "text": [
      "Fitting 5 folds for each of 360 candidates, totalling 1800 fits\n"
     ]
    },
    {
     "name": "stderr",
     "output_type": "stream",
     "text": [
      "[Parallel(n_jobs=4)]: Using backend LokyBackend with 4 concurrent workers.\n",
      "[Parallel(n_jobs=4)]: Done  42 tasks      | elapsed:  2.6min\n",
      "[Parallel(n_jobs=4)]: Done 192 tasks      | elapsed:  8.8min\n",
      "[Parallel(n_jobs=4)]: Done 442 tasks      | elapsed: 15.3min\n",
      "[Parallel(n_jobs=4)]: Done 792 tasks      | elapsed: 16.2min\n",
      "[Parallel(n_jobs=4)]: Done 1242 tasks      | elapsed: 17.3min\n",
      "[Parallel(n_jobs=4)]: Done 1792 tasks      | elapsed: 18.6min\n",
      "[Parallel(n_jobs=4)]: Done 1800 out of 1800 | elapsed: 18.6min finished\n"
     ]
    },
    {
     "data": {
      "text/plain": [
       "GridSearchCV(cv=StratifiedKFold(n_splits=5, random_state=66, shuffle=True),\n",
       "             estimator=Pipeline(steps=[('trans', CountVectorizer()),\n",
       "                                       ('model', RandomForestClassifier())]),\n",
       "             n_jobs=4,\n",
       "             param_grid={'model__max_depth': [None, 3, 4, 5, 6],\n",
       "                         'model__max_features': ['auto', 'log2'],\n",
       "                         'model__min_samples_leaf': [1, 2],\n",
       "                         'model__n_estimators': [100, 125, 150],\n",
       "                         'trans__ngram_range': [(1, 1), (2, 2), (3, 3)],\n",
       "                         'trans__stop_words': ['english', None]},\n",
       "             verbose=1)"
      ]
     },
     "execution_count": 70,
     "metadata": {},
     "output_type": "execute_result"
    }
   ],
   "source": [
    "pipe = Pipeline([\n",
    "    ('trans', CountVectorizer()),\n",
    "    ('model', RandomForestClassifier())\n",
    "])\n",
    "\n",
    "pipe_params = {\n",
    "              'trans__ngram_range': [(1,1),(2,2),(3,3)], # dont go too crazy\n",
    "              'trans__stop_words': ['english', None],\n",
    "              'model__n_estimators':[100, 125, 150],\n",
    "              'model__max_depth': [None,3,4, 5, 6],\n",
    "              'model__max_features':['auto','log2'],\n",
    "#               'model__min_samples_splits': [2,3],\n",
    "              'model__min_samples_leaf':[1,2],\n",
    "}\n",
    "\n",
    "cv_folds = StratifiedKFold(shuffle=True, random_state=66)\n",
    "\n",
    "gs = GridSearchCV(pipe,\n",
    "                  pipe_params,\n",
    "                  cv = cv_folds, verbose=1, n_jobs=4)\n",
    "\n",
    "gs.fit(X_stem_train, y_stem_train)"
   ]
  },
  {
   "cell_type": "code",
   "execution_count": 71,
   "metadata": {},
   "outputs": [
    {
     "data": {
      "text/plain": [
       "({'model__max_depth': None,\n",
       "  'model__max_features': 'auto',\n",
       "  'model__min_samples_leaf': 1,\n",
       "  'model__n_estimators': 125,\n",
       "  'trans__ngram_range': (1, 1),\n",
       "  'trans__stop_words': None},\n",
       " 0.9079850746268658,\n",
       " Pipeline(steps=[('trans', CountVectorizer()),\n",
       "                 ('model', RandomForestClassifier(n_estimators=125))]))"
      ]
     },
     "execution_count": 71,
     "metadata": {},
     "output_type": "execute_result"
    }
   ],
   "source": [
    "gs.best_params_, gs.best_score_, gs.best_estimator_"
   ]
  },
  {
   "cell_type": "code",
   "execution_count": 72,
   "metadata": {},
   "outputs": [
    {
     "data": {
      "text/plain": [
       "(0.9982835820895523, 0.9101515151515152)"
      ]
     },
     "execution_count": 72,
     "metadata": {},
     "output_type": "execute_result"
    }
   ],
   "source": [
    "gs.score(X_stem_train, y_stem_train), gs.score(X_stem_test, y_stem_test)"
   ]
  },
  {
   "cell_type": "code",
   "execution_count": 73,
   "metadata": {},
   "outputs": [
    {
     "name": "stdout",
     "output_type": "stream",
     "text": [
      "Specificity: 0.8867235079171741 Sensitivity: 0.9333534378769602\n"
     ]
    },
    {
     "data": {
      "image/png": "[encoded data removed]",
      "text/plain": [
       "<Figure size 432x288 with 2 Axes>"
      ]
     },
     "metadata": {
      "needs_background": "light"
     },
     "output_type": "display_data"
    }
   ],
   "source": [
    "preds = gs.predict(X_stem_test)\n",
    "tn, fp, fn, tp = confusion_matrix(y_stem_test, preds).ravel()\n",
    "plot_confusion_matrix(gs, X_stem_test, y_stem_test, cmap='Greens', values_format='d');\n",
    "\n",
    "# Specificity\n",
    "spec = tn / (tn + fp)\n",
    "# Sensitivity\n",
    "sen = tp / (tp + fn)\n",
    "print(\"Specificity:\", spec, \"Sensitivity:\", sen)"
   ]
  },
  {
   "cell_type": "markdown",
   "metadata": {},
   "source": [
    "## <font color='gold'>TFID and Logreg</font>\n",
    "\n",
    "---\n",
    "After running many, many models, I considered this my best one because the test scores stayed relatively high and the train score was not much higher than the test score. It was less than 2% difference so the overfit isn't as bad."
   ]
  },
  {
   "cell_type": "code",
   "execution_count": 85,
   "metadata": {},
   "outputs": [
    {
     "name": "stdout",
     "output_type": "stream",
     "text": [
      "Fitting 5 folds for each of 2880 candidates, totalling 14400 fits\n"
     ]
    },
    {
     "name": "stderr",
     "output_type": "stream",
     "text": [
      "[Parallel(n_jobs=4)]: Using backend LokyBackend with 4 concurrent workers.\n",
      "[Parallel(n_jobs=4)]: Done  76 tasks      | elapsed:    5.0s\n",
      "[Parallel(n_jobs=4)]: Done 376 tasks      | elapsed:   22.9s\n",
      "[Parallel(n_jobs=4)]: Done 876 tasks      | elapsed:   52.9s\n",
      "[Parallel(n_jobs=4)]: Done 1576 tasks      | elapsed:  1.6min\n",
      "[Parallel(n_jobs=4)]: Done 2476 tasks      | elapsed:  2.5min\n",
      "[Parallel(n_jobs=4)]: Done 3576 tasks      | elapsed:  3.6min\n",
      "[Parallel(n_jobs=4)]: Done 4562 tasks      | elapsed:  5.0min\n",
      "[Parallel(n_jobs=4)]: Done 5312 tasks      | elapsed:  6.1min\n",
      "[Parallel(n_jobs=4)]: Done 6162 tasks      | elapsed:  7.5min\n",
      "[Parallel(n_jobs=4)]: Done 7112 tasks      | elapsed:  8.9min\n",
      "[Parallel(n_jobs=4)]: Done 8162 tasks      | elapsed: 10.0min\n",
      "[Parallel(n_jobs=4)]: Done 9312 tasks      | elapsed: 11.1min\n",
      "[Parallel(n_jobs=4)]: Done 10562 tasks      | elapsed: 12.4min\n",
      "[Parallel(n_jobs=4)]: Done 11912 tasks      | elapsed: 14.3min\n",
      "[Parallel(n_jobs=4)]: Done 13362 tasks      | elapsed: 16.5min\n",
      "[Parallel(n_jobs=4)]: Done 14400 out of 14400 | elapsed: 18.3min finished\n"
     ]
    },
    {
     "name": "stdout",
     "output_type": "stream",
     "text": [
      "0.9373880597014925 0.9216666666666666\n",
      "Specificity: 0.9232643118148599 Sensitivity: 0.9200844390832328\n"
     ]
    },
    {
     "data": {
      "image/png": "[encoded data removed]",
      "text/plain": [
       "<Figure size 432x288 with 2 Axes>"
      ]
     },
     "metadata": {
      "needs_background": "light"
     },
     "output_type": "display_data"
    }
   ],
   "source": [
    "pipe = Pipeline([\n",
    "    ('trans', TfidfVectorizer()),\n",
    "    ('model', LogisticRegression())\n",
    "])\n",
    "\n",
    "pipe_params = {'trans__max_features': [2000,3000,4000,5000,6000,7000],\n",
    "              'trans__min_df': [2,3,4,5],\n",
    "              'trans__max_df': [.85,.9,.95],\n",
    "              'trans__ngram_range': [(1,1),(1,2),(1,3),(2,2),(3,3)],\n",
    "              'trans__stop_words': ['english', None],\n",
    "              'model__penalty': ['l1', 'l2'],\n",
    "              'model__C':[1,.95]}\n",
    "\n",
    "gs = GridSearchCV(pipe,\n",
    "                  pipe_params,\n",
    "                  cv = 5, verbose=1, n_jobs=4)\n",
    "\n",
    "gs.fit(X_stem_train, y_stem_train)\n",
    "print(gs.score(X_stem_train, y_stem_train), gs.score(X_stem_test, y_stem_test))\n",
    "preds = gs.predict(X_stem_test)\n",
    "tn, fp, fn, tp = confusion_matrix(y_stem_test, preds).ravel()\n",
    "plot_confusion_matrix(gs, X_stem_test, y_stem_test, cmap='Greens', values_format='d');\n",
    "\n",
    "# Specificity\n",
    "spec = tn / (tn + fp)\n",
    "# Sensitivity\n",
    "sen = tp / (tp + fn)\n",
    "print(\"Specificity:\", spec, \"Sensitivity:\", sen)"
   ]
  },
  {
   "cell_type": "code",
   "execution_count": 86,
   "metadata": {},
   "outputs": [
    {
     "data": {
      "text/plain": [
       "({'model__C': 1,\n",
       "  'model__penalty': 'l2',\n",
       "  'trans__max_df': 0.85,\n",
       "  'trans__max_features': 3000,\n",
       "  'trans__min_df': 5,\n",
       "  'trans__ngram_range': (1, 3),\n",
       "  'trans__stop_words': None},\n",
       " 0.9138805970149255,\n",
       " Pipeline(steps=[('trans',\n",
       "                  TfidfVectorizer(max_df=0.85, max_features=3000, min_df=5,\n",
       "                                  ngram_range=(1, 3))),\n",
       "                 ('model', LogisticRegression(C=1))]))"
      ]
     },
     "execution_count": 86,
     "metadata": {},
     "output_type": "execute_result"
    }
   ],
   "source": [
    "gs.best_params_, gs.best_score_, gs.best_estimator_ # << Pickle the best estimator"
   ]
  },
  {
   "cell_type": "code",
   "execution_count": 87,
   "metadata": {},
   "outputs": [],
   "source": [
    "# Make a folder for assets to contain my pickled models\n",
    "import os\n",
    "\n",
    "try:\n",
    "    os.mkdir('assets')\n",
    "except:\n",
    "    print('assets folder already exists!')"
   ]
  },
  {
   "cell_type": "code",
   "execution_count": 91,
   "metadata": {},
   "outputs": [],
   "source": [
    "import pickle\n",
    "a_model = './assets/best_model.pkl'\n",
    "# Save the estimators\n",
    "pickle.dump(gs, open(a_model, 'wb+'))"
   ]
  },
  {
   "cell_type": "code",
   "execution_count": 93,
   "metadata": {},
   "outputs": [],
   "source": [
    "# Saving the train scores\n",
    "pickle.dump(gs.score(X_stem_train, y_stem_train), open('./assets/best_train_score.pkl','wb+'))\n",
    "pickle.dump(gs.score(X_stem_test, y_stem_test), open('./assets/best_test_score.pkl','wb+'))"
   ]
  },
  {
   "cell_type": "code",
   "execution_count": 96,
   "metadata": {},
   "outputs": [
    {
     "data": {
      "image/png": "[encoded data removed]",
      "text/plain": [
       "<Figure size 432x288 with 2 Axes>"
      ]
     },
     "metadata": {
      "needs_background": "light"
     },
     "output_type": "display_data"
    }
   ],
   "source": [
    "# pickle the plot of the confusion matrix\n",
    "pickle.dump(plot_confusion_matrix(gs, X_stem_test, y_stem_test, cmap='Greens', values_format='d'), \n",
    "            open('./assets/best_confusionmatrix.pkl','wb+'))"
   ]
  },
  {
   "cell_type": "markdown",
   "metadata": {},
   "source": [
    "This model differs from the top because I used a StratifiedKfold here rather than up top. This may be an issue since I didn't shuffle the data initially before running a lot of my models. But due to time constraints, I will proceed with the top model to be my best."
   ]
  },
  {
   "cell_type": "code",
   "execution_count": 66,
   "metadata": {},
   "outputs": [
    {
     "name": "stdout",
     "output_type": "stream",
     "text": [
      "Fitting 5 folds for each of 2400 candidates, totalling 12000 fits\n"
     ]
    },
    {
     "name": "stderr",
     "output_type": "stream",
     "text": [
      "[Parallel(n_jobs=4)]: Using backend LokyBackend with 4 concurrent workers.\n",
      "[Parallel(n_jobs=4)]: Done  76 tasks      | elapsed:    4.8s\n",
      "[Parallel(n_jobs=4)]: Done 376 tasks      | elapsed:   21.7s\n",
      "[Parallel(n_jobs=4)]: Done 876 tasks      | elapsed:   49.7s\n",
      "[Parallel(n_jobs=4)]: Done 1576 tasks      | elapsed:  1.5min\n",
      "[Parallel(n_jobs=4)]: Done 2476 tasks      | elapsed:  2.3min\n",
      "[Parallel(n_jobs=4)]: Done 3576 tasks      | elapsed:  3.7min\n",
      "[Parallel(n_jobs=4)]: Done 4262 tasks      | elapsed:  4.7min\n",
      "[Parallel(n_jobs=4)]: Done 5012 tasks      | elapsed:  5.7min\n",
      "[Parallel(n_jobs=4)]: Done 5862 tasks      | elapsed:  6.9min\n",
      "[Parallel(n_jobs=4)]: Done 6812 tasks      | elapsed:  7.9min\n",
      "[Parallel(n_jobs=4)]: Done 7862 tasks      | elapsed:  8.9min\n",
      "[Parallel(n_jobs=4)]: Done 9012 tasks      | elapsed:  9.9min\n",
      "[Parallel(n_jobs=4)]: Done 10262 tasks      | elapsed: 11.6min\n",
      "[Parallel(n_jobs=4)]: Done 11612 tasks      | elapsed: 13.5min\n",
      "[Parallel(n_jobs=4)]: Done 12000 out of 12000 | elapsed: 14.1min finished\n"
     ]
    },
    {
     "data": {
      "text/plain": [
       "GridSearchCV(cv=StratifiedKFold(n_splits=5, random_state=66, shuffle=True),\n",
       "             estimator=Pipeline(steps=[('trans', TfidfVectorizer()),\n",
       "                                       ('model', LogisticRegression())]),\n",
       "             n_jobs=4,\n",
       "             param_grid={'model__C': [1, 0.95], 'model__penalty': ['l1', 'l2'],\n",
       "                         'trans__max_df': [0.85, 0.9, 0.95],\n",
       "                         'trans__max_features': [2000, 3000, 4000, 5000, 6000],\n",
       "                         'trans__min_df': [2, 3, 4, 5],\n",
       "                         'trans__ngram_range': [(1, 1), (1, 2), (1, 3), (2, 2),\n",
       "                                                (3, 3)],\n",
       "                         'trans__stop_words': ['english', None]},\n",
       "             verbose=1)"
      ]
     },
     "execution_count": 66,
     "metadata": {},
     "output_type": "execute_result"
    }
   ],
   "source": [
    "pipe = Pipeline([\n",
    "    ('trans', TfidfVectorizer()),\n",
    "    ('model', LogisticRegression())\n",
    "])\n",
    "\n",
    "pipe_params = {'trans__max_features': [2000,3000,4000,5000,6000],\n",
    "              'trans__min_df': [2,3,4,5],\n",
    "              'trans__max_df': [.85,.9,.95],\n",
    "              'trans__ngram_range': [(1,1),(1,2),(1,3),(2,2),(3,3)],\n",
    "              'trans__stop_words': ['english', None],\n",
    "              'model__penalty': ['l1', 'l2'],\n",
    "              'model__C':[1,.95]}\n",
    "\n",
    "cv_folds = StratifiedKFold(shuffle=True, random_state=66)\n",
    "\n",
    "gs = GridSearchCV(pipe,\n",
    "                  pipe_params,\n",
    "                  cv = cv_folds, verbose=1, n_jobs=4)\n",
    "\n",
    "gs.fit(X_stem_train, y_stem_train)"
   ]
  },
  {
   "cell_type": "code",
   "execution_count": 67,
   "metadata": {},
   "outputs": [
    {
     "data": {
      "text/plain": [
       "({'model__C': 1,\n",
       "  'model__penalty': 'l2',\n",
       "  'trans__max_df': 0.85,\n",
       "  'trans__max_features': 6000,\n",
       "  'trans__min_df': 3,\n",
       "  'trans__ngram_range': (1, 2),\n",
       "  'trans__stop_words': None},\n",
       " 0.9144776119402984,\n",
       " Pipeline(steps=[('trans',\n",
       "                  TfidfVectorizer(max_df=0.85, max_features=6000, min_df=3,\n",
       "                                  ngram_range=(1, 2))),\n",
       "                 ('model', LogisticRegression(C=1))]))"
      ]
     },
     "execution_count": 67,
     "metadata": {},
     "output_type": "execute_result"
    }
   ],
   "source": [
    "gs.best_params_, gs.best_score_, gs.best_estimator_"
   ]
  },
  {
   "cell_type": "code",
   "execution_count": 68,
   "metadata": {},
   "outputs": [
    {
     "data": {
      "text/plain": [
       "(0.9427611940298507, 0.9225757575757576)"
      ]
     },
     "execution_count": 68,
     "metadata": {},
     "output_type": "execute_result"
    }
   ],
   "source": [
    "gs.score(X_stem_train, y_stem_train), gs.score(X_stem_test, y_stem_test)"
   ]
  },
  {
   "cell_type": "code",
   "execution_count": 69,
   "metadata": {},
   "outputs": [
    {
     "name": "stdout",
     "output_type": "stream",
     "text": [
      "Specificity: 0.925700365408039 Sensitivity: 0.919481302774427\n"
     ]
    },
    {
     "data": {
      "image/png": "[encoded data removed]",
      "text/plain": [
       "<Figure size 432x288 with 2 Axes>"
      ]
     },
     "metadata": {
      "needs_background": "light"
     },
     "output_type": "display_data"
    }
   ],
   "source": [
    "preds = gs.predict(X_stem_test)\n",
    "tn, fp, fn, tp = confusion_matrix(y_stem_test, preds).ravel()\n",
    "plot_confusion_matrix(gs, X_stem_test, y_stem_test, cmap='Greens', values_format='d');\n",
    "\n",
    "# Specificity\n",
    "spec = tn / (tn + fp)\n",
    "# Sensitivity\n",
    "sen = tp / (tp + fn)\n",
    "print(\"Specificity:\", spec, \"Sensitivity:\", sen)"
   ]
  },
  {
   "cell_type": "markdown",
   "metadata": {},
   "source": [
    "## TFID and MultiNB"
   ]
  },
  {
   "cell_type": "code",
   "execution_count": 74,
   "metadata": {},
   "outputs": [
    {
     "name": "stdout",
     "output_type": "stream",
     "text": [
      "Fitting 5 folds for each of 1080 candidates, totalling 5400 fits\n"
     ]
    },
    {
     "name": "stderr",
     "output_type": "stream",
     "text": [
      "[Parallel(n_jobs=4)]: Using backend LokyBackend with 4 concurrent workers.\n",
      "[Parallel(n_jobs=4)]: Done  42 tasks      | elapsed:    4.8s\n",
      "[Parallel(n_jobs=4)]: Done 192 tasks      | elapsed:   16.6s\n",
      "[Parallel(n_jobs=4)]: Done 442 tasks      | elapsed:   36.2s\n",
      "[Parallel(n_jobs=4)]: Done 792 tasks      | elapsed:  1.1min\n",
      "[Parallel(n_jobs=4)]: Done 1242 tasks      | elapsed:  1.6min\n",
      "[Parallel(n_jobs=4)]: Done 1792 tasks      | elapsed:  2.3min\n",
      "[Parallel(n_jobs=4)]: Done 2442 tasks      | elapsed:  3.1min\n",
      "[Parallel(n_jobs=4)]: Done 3192 tasks      | elapsed:  4.0min\n",
      "[Parallel(n_jobs=4)]: Done 4042 tasks      | elapsed:  5.0min\n",
      "[Parallel(n_jobs=4)]: Done 4992 tasks      | elapsed:  6.2min\n",
      "[Parallel(n_jobs=4)]: Done 5400 out of 5400 | elapsed:  6.7min finished\n"
     ]
    },
    {
     "data": {
      "text/plain": [
       "GridSearchCV(cv=StratifiedKFold(n_splits=5, random_state=66, shuffle=True),\n",
       "             estimator=Pipeline(steps=[('trans', TfidfVectorizer()),\n",
       "                                       ('model', MultinomialNB())]),\n",
       "             n_jobs=4,\n",
       "             param_grid={'trans__max_df': [0.85, 0.9, 0.95],\n",
       "                         'trans__max_features': [2000, 3000, 4000, 5000, 6000,\n",
       "                                                 7000],\n",
       "                         'trans__min_df': [2, 3, 4, 5],\n",
       "                         'trans__ngram_range': [(1, 1), (1, 2), (1, 3), (2, 2),\n",
       "                                                (3, 3)],\n",
       "                         'trans__stop_words': ['english', None,\n",
       "                                               ['depression', 'shower thoughts',\n",
       "                                                'shower', 'thoughts']]},\n",
       "             verbose=1)"
      ]
     },
     "execution_count": 74,
     "metadata": {},
     "output_type": "execute_result"
    }
   ],
   "source": [
    "pipe = Pipeline([\n",
    "    ('trans', TfidfVectorizer()),\n",
    "    ('model', MultinomialNB())\n",
    "])\n",
    "\n",
    "pipe_params = {'trans__max_features': [2000,3000,4000,5000,6000,7000],\n",
    "              'trans__min_df': [2,3,4,5],\n",
    "              'trans__max_df': [.85,.9,.95],\n",
    "              'trans__ngram_range': [(1,1),(1,2),(1,3),(2,2),(3,3)],\n",
    "              'trans__stop_words': ['english', None, add_words],\n",
    "               \n",
    "}\n",
    "\n",
    "cv_folds = StratifiedKFold(shuffle=True, random_state=66)\n",
    "\n",
    "gs = GridSearchCV(pipe,\n",
    "                  pipe_params,\n",
    "                  cv = cv_folds, verbose=1, n_jobs=4)\n",
    "\n",
    "gs.fit(X_stem_train, y_stem_train)"
   ]
  },
  {
   "cell_type": "code",
   "execution_count": 75,
   "metadata": {},
   "outputs": [
    {
     "data": {
      "text/plain": [
       "({'trans__max_df': 0.85,\n",
       "  'trans__max_features': 7000,\n",
       "  'trans__min_df': 3,\n",
       "  'trans__ngram_range': (1, 2),\n",
       "  'trans__stop_words': None},\n",
       " 0.9085820895522388,\n",
       " Pipeline(steps=[('trans',\n",
       "                  TfidfVectorizer(max_df=0.85, max_features=7000, min_df=3,\n",
       "                                  ngram_range=(1, 2))),\n",
       "                 ('model', MultinomialNB())]))"
      ]
     },
     "execution_count": 75,
     "metadata": {},
     "output_type": "execute_result"
    }
   ],
   "source": [
    "gs.best_params_, gs.best_score_, gs.best_estimator_"
   ]
  },
  {
   "cell_type": "code",
   "execution_count": 76,
   "metadata": {},
   "outputs": [
    {
     "data": {
      "text/plain": [
       "(0.9351492537313433, 0.9174242424242425)"
      ]
     },
     "execution_count": 76,
     "metadata": {},
     "output_type": "execute_result"
    }
   ],
   "source": [
    "gs.score(X_stem_train, y_stem_train), gs.score(X_stem_test, y_stem_test)"
   ]
  },
  {
   "cell_type": "code",
   "execution_count": 77,
   "metadata": {},
   "outputs": [
    {
     "name": "stdout",
     "output_type": "stream",
     "text": [
      "Specificity: 0.9369671132764921 Sensitivity: 0.8980699638118215\n"
     ]
    },
    {
     "data": {
      "image/png": "[encoded data removed]",
      "text/plain": [
       "<Figure size 432x288 with 2 Axes>"
      ]
     },
     "metadata": {
      "needs_background": "light"
     },
     "output_type": "display_data"
    }
   ],
   "source": [
    "preds = gs.predict(X_stem_test)\n",
    "tn, fp, fn, tp = confusion_matrix(y_stem_test, preds).ravel()\n",
    "plot_confusion_matrix(gs, X_stem_test, y_stem_test, cmap='Greens', values_format='d');\n",
    "\n",
    "# Specificity\n",
    "spec = tn / (tn + fp)\n",
    "# Sensitivity\n",
    "sen = tp / (tp + fn)\n",
    "print(\"Specificity:\", spec, \"Sensitivity:\", sen)"
   ]
  },
  {
   "cell_type": "markdown",
   "metadata": {},
   "source": [
    "# <font color='green'>TFID and RandomForest</font>\n",
    "\n",
    "---\n",
    "This is the random forest that I will compare to my best model."
   ]
  },
  {
   "cell_type": "code",
   "execution_count": 97,
   "metadata": {},
   "outputs": [
    {
     "name": "stdout",
     "output_type": "stream",
     "text": [
      "Fitting 5 folds for each of 360 candidates, totalling 1800 fits\n"
     ]
    },
    {
     "name": "stderr",
     "output_type": "stream",
     "text": [
      "[Parallel(n_jobs=4)]: Using backend LokyBackend with 4 concurrent workers.\n",
      "[Parallel(n_jobs=4)]: Done  42 tasks      | elapsed:  2.6min\n",
      "[Parallel(n_jobs=4)]: Done 192 tasks      | elapsed:  8.8min\n",
      "[Parallel(n_jobs=4)]: Done 442 tasks      | elapsed: 15.1min\n",
      "[Parallel(n_jobs=4)]: Done 792 tasks      | elapsed: 16.0min\n",
      "[Parallel(n_jobs=4)]: Done 1242 tasks      | elapsed: 17.0min\n",
      "[Parallel(n_jobs=4)]: Done 1792 tasks      | elapsed: 18.4min\n",
      "[Parallel(n_jobs=4)]: Done 1800 out of 1800 | elapsed: 18.5min finished\n"
     ]
    },
    {
     "data": {
      "text/plain": [
       "GridSearchCV(cv=StratifiedKFold(n_splits=5, random_state=66, shuffle=True),\n",
       "             estimator=Pipeline(steps=[('trans', TfidfVectorizer()),\n",
       "                                       ('model', RandomForestClassifier())]),\n",
       "             n_jobs=4,\n",
       "             param_grid={'model__max_depth': [None, 3, 4, 5, 6],\n",
       "                         'model__max_features': ['auto', 'log2'],\n",
       "                         'model__min_samples_leaf': [1, 2],\n",
       "                         'model__n_estimators': [100, 125, 150],\n",
       "                         'trans__ngram_range': [(1, 1), (2, 2), (3, 3)],\n",
       "                         'trans__stop_words': ['english', None]},\n",
       "             verbose=1)"
      ]
     },
     "execution_count": 97,
     "metadata": {},
     "output_type": "execute_result"
    }
   ],
   "source": [
    "pipe2 = Pipeline([\n",
    "    ('trans', TfidfVectorizer()),\n",
    "    ('model', RandomForestClassifier())\n",
    "])\n",
    "\n",
    "pipe_params2 = {\n",
    "              'trans__ngram_range': [(1,1),(2,2),(3,3)], # dont go too crazy\n",
    "              'trans__stop_words': ['english', None],\n",
    "              'model__n_estimators':[100, 125, 150],\n",
    "              'model__max_depth': [None,3,4, 5, 6],\n",
    "              'model__max_features':['auto','log2'],\n",
    "#               'model__min_samples_splits': [2,3],\n",
    "              'model__min_samples_leaf':[1,2],\n",
    "}\n",
    "\n",
    "cv_folds = StratifiedKFold(shuffle=True, random_state=66)\n",
    "\n",
    "gs2 = GridSearchCV(pipe2,\n",
    "                  pipe_params2,\n",
    "                  cv = cv_folds, verbose=1, n_jobs=4)\n",
    "\n",
    "gs2.fit(X_stem_train, y_stem_train)"
   ]
  },
  {
   "cell_type": "code",
   "execution_count": 98,
   "metadata": {},
   "outputs": [
    {
     "data": {
      "text/plain": [
       "({'model__max_depth': None,\n",
       "  'model__max_features': 'log2',\n",
       "  'model__min_samples_leaf': 1,\n",
       "  'model__n_estimators': 150,\n",
       "  'trans__ngram_range': (1, 1),\n",
       "  'trans__stop_words': None},\n",
       " 0.9120149253731343,\n",
       " Pipeline(steps=[('trans', TfidfVectorizer()),\n",
       "                 ('model',\n",
       "                  RandomForestClassifier(max_features='log2',\n",
       "                                         n_estimators=150))]))"
      ]
     },
     "execution_count": 98,
     "metadata": {},
     "output_type": "execute_result"
    }
   ],
   "source": [
    "gs2.best_params_, gs2.best_score_, gs2.best_estimator_"
   ]
  },
  {
   "cell_type": "code",
   "execution_count": 99,
   "metadata": {},
   "outputs": [
    {
     "data": {
      "text/plain": [
       "(0.9982089552238806, 0.9168181818181819)"
      ]
     },
     "execution_count": 99,
     "metadata": {},
     "output_type": "execute_result"
    }
   ],
   "source": [
    "gs2.score(X_stem_train, y_stem_train), gs2.score(X_stem_test, y_stem_test)"
   ]
  },
  {
   "cell_type": "code",
   "execution_count": 100,
   "metadata": {},
   "outputs": [
    {
     "name": "stdout",
     "output_type": "stream",
     "text": [
      "Specificity: 0.8982947624847747 Sensitivity: 0.9351628468033776\n"
     ]
    },
    {
     "data": {
      "image/png": "[encoded data removed]",
      "text/plain": [
       "<Figure size 432x288 with 2 Axes>"
      ]
     },
     "metadata": {
      "needs_background": "light"
     },
     "output_type": "display_data"
    }
   ],
   "source": [
    "preds = gs2.predict(X_stem_test)\n",
    "tn, fp, fn, tp = confusion_matrix(y_stem_test, preds).ravel()\n",
    "plot_confusion_matrix(gs2, X_stem_test, y_stem_test, cmap='Greens', values_format='d');\n",
    "\n",
    "# Specificity\n",
    "spec = tn / (tn + fp)\n",
    "# Sensitivity\n",
    "sen = tp / (tp + fn)\n",
    "print(\"Specificity:\", spec, \"Sensitivity:\", sen)"
   ]
  },
  {
   "cell_type": "markdown",
   "metadata": {},
   "source": [
    "I will pickle these results as well."
   ]
  },
  {
   "cell_type": "code",
   "execution_count": 101,
   "metadata": {},
   "outputs": [
    {
     "data": {
      "image/png": "[encoded data removed]",
      "text/plain": [
       "<Figure size 432x288 with 2 Axes>"
      ]
     },
     "metadata": {
      "needs_background": "light"
     },
     "output_type": "display_data"
    }
   ],
   "source": [
    "# pickle model\n",
    "pickle.dump(gs2, open('./assets/forest_model.pkl', 'wb+'))\n",
    "# pickle confusion matrix\n",
    "pickle.dump(plot_confusion_matrix(gs2, X_stem_test, y_stem_test, cmap='Blues', values_format='d'), \n",
    "            open('./assets/forest_confusionmatrix.pkl','wb+'))\n",
    "# pickle train and test score\n",
    "pickle.dump(gs2.score(X_stem_train, y_stem_train), open('./assets/forest_train_score.pkl','wb+'))\n",
    "pickle.dump(gs2.score(X_stem_test, y_stem_test), open('./assets/forest_test_score.pkl','wb+'))"
   ]
  },
  {
   "cell_type": "markdown",
   "metadata": {},
   "source": [
    "### End of modeling\n",
    "\n",
    "--- \n",
    "Could I have done more? Sure, however, due to time constraints it ends here. **I felt sufficient with what I have accomplished thus far.**"
   ]
  },
  {
   "cell_type": "code",
   "execution_count": 107,
   "metadata": {},
   "outputs": [
    {
     "data": {
      "text/plain": [
       "1132     ['the', 'most', 'futurist', 'thing', 'about', ...\n",
       "5661     ['if', 'ʇıppǝɹ', 'analyz', 'the', 'person', 'a...\n",
       "7368     ['all', 'meme', 'are', 'nsfw', 'becaus', 'you'...\n",
       "1806                              ['make', 'you', 'think']\n",
       "19737    ['what', 'deal', 'with', 'depress', 'alon', 'f...\n",
       "Name: pstem_words, dtype: object"
      ]
     },
     "execution_count": 107,
     "metadata": {},
     "output_type": "execute_result"
    }
   ],
   "source": [
    "# Pickle the test stem models\n",
    "X_stem_test.head()"
   ]
  },
  {
   "cell_type": "code",
   "execution_count": 108,
   "metadata": {},
   "outputs": [
    {
     "data": {
      "text/plain": [
       "1132     0\n",
       "5661     0\n",
       "7368     0\n",
       "1806     0\n",
       "19737    1\n",
       "Name: subreddit, dtype: int64"
      ]
     },
     "execution_count": 108,
     "metadata": {},
     "output_type": "execute_result"
    }
   ],
   "source": [
    "y_stem_test.head()"
   ]
  },
  {
   "cell_type": "code",
   "execution_count": 109,
   "metadata": {},
   "outputs": [],
   "source": [
    "pickle.dump(X_stem_test, open('./assets/X_stem_test.pkl', 'wb+'))\n",
    "pickle.dump(y_stem_test, open('./assets/y_stem_test.pkl', 'wb+'))"
   ]
  },
  {
   "cell_type": "code",
   "execution_count": null,
   "metadata": {},
   "outputs": [],
   "source": []
  }
 ],
 "metadata": {
  "kernelspec": {
   "display_name": "Python [conda env:dsi]",
   "language": "python",
   "name": "conda-env-dsi-py"
  },
  "language_info": {
   "codemirror_mode": {
    "name": "ipython",
    "version": 3
   },
   "file_extension": ".py",
   "mimetype": "text/x-python",
   "name": "python",
   "nbconvert_exporter": "python",
   "pygments_lexer": "ipython3",
   "version": "3.8.3"
  }
 },
 "nbformat": 4,
 "nbformat_minor": 4
}
